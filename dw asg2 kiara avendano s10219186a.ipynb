{
 "cells": [
  {
   "cell_type": "markdown",
   "id": "6fbd8d69",
   "metadata": {},
   "source": [
    "<table class=\"table table-bordered\">\n",
    "    <tr>\n",
    "        <th style=\"width:250px\"><img src='https://www.np.edu.sg/PublishingImages/Pages/default/odp/ICT.jpg' style=\"width: 100%; height: 125px; \"></th>\n",
    "        <th style=\"text-align:center;\"><h1>Data Wrangling</h1><h2>Assignment 2</h2><h3>Diploma in Data Science</h3></th>\n",
    "    </tr>\n",
    "</table>"
   ]
  },
  {
   "cell_type": "markdown",
   "id": "1b97a83c",
   "metadata": {},
   "source": [
    "#### <center> Kiara Avendano ( s10219186A )\n",
    "##### <center> Assignment 2\n"
   ]
  },
  {
   "cell_type": "markdown",
   "id": "4ca9b2b2",
   "metadata": {},
   "source": [
    "# Links <a id=\"top\"></a>"
   ]
  },
  {
   "cell_type": "markdown",
   "id": "e8c86fb4",
   "metadata": {},
   "source": [
    "## 1 [Loading](#dl)\n",
    "   - [1.1 Exploring](#de)\n",
    "\n",
    "## 2 [Wrangling](#dw)\n",
    "   - [2.1 Results](#results)\n",
    "   - [2.2 Status](#status)\n",
    "   - [2.3 Qualifiers](#qualifiers)\n",
    "   - [2.4 Laps](#laps)\n",
    "   - [2.5 Drivers](#drivers)\n",
    "   - [2.6 Races](#race)\n",
    "   - [2.7 Circuits](#circuits)\n",
    "   - [2.8 Final](#final)\n",
    "\n",
    "## 3 [Cleansing](#dc)\n",
    "   - [3.1 Missing Value Imputation](#mvi)\n",
    "   \n",
    "## 4 [Model](#ai)\n",
    "   - [4.1 Naive Baseline](#naive)\n",
    "   - [4.2 Final Model](#rfm)\n",
    "   \n",
    "## 5 [Report](#report)"
   ]
  },
  {
   "cell_type": "markdown",
   "id": "a27e0328",
   "metadata": {},
   "source": [
    "## Loading <a id=\"dl\"></a>"
   ]
  },
  {
   "cell_type": "code",
   "execution_count": 1,
   "id": "e0656a02",
   "metadata": {},
   "outputs": [],
   "source": [
    "import numpy as np\n",
    "import seaborn as sns\n",
    "import pandas as pd\n",
    "import matplotlib.pyplot as plt\n",
    "import regex as re\n",
    "import datetime"
   ]
  },
  {
   "cell_type": "code",
   "execution_count": 2,
   "id": "9efc0262",
   "metadata": {},
   "outputs": [],
   "source": [
    "results = pd.read_csv(\"./f1db_csv_mod/results_mod.csv\",na_values = r\"\\N\")\n",
    "status = pd.read_csv(\"./f1db_csv_mod/status_mod.csv\",na_values = r\"\\N\")"
   ]
  },
  {
   "cell_type": "code",
   "execution_count": 3,
   "id": "e1b43932",
   "metadata": {},
   "outputs": [],
   "source": [
    "qualifiers = pd.read_csv(\"./f1db_csv_mod/qualifying_mod.csv\",na_values = r\"\\N\")\n",
    "laps = pd.read_csv(\"./f1db_csv_mod/lap_times_mod.csv\",na_values = r\"\\N\")"
   ]
  },
  {
   "cell_type": "code",
   "execution_count": 4,
   "id": "fa7106b9",
   "metadata": {},
   "outputs": [],
   "source": [
    "drivers = pd.read_csv(\"./f1db_csv_mod/drivers_mod.csv\",na_values = r\"\\N\")\n",
    "drivers = drivers.loc[:,[\"driverId\",\"dob\"]]"
   ]
  },
  {
   "cell_type": "code",
   "execution_count": 5,
   "id": "181e4e5f",
   "metadata": {},
   "outputs": [],
   "source": [
    "races = pd.read_csv(\"./f1db_csv_mod/races_mod.csv\",na_values = r\"\\N\")\n",
    "races = races.iloc[:,[0,1,2,4]]"
   ]
  },
  {
   "cell_type": "code",
   "execution_count": 6,
   "id": "d67ea189",
   "metadata": {},
   "outputs": [],
   "source": [
    "# process the circuit information\n",
    "circuits = pd.read_csv(\"./f1db_csv_mod/circuits_mod.csv\",na_values = r\"\\N\")\n",
    "circuits = circuits.loc[:,[\"circuitId\", \"name\",\"lat\",\"lng\",\"alt\"]]"
   ]
  },
  {
   "cell_type": "markdown",
   "id": "1a24d1ce",
   "metadata": {},
   "source": [
    "[Back to links](#top)"
   ]
  },
  {
   "cell_type": "markdown",
   "id": "7edb521f",
   "metadata": {},
   "source": [
    "### Exploring <a id=\"de\"></a>"
   ]
  },
  {
   "cell_type": "code",
   "execution_count": 7,
   "id": "fd88af7b",
   "metadata": {},
   "outputs": [
    {
     "data": {
      "text/html": [
       "<div>\n",
       "<style scoped>\n",
       "    .dataframe tbody tr th:only-of-type {\n",
       "        vertical-align: middle;\n",
       "    }\n",
       "\n",
       "    .dataframe tbody tr th {\n",
       "        vertical-align: top;\n",
       "    }\n",
       "\n",
       "    .dataframe thead th {\n",
       "        text-align: right;\n",
       "    }\n",
       "</style>\n",
       "<table border=\"1\" class=\"dataframe\">\n",
       "  <thead>\n",
       "    <tr style=\"text-align: right;\">\n",
       "      <th></th>\n",
       "      <th>resultId</th>\n",
       "      <th>raceId</th>\n",
       "      <th>driverId</th>\n",
       "      <th>constructorId</th>\n",
       "      <th>number</th>\n",
       "      <th>grid</th>\n",
       "      <th>position</th>\n",
       "      <th>positionText</th>\n",
       "      <th>positionOrder</th>\n",
       "      <th>points</th>\n",
       "      <th>laps</th>\n",
       "      <th>time</th>\n",
       "      <th>milliseconds</th>\n",
       "      <th>fastestLap</th>\n",
       "      <th>rank</th>\n",
       "      <th>fastestLapTime</th>\n",
       "      <th>fastestLapSpeed</th>\n",
       "      <th>statusId</th>\n",
       "    </tr>\n",
       "  </thead>\n",
       "  <tbody>\n",
       "    <tr>\n",
       "      <th>0</th>\n",
       "      <td>1</td>\n",
       "      <td>18</td>\n",
       "      <td>1</td>\n",
       "      <td>1</td>\n",
       "      <td>22.0</td>\n",
       "      <td>1</td>\n",
       "      <td>1.0</td>\n",
       "      <td>1</td>\n",
       "      <td>1</td>\n",
       "      <td>10.0</td>\n",
       "      <td>58</td>\n",
       "      <td>34:50.6</td>\n",
       "      <td>5690616.0</td>\n",
       "      <td>39.0</td>\n",
       "      <td>2.0</td>\n",
       "      <td>01:27.5</td>\n",
       "      <td>218.300</td>\n",
       "      <td>1</td>\n",
       "    </tr>\n",
       "    <tr>\n",
       "      <th>1</th>\n",
       "      <td>2</td>\n",
       "      <td>18</td>\n",
       "      <td>2</td>\n",
       "      <td>2</td>\n",
       "      <td>3.0</td>\n",
       "      <td>5</td>\n",
       "      <td>2.0</td>\n",
       "      <td>2</td>\n",
       "      <td>2</td>\n",
       "      <td>8.0</td>\n",
       "      <td>58</td>\n",
       "      <td>5.478</td>\n",
       "      <td>5696094.0</td>\n",
       "      <td>41.0</td>\n",
       "      <td>3.0</td>\n",
       "      <td>01:27.7</td>\n",
       "      <td>217.586</td>\n",
       "      <td>1</td>\n",
       "    </tr>\n",
       "    <tr>\n",
       "      <th>2</th>\n",
       "      <td>3</td>\n",
       "      <td>18</td>\n",
       "      <td>3</td>\n",
       "      <td>3</td>\n",
       "      <td>7.0</td>\n",
       "      <td>7</td>\n",
       "      <td>3.0</td>\n",
       "      <td>3</td>\n",
       "      <td>3</td>\n",
       "      <td>6.0</td>\n",
       "      <td>58</td>\n",
       "      <td>8.163</td>\n",
       "      <td>5698779.0</td>\n",
       "      <td>41.0</td>\n",
       "      <td>5.0</td>\n",
       "      <td>01:28.1</td>\n",
       "      <td>216.719</td>\n",
       "      <td>1</td>\n",
       "    </tr>\n",
       "    <tr>\n",
       "      <th>3</th>\n",
       "      <td>4</td>\n",
       "      <td>18</td>\n",
       "      <td>4</td>\n",
       "      <td>4</td>\n",
       "      <td>5.0</td>\n",
       "      <td>11</td>\n",
       "      <td>4.0</td>\n",
       "      <td>4</td>\n",
       "      <td>4</td>\n",
       "      <td>5.0</td>\n",
       "      <td>58</td>\n",
       "      <td>17.181</td>\n",
       "      <td>5707797.0</td>\n",
       "      <td>58.0</td>\n",
       "      <td>7.0</td>\n",
       "      <td>01:28.6</td>\n",
       "      <td>215.464</td>\n",
       "      <td>1</td>\n",
       "    </tr>\n",
       "    <tr>\n",
       "      <th>4</th>\n",
       "      <td>5</td>\n",
       "      <td>18</td>\n",
       "      <td>5</td>\n",
       "      <td>1</td>\n",
       "      <td>23.0</td>\n",
       "      <td>3</td>\n",
       "      <td>5.0</td>\n",
       "      <td>5</td>\n",
       "      <td>5</td>\n",
       "      <td>4.0</td>\n",
       "      <td>58</td>\n",
       "      <td>18.014</td>\n",
       "      <td>5708630.0</td>\n",
       "      <td>43.0</td>\n",
       "      <td>1.0</td>\n",
       "      <td>01:27.4</td>\n",
       "      <td>218.385</td>\n",
       "      <td>1</td>\n",
       "    </tr>\n",
       "  </tbody>\n",
       "</table>\n",
       "</div>"
      ],
      "text/plain": [
       "   resultId  raceId  driverId  constructorId  number  grid  position  \\\n",
       "0         1      18         1              1    22.0     1       1.0   \n",
       "1         2      18         2              2     3.0     5       2.0   \n",
       "2         3      18         3              3     7.0     7       3.0   \n",
       "3         4      18         4              4     5.0    11       4.0   \n",
       "4         5      18         5              1    23.0     3       5.0   \n",
       "\n",
       "  positionText  positionOrder  points  laps     time  milliseconds  \\\n",
       "0            1              1    10.0    58  34:50.6     5690616.0   \n",
       "1            2              2     8.0    58    5.478     5696094.0   \n",
       "2            3              3     6.0    58    8.163     5698779.0   \n",
       "3            4              4     5.0    58   17.181     5707797.0   \n",
       "4            5              5     4.0    58   18.014     5708630.0   \n",
       "\n",
       "   fastestLap  rank fastestLapTime  fastestLapSpeed  statusId  \n",
       "0        39.0   2.0        01:27.5          218.300         1  \n",
       "1        41.0   3.0        01:27.7          217.586         1  \n",
       "2        41.0   5.0        01:28.1          216.719         1  \n",
       "3        58.0   7.0        01:28.6          215.464         1  \n",
       "4        43.0   1.0        01:27.4          218.385         1  "
      ]
     },
     "execution_count": 7,
     "metadata": {},
     "output_type": "execute_result"
    }
   ],
   "source": [
    "results.head()"
   ]
  },
  {
   "cell_type": "code",
   "execution_count": 8,
   "id": "41dc4cf2",
   "metadata": {},
   "outputs": [
    {
     "data": {
      "text/html": [
       "<div>\n",
       "<style scoped>\n",
       "    .dataframe tbody tr th:only-of-type {\n",
       "        vertical-align: middle;\n",
       "    }\n",
       "\n",
       "    .dataframe tbody tr th {\n",
       "        vertical-align: top;\n",
       "    }\n",
       "\n",
       "    .dataframe thead th {\n",
       "        text-align: right;\n",
       "    }\n",
       "</style>\n",
       "<table border=\"1\" class=\"dataframe\">\n",
       "  <thead>\n",
       "    <tr style=\"text-align: right;\">\n",
       "      <th></th>\n",
       "      <th>statusId</th>\n",
       "      <th>status</th>\n",
       "    </tr>\n",
       "  </thead>\n",
       "  <tbody>\n",
       "    <tr>\n",
       "      <th>0</th>\n",
       "      <td>1</td>\n",
       "      <td>Finished</td>\n",
       "    </tr>\n",
       "    <tr>\n",
       "      <th>1</th>\n",
       "      <td>2</td>\n",
       "      <td>Disqualified</td>\n",
       "    </tr>\n",
       "    <tr>\n",
       "      <th>2</th>\n",
       "      <td>3</td>\n",
       "      <td>Accident</td>\n",
       "    </tr>\n",
       "    <tr>\n",
       "      <th>3</th>\n",
       "      <td>4</td>\n",
       "      <td>Collision</td>\n",
       "    </tr>\n",
       "    <tr>\n",
       "      <th>4</th>\n",
       "      <td>5</td>\n",
       "      <td>Engine</td>\n",
       "    </tr>\n",
       "  </tbody>\n",
       "</table>\n",
       "</div>"
      ],
      "text/plain": [
       "   statusId        status\n",
       "0         1      Finished\n",
       "1         2  Disqualified\n",
       "2         3      Accident\n",
       "3         4     Collision\n",
       "4         5        Engine"
      ]
     },
     "execution_count": 8,
     "metadata": {},
     "output_type": "execute_result"
    }
   ],
   "source": [
    "status.head()"
   ]
  },
  {
   "cell_type": "code",
   "execution_count": 9,
   "id": "a5d25615",
   "metadata": {},
   "outputs": [
    {
     "data": {
      "text/html": [
       "<div>\n",
       "<style scoped>\n",
       "    .dataframe tbody tr th:only-of-type {\n",
       "        vertical-align: middle;\n",
       "    }\n",
       "\n",
       "    .dataframe tbody tr th {\n",
       "        vertical-align: top;\n",
       "    }\n",
       "\n",
       "    .dataframe thead th {\n",
       "        text-align: right;\n",
       "    }\n",
       "</style>\n",
       "<table border=\"1\" class=\"dataframe\">\n",
       "  <thead>\n",
       "    <tr style=\"text-align: right;\">\n",
       "      <th></th>\n",
       "      <th>qualifyId</th>\n",
       "      <th>raceId</th>\n",
       "      <th>driverId</th>\n",
       "      <th>constructorId</th>\n",
       "      <th>number</th>\n",
       "      <th>position</th>\n",
       "      <th>q1</th>\n",
       "      <th>q2</th>\n",
       "      <th>q3</th>\n",
       "    </tr>\n",
       "  </thead>\n",
       "  <tbody>\n",
       "    <tr>\n",
       "      <th>0</th>\n",
       "      <td>1</td>\n",
       "      <td>18</td>\n",
       "      <td>1</td>\n",
       "      <td>1</td>\n",
       "      <td>22</td>\n",
       "      <td>1</td>\n",
       "      <td>1:26.572</td>\n",
       "      <td>1:25.187</td>\n",
       "      <td>1:26.714</td>\n",
       "    </tr>\n",
       "    <tr>\n",
       "      <th>1</th>\n",
       "      <td>2</td>\n",
       "      <td>18</td>\n",
       "      <td>9</td>\n",
       "      <td>2</td>\n",
       "      <td>4</td>\n",
       "      <td>2</td>\n",
       "      <td>1:26.103</td>\n",
       "      <td>1:25.315</td>\n",
       "      <td>1:26.869</td>\n",
       "    </tr>\n",
       "    <tr>\n",
       "      <th>2</th>\n",
       "      <td>3</td>\n",
       "      <td>18</td>\n",
       "      <td>5</td>\n",
       "      <td>1</td>\n",
       "      <td>23</td>\n",
       "      <td>3</td>\n",
       "      <td>1:25.664</td>\n",
       "      <td>1:25.452</td>\n",
       "      <td>1:27.079</td>\n",
       "    </tr>\n",
       "    <tr>\n",
       "      <th>3</th>\n",
       "      <td>4</td>\n",
       "      <td>18</td>\n",
       "      <td>13</td>\n",
       "      <td>6</td>\n",
       "      <td>2</td>\n",
       "      <td>4</td>\n",
       "      <td>1:25.994</td>\n",
       "      <td>1:25.691</td>\n",
       "      <td>1:27.178</td>\n",
       "    </tr>\n",
       "    <tr>\n",
       "      <th>4</th>\n",
       "      <td>5</td>\n",
       "      <td>18</td>\n",
       "      <td>2</td>\n",
       "      <td>2</td>\n",
       "      <td>3</td>\n",
       "      <td>5</td>\n",
       "      <td>1:25.960</td>\n",
       "      <td>1:25.518</td>\n",
       "      <td>1:27.236</td>\n",
       "    </tr>\n",
       "  </tbody>\n",
       "</table>\n",
       "</div>"
      ],
      "text/plain": [
       "   qualifyId  raceId  driverId  constructorId  number  position        q1  \\\n",
       "0          1      18         1              1      22         1  1:26.572   \n",
       "1          2      18         9              2       4         2  1:26.103   \n",
       "2          3      18         5              1      23         3  1:25.664   \n",
       "3          4      18        13              6       2         4  1:25.994   \n",
       "4          5      18         2              2       3         5  1:25.960   \n",
       "\n",
       "         q2        q3  \n",
       "0  1:25.187  1:26.714  \n",
       "1  1:25.315  1:26.869  \n",
       "2  1:25.452  1:27.079  \n",
       "3  1:25.691  1:27.178  \n",
       "4  1:25.518  1:27.236  "
      ]
     },
     "execution_count": 9,
     "metadata": {},
     "output_type": "execute_result"
    }
   ],
   "source": [
    "qualifiers.head()"
   ]
  },
  {
   "cell_type": "code",
   "execution_count": 10,
   "id": "9902125b",
   "metadata": {},
   "outputs": [
    {
     "data": {
      "text/html": [
       "<div>\n",
       "<style scoped>\n",
       "    .dataframe tbody tr th:only-of-type {\n",
       "        vertical-align: middle;\n",
       "    }\n",
       "\n",
       "    .dataframe tbody tr th {\n",
       "        vertical-align: top;\n",
       "    }\n",
       "\n",
       "    .dataframe thead th {\n",
       "        text-align: right;\n",
       "    }\n",
       "</style>\n",
       "<table border=\"1\" class=\"dataframe\">\n",
       "  <thead>\n",
       "    <tr style=\"text-align: right;\">\n",
       "      <th></th>\n",
       "      <th>raceId</th>\n",
       "      <th>driverId</th>\n",
       "      <th>lap</th>\n",
       "      <th>position</th>\n",
       "      <th>time</th>\n",
       "      <th>milliseconds</th>\n",
       "    </tr>\n",
       "  </thead>\n",
       "  <tbody>\n",
       "    <tr>\n",
       "      <th>0</th>\n",
       "      <td>841</td>\n",
       "      <td>20</td>\n",
       "      <td>1</td>\n",
       "      <td>1</td>\n",
       "      <td>01:38.1</td>\n",
       "      <td>98109</td>\n",
       "    </tr>\n",
       "    <tr>\n",
       "      <th>1</th>\n",
       "      <td>841</td>\n",
       "      <td>20</td>\n",
       "      <td>2</td>\n",
       "      <td>1</td>\n",
       "      <td>01:33.0</td>\n",
       "      <td>93006</td>\n",
       "    </tr>\n",
       "    <tr>\n",
       "      <th>2</th>\n",
       "      <td>841</td>\n",
       "      <td>20</td>\n",
       "      <td>3</td>\n",
       "      <td>1</td>\n",
       "      <td>01:32.7</td>\n",
       "      <td>92713</td>\n",
       "    </tr>\n",
       "    <tr>\n",
       "      <th>3</th>\n",
       "      <td>841</td>\n",
       "      <td>20</td>\n",
       "      <td>4</td>\n",
       "      <td>1</td>\n",
       "      <td>01:32.8</td>\n",
       "      <td>92803</td>\n",
       "    </tr>\n",
       "    <tr>\n",
       "      <th>4</th>\n",
       "      <td>841</td>\n",
       "      <td>20</td>\n",
       "      <td>5</td>\n",
       "      <td>1</td>\n",
       "      <td>01:32.3</td>\n",
       "      <td>92342</td>\n",
       "    </tr>\n",
       "  </tbody>\n",
       "</table>\n",
       "</div>"
      ],
      "text/plain": [
       "   raceId  driverId  lap  position     time  milliseconds\n",
       "0     841        20    1         1  01:38.1         98109\n",
       "1     841        20    2         1  01:33.0         93006\n",
       "2     841        20    3         1  01:32.7         92713\n",
       "3     841        20    4         1  01:32.8         92803\n",
       "4     841        20    5         1  01:32.3         92342"
      ]
     },
     "execution_count": 10,
     "metadata": {},
     "output_type": "execute_result"
    }
   ],
   "source": [
    "laps.head()"
   ]
  },
  {
   "cell_type": "code",
   "execution_count": 11,
   "id": "22a4c384",
   "metadata": {},
   "outputs": [
    {
     "data": {
      "text/html": [
       "<div>\n",
       "<style scoped>\n",
       "    .dataframe tbody tr th:only-of-type {\n",
       "        vertical-align: middle;\n",
       "    }\n",
       "\n",
       "    .dataframe tbody tr th {\n",
       "        vertical-align: top;\n",
       "    }\n",
       "\n",
       "    .dataframe thead th {\n",
       "        text-align: right;\n",
       "    }\n",
       "</style>\n",
       "<table border=\"1\" class=\"dataframe\">\n",
       "  <thead>\n",
       "    <tr style=\"text-align: right;\">\n",
       "      <th></th>\n",
       "      <th>driverId</th>\n",
       "      <th>dob</th>\n",
       "    </tr>\n",
       "  </thead>\n",
       "  <tbody>\n",
       "    <tr>\n",
       "      <th>0</th>\n",
       "      <td>1</td>\n",
       "      <td>1985-01-07</td>\n",
       "    </tr>\n",
       "    <tr>\n",
       "      <th>1</th>\n",
       "      <td>2</td>\n",
       "      <td>1977-05-10</td>\n",
       "    </tr>\n",
       "    <tr>\n",
       "      <th>2</th>\n",
       "      <td>3</td>\n",
       "      <td>1985-06-27</td>\n",
       "    </tr>\n",
       "    <tr>\n",
       "      <th>3</th>\n",
       "      <td>4</td>\n",
       "      <td>1981-07-29</td>\n",
       "    </tr>\n",
       "    <tr>\n",
       "      <th>4</th>\n",
       "      <td>5</td>\n",
       "      <td>1981-10-19</td>\n",
       "    </tr>\n",
       "  </tbody>\n",
       "</table>\n",
       "</div>"
      ],
      "text/plain": [
       "   driverId         dob\n",
       "0         1  1985-01-07\n",
       "1         2  1977-05-10\n",
       "2         3  1985-06-27\n",
       "3         4  1981-07-29\n",
       "4         5  1981-10-19"
      ]
     },
     "execution_count": 11,
     "metadata": {},
     "output_type": "execute_result"
    }
   ],
   "source": [
    "drivers.head()"
   ]
  },
  {
   "cell_type": "code",
   "execution_count": 12,
   "id": "84b586b6",
   "metadata": {},
   "outputs": [
    {
     "data": {
      "text/html": [
       "<div>\n",
       "<style scoped>\n",
       "    .dataframe tbody tr th:only-of-type {\n",
       "        vertical-align: middle;\n",
       "    }\n",
       "\n",
       "    .dataframe tbody tr th {\n",
       "        vertical-align: top;\n",
       "    }\n",
       "\n",
       "    .dataframe thead th {\n",
       "        text-align: right;\n",
       "    }\n",
       "</style>\n",
       "<table border=\"1\" class=\"dataframe\">\n",
       "  <thead>\n",
       "    <tr style=\"text-align: right;\">\n",
       "      <th></th>\n",
       "      <th>raceId</th>\n",
       "      <th>round</th>\n",
       "      <th>circuitId</th>\n",
       "      <th>date</th>\n",
       "    </tr>\n",
       "  </thead>\n",
       "  <tbody>\n",
       "    <tr>\n",
       "      <th>0</th>\n",
       "      <td>1</td>\n",
       "      <td>1</td>\n",
       "      <td>1</td>\n",
       "      <td>3/29/2009</td>\n",
       "    </tr>\n",
       "    <tr>\n",
       "      <th>1</th>\n",
       "      <td>2</td>\n",
       "      <td>2</td>\n",
       "      <td>2</td>\n",
       "      <td>4/5/12009</td>\n",
       "    </tr>\n",
       "    <tr>\n",
       "      <th>2</th>\n",
       "      <td>3</td>\n",
       "      <td>3</td>\n",
       "      <td>17</td>\n",
       "      <td>4/19/2009</td>\n",
       "    </tr>\n",
       "    <tr>\n",
       "      <th>3</th>\n",
       "      <td>4</td>\n",
       "      <td>4</td>\n",
       "      <td>3</td>\n",
       "      <td>4/26/2009</td>\n",
       "    </tr>\n",
       "    <tr>\n",
       "      <th>4</th>\n",
       "      <td>5</td>\n",
       "      <td>5</td>\n",
       "      <td>4</td>\n",
       "      <td>5/10/2009</td>\n",
       "    </tr>\n",
       "  </tbody>\n",
       "</table>\n",
       "</div>"
      ],
      "text/plain": [
       "   raceId  round  circuitId       date\n",
       "0       1      1          1  3/29/2009\n",
       "1       2      2          2  4/5/12009\n",
       "2       3      3         17  4/19/2009\n",
       "3       4      4          3  4/26/2009\n",
       "4       5      5          4  5/10/2009"
      ]
     },
     "execution_count": 12,
     "metadata": {},
     "output_type": "execute_result"
    }
   ],
   "source": [
    "races.head()"
   ]
  },
  {
   "cell_type": "code",
   "execution_count": 13,
   "id": "03c7503f",
   "metadata": {},
   "outputs": [
    {
     "data": {
      "text/html": [
       "<div>\n",
       "<style scoped>\n",
       "    .dataframe tbody tr th:only-of-type {\n",
       "        vertical-align: middle;\n",
       "    }\n",
       "\n",
       "    .dataframe tbody tr th {\n",
       "        vertical-align: top;\n",
       "    }\n",
       "\n",
       "    .dataframe thead th {\n",
       "        text-align: right;\n",
       "    }\n",
       "</style>\n",
       "<table border=\"1\" class=\"dataframe\">\n",
       "  <thead>\n",
       "    <tr style=\"text-align: right;\">\n",
       "      <th></th>\n",
       "      <th>circuitId</th>\n",
       "      <th>name</th>\n",
       "      <th>lat</th>\n",
       "      <th>lng</th>\n",
       "      <th>alt</th>\n",
       "    </tr>\n",
       "  </thead>\n",
       "  <tbody>\n",
       "    <tr>\n",
       "      <th>0</th>\n",
       "      <td>1</td>\n",
       "      <td>Albert Park Grand Prix Circuit</td>\n",
       "      <td>-37.84970</td>\n",
       "      <td>144.96800</td>\n",
       "      <td>10.0</td>\n",
       "    </tr>\n",
       "    <tr>\n",
       "      <th>1</th>\n",
       "      <td>2</td>\n",
       "      <td>Sepang International Circuit</td>\n",
       "      <td>2.76083</td>\n",
       "      <td>101.73800</td>\n",
       "      <td>18.0</td>\n",
       "    </tr>\n",
       "    <tr>\n",
       "      <th>2</th>\n",
       "      <td>3</td>\n",
       "      <td>Bahrain International Circuit</td>\n",
       "      <td>26.03250</td>\n",
       "      <td>50.51060</td>\n",
       "      <td>7.0</td>\n",
       "    </tr>\n",
       "    <tr>\n",
       "      <th>3</th>\n",
       "      <td>4</td>\n",
       "      <td>Circuit de Barcelona-Catalunya</td>\n",
       "      <td>41.57000</td>\n",
       "      <td>2.26111</td>\n",
       "      <td>109.0</td>\n",
       "    </tr>\n",
       "    <tr>\n",
       "      <th>4</th>\n",
       "      <td>5</td>\n",
       "      <td>Istanbul Park</td>\n",
       "      <td>40.95170</td>\n",
       "      <td>29.40500</td>\n",
       "      <td>130.0</td>\n",
       "    </tr>\n",
       "  </tbody>\n",
       "</table>\n",
       "</div>"
      ],
      "text/plain": [
       "   circuitId                            name       lat        lng    alt\n",
       "0          1  Albert Park Grand Prix Circuit -37.84970  144.96800   10.0\n",
       "1          2    Sepang International Circuit   2.76083  101.73800   18.0\n",
       "2          3   Bahrain International Circuit  26.03250   50.51060    7.0\n",
       "3          4  Circuit de Barcelona-Catalunya  41.57000    2.26111  109.0\n",
       "4          5                   Istanbul Park  40.95170   29.40500  130.0"
      ]
     },
     "execution_count": 13,
     "metadata": {},
     "output_type": "execute_result"
    }
   ],
   "source": [
    "circuits.head()"
   ]
  },
  {
   "cell_type": "markdown",
   "id": "24bd3728",
   "metadata": {},
   "source": [
    "[Back to links](#top)"
   ]
  },
  {
   "cell_type": "markdown",
   "id": "13b875a9",
   "metadata": {},
   "source": [
    "## Wrangling <a id=\"dw\"></a>"
   ]
  },
  {
   "cell_type": "code",
   "execution_count": 14,
   "id": "44b91d07",
   "metadata": {},
   "outputs": [],
   "source": [
    "def create_target(df1):\n",
    "    # drop rows that are not classified\n",
    "    df = df1.loc[df1[\"status\"] != \"Not classified\",:]\n",
    "    # group the statuses\n",
    "    success = [\"Finished\"]\n",
    "    dq = ['Disqualified', '+1 Lap', '+2 Laps', '+3 Laps',\n",
    "          '+4 Laps', '+5 Laps', '+6 Laps', '+7 Laps', '+8 Laps', \n",
    "          '+9 Laps', 'Retired', '+11 Laps', '+17 Laps', '+42 Laps', \n",
    "          '+13 Laps', 'Withdrew', '+12 Laps', '+26 Laps', '107% Rule' , \n",
    "          'Did not qualify', '+10 Laps' , 'Underweight', 'Excluded', \n",
    "          'Did not prequalify', 'Driver unwell', '+14 Laps', '+15 Laps',\n",
    "           '+25 Laps', '+18 Laps', '+22 Laps', '+16 Laps', '+24 Laps',\n",
    "           '+29 Laps', '+23 Laps', '+21 Laps', '+44 Laps',\n",
    "           '+30 Laps', '+19 Laps', '+46 Laps', '+20 Laps', '+49 Laps',\n",
    "          '+38 Laps', 'Illness', 'Eye injury']\n",
    "    d_i = ['Accident', 'Collision', 'Spun off', 'Fire', 'Injured', \n",
    "           'Injury', 'Fatal accident', 'Collision damage', 'Debris',\n",
    "           'Damage']\n",
    "    s_i = ['Engine', 'Gearbox', 'Transmission', 'Clutch', 'Hydraulics',\n",
    "           'Electrical', 'Radiator',\n",
    "           'Suspension', 'Brakes', 'Differential', 'Overheating',\n",
    "           'Mechanical', 'Tyre', 'Driver Seat', 'Puncture', 'Driveshaft',\n",
    "           'Fuel pressure', 'Front wing', 'Water pressure',\n",
    "           'Refuelling', 'Wheel', 'Throttle', 'Steering', 'Technical',\n",
    "           'Electronics', 'Broken wing', 'Heat shield fire', 'Exhaust',\n",
    "           'Oil leak', 'Wheel rim', 'Water leak', 'Fuel pump',\n",
    "           'Track rod', 'Oil pressure', 'Engine fire', 'Engine misfire', \n",
    "           'Tyre puncture', 'Out of fuel', 'Wheel nut', 'Pneumatics', \n",
    "           'Handling', 'Rear wing',\n",
    "           'Wheel bearing', 'Physical', 'Fuel system', 'Oil line', 'Fuel rig',\n",
    "           'Supercharger',\n",
    "           'Launch control', 'Fuel', 'Power loss', 'Vibrations', 'Safety',\n",
    "           'Drivetrain', 'Ignition' , 'Chassis', 'Battery', 'Stalled',\n",
    "           'Halfshaft', 'Safety concerns', 'Not restarted', 'Alternator', \n",
    "           'Crankshaft', 'Safety belt', 'Oil pump',   'Fuel leak', 'Injection',\n",
    "           'Distributor', 'Turbo', 'CV joint', 'Water pump', 'Spark plugs', \n",
    "           'Fuel pipe', 'Oil pipe', 'Axle', 'Water pipe', 'Magneto',\n",
    "           'Power Unit', 'ERS', 'Brake duct', 'Seat'\n",
    "    ]\n",
    "    \n",
    "    conditions = [\n",
    "        df[\"status\"].isin(success),\n",
    "        df[\"status\"].isin(dq),\n",
    "        df[\"status\"].isin(d_i),\n",
    "        df[\"status\"].isin(s_i)\n",
    "    ]\n",
    "    choices= [0,1,2,3]\n",
    "    tar = np.select(conditions, choices, default = 999)\n",
    "    df[\"target\"] = tar\n",
    "    return df\n",
    "\n",
    "def tts(df,target = \"target\"):\n",
    "    from sklearn.model_selection import train_test_split\n",
    "    X_train, X_test, y_train, y_test = train_test_split(\n",
    "    df.drop(target, axis=1), df[target], test_size=0.3, random_state = 1)\n",
    "    return X_train, X_test, y_train, y_test\n",
    "\n",
    "def lap_ms(df, col):\n",
    "    # create a series splitting the miuntes and seconds\n",
    "    MS = pd.DataFrame(df[col].str.split(\":\", expand = True))\n",
    "    MS[0] = pd.to_numeric(MS[0])\n",
    "    MS[1] = pd.to_numeric(MS[1])\n",
    "    # conversion\n",
    "    df[col] = ((MS.iloc[:,0] * 60) + MS.iloc[:,1]) * 1000\n",
    "\n",
    "def fillNA(df,col1,col2):\n",
    "    df[col1] = df[col1].fillna(df[col2])\n",
    "\n",
    "# lagshift\n",
    "# the new columns added are information known even before the grand prix weekend starts\n",
    "def lag_cols(df, columns, lag = 1):\n",
    "    for i in columns:\n",
    "        new_col = \"prev_\" + i\n",
    "        df[new_col] = df[i].shift(lag)\n",
    "    df = df.groupby('driverId').apply(lambda group: group.iloc[1:])\n",
    "    df.reset_index(drop = True, inplace = True)\n",
    "    return df"
   ]
  },
  {
   "cell_type": "markdown",
   "id": "bf74bf95",
   "metadata": {},
   "source": [
    "### Results <a id=\"results\"></a>"
   ]
  },
  {
   "cell_type": "code",
   "execution_count": 15,
   "id": "22a7c99e",
   "metadata": {
    "scrolled": true
   },
   "outputs": [],
   "source": [
    "results[\"prev_champion \"] = np.where(results[\"number\"] == 1, 1,0)"
   ]
  },
  {
   "cell_type": "code",
   "execution_count": 16,
   "id": "8c6690b9",
   "metadata": {},
   "outputs": [],
   "source": [
    "results.drop(columns = [\"position\",\"positionText\",\"time\",\"number\"], inplace = True)"
   ]
  },
  {
   "cell_type": "code",
   "execution_count": 17,
   "id": "91e47929",
   "metadata": {},
   "outputs": [],
   "source": [
    "lap_ms(results,\"fastestLapTime\")"
   ]
  },
  {
   "cell_type": "markdown",
   "id": "9d6488bc",
   "metadata": {},
   "source": [
    "[Back to links](#top)"
   ]
  },
  {
   "cell_type": "markdown",
   "id": "67eb9216",
   "metadata": {},
   "source": [
    "### Status <a id=\"status\"></a>"
   ]
  },
  {
   "cell_type": "code",
   "execution_count": 18,
   "id": "9501e26f",
   "metadata": {},
   "outputs": [
    {
     "name": "stderr",
     "output_type": "stream",
     "text": [
      "C:\\Users\\Kayen\\AppData\\Local\\Temp/ipykernel_16376/2599796575.py:49: SettingWithCopyWarning: \n",
      "A value is trying to be set on a copy of a slice from a DataFrame.\n",
      "Try using .loc[row_indexer,col_indexer] = value instead\n",
      "\n",
      "See the caveats in the documentation: https://pandas.pydata.org/pandas-docs/stable/user_guide/indexing.html#returning-a-view-versus-a-copy\n",
      "  df[\"target\"] = tar\n"
     ]
    }
   ],
   "source": [
    "status = create_target(status)"
   ]
  },
  {
   "cell_type": "markdown",
   "id": "99cd68f4",
   "metadata": {},
   "source": [
    "[Back to links](#top)"
   ]
  },
  {
   "cell_type": "markdown",
   "id": "e89d0392",
   "metadata": {},
   "source": [
    "### Qualifiers <a id=\"qualifiers\"></a>"
   ]
  },
  {
   "cell_type": "code",
   "execution_count": 19,
   "id": "e98d5ec8",
   "metadata": {},
   "outputs": [],
   "source": [
    "lap_ms(qualifiers, \"q1\")\n",
    "lap_ms(qualifiers, \"q2\")\n",
    "lap_ms(qualifiers, \"q3\")"
   ]
  },
  {
   "cell_type": "code",
   "execution_count": 20,
   "id": "d2bad542",
   "metadata": {},
   "outputs": [],
   "source": [
    "qualifiers.drop(columns = [\"qualifyId\",\"constructorId\",\"number\"], inplace  = True)"
   ]
  },
  {
   "cell_type": "markdown",
   "id": "cc9a37f5",
   "metadata": {},
   "source": [
    "[Back to links](#top)"
   ]
  },
  {
   "cell_type": "markdown",
   "id": "3d8a0c8c",
   "metadata": {},
   "source": [
    "### Laps <a id=\"laps\"></a>"
   ]
  },
  {
   "cell_type": "code",
   "execution_count": 21,
   "id": "fb52f2ed",
   "metadata": {},
   "outputs": [],
   "source": [
    "lap_ms(laps, \"time\")\n",
    "laps.drop(columns = \"milliseconds\",inplace = True)"
   ]
  },
  {
   "cell_type": "code",
   "execution_count": 22,
   "id": "d8355f84",
   "metadata": {},
   "outputs": [],
   "source": [
    "fastest_L = laps.groupby([ \"driverId\", \"raceId\"])[\"time\"].min()\n",
    "fastest_L = fastest_L.reset_index()\n",
    "fastest_L = pd.merge(fastest_L, laps, on =[\"driverId\", \"raceId\",\"time\"])\n",
    "fastest_L.drop_duplicates([\"driverId\", \"raceId\"], inplace = True)\n",
    "fastest_L.drop(columns = \"position\", inplace = True)\n",
    "\n",
    "# get average time taken for each lap\n",
    "average_L = laps.groupby([\"driverId\", \"raceId\"])[\"time\"].mean()\n",
    "average_L = average_L.reset_index()\n",
    "average_L.columns =[\"driverId\", \"raceId\", \"avg_lap\"]"
   ]
  },
  {
   "cell_type": "code",
   "execution_count": 23,
   "id": "2210114e",
   "metadata": {},
   "outputs": [
    {
     "data": {
      "text/html": [
       "<div>\n",
       "<style scoped>\n",
       "    .dataframe tbody tr th:only-of-type {\n",
       "        vertical-align: middle;\n",
       "    }\n",
       "\n",
       "    .dataframe tbody tr th {\n",
       "        vertical-align: top;\n",
       "    }\n",
       "\n",
       "    .dataframe thead th {\n",
       "        text-align: right;\n",
       "    }\n",
       "</style>\n",
       "<table border=\"1\" class=\"dataframe\">\n",
       "  <thead>\n",
       "    <tr style=\"text-align: right;\">\n",
       "      <th></th>\n",
       "      <th>driverId</th>\n",
       "      <th>raceId</th>\n",
       "      <th>time</th>\n",
       "      <th>lap</th>\n",
       "    </tr>\n",
       "  </thead>\n",
       "  <tbody>\n",
       "    <tr>\n",
       "      <th>0</th>\n",
       "      <td>1</td>\n",
       "      <td>1</td>\n",
       "      <td>89000.0</td>\n",
       "      <td>39</td>\n",
       "    </tr>\n",
       "    <tr>\n",
       "      <th>1</th>\n",
       "      <td>1</td>\n",
       "      <td>2</td>\n",
       "      <td>99100.0</td>\n",
       "      <td>17</td>\n",
       "    </tr>\n",
       "    <tr>\n",
       "      <th>2</th>\n",
       "      <td>1</td>\n",
       "      <td>3</td>\n",
       "      <td>114700.0</td>\n",
       "      <td>39</td>\n",
       "    </tr>\n",
       "    <tr>\n",
       "      <th>3</th>\n",
       "      <td>1</td>\n",
       "      <td>4</td>\n",
       "      <td>94900.0</td>\n",
       "      <td>13</td>\n",
       "    </tr>\n",
       "    <tr>\n",
       "      <th>4</th>\n",
       "      <td>1</td>\n",
       "      <td>5</td>\n",
       "      <td>83800.0</td>\n",
       "      <td>29</td>\n",
       "    </tr>\n",
       "  </tbody>\n",
       "</table>\n",
       "</div>"
      ],
      "text/plain": [
       "   driverId  raceId      time  lap\n",
       "0         1       1   89000.0   39\n",
       "1         1       2   99100.0   17\n",
       "2         1       3  114700.0   39\n",
       "3         1       4   94900.0   13\n",
       "4         1       5   83800.0   29"
      ]
     },
     "execution_count": 23,
     "metadata": {},
     "output_type": "execute_result"
    }
   ],
   "source": [
    "fastest_L.head()"
   ]
  },
  {
   "cell_type": "code",
   "execution_count": 24,
   "id": "98eda514",
   "metadata": {},
   "outputs": [
    {
     "data": {
      "text/html": [
       "<div>\n",
       "<style scoped>\n",
       "    .dataframe tbody tr th:only-of-type {\n",
       "        vertical-align: middle;\n",
       "    }\n",
       "\n",
       "    .dataframe tbody tr th {\n",
       "        vertical-align: top;\n",
       "    }\n",
       "\n",
       "    .dataframe thead th {\n",
       "        text-align: right;\n",
       "    }\n",
       "</style>\n",
       "<table border=\"1\" class=\"dataframe\">\n",
       "  <thead>\n",
       "    <tr style=\"text-align: right;\">\n",
       "      <th></th>\n",
       "      <th>driverId</th>\n",
       "      <th>raceId</th>\n",
       "      <th>avg_lap</th>\n",
       "    </tr>\n",
       "  </thead>\n",
       "  <tbody>\n",
       "    <tr>\n",
       "      <th>0</th>\n",
       "      <td>1</td>\n",
       "      <td>1</td>\n",
       "      <td>97560.344828</td>\n",
       "    </tr>\n",
       "    <tr>\n",
       "      <th>1</th>\n",
       "      <td>1</td>\n",
       "      <td>2</td>\n",
       "      <td>109396.774194</td>\n",
       "    </tr>\n",
       "    <tr>\n",
       "      <th>2</th>\n",
       "      <td>1</td>\n",
       "      <td>3</td>\n",
       "      <td>127417.857143</td>\n",
       "    </tr>\n",
       "    <tr>\n",
       "      <th>3</th>\n",
       "      <td>1</td>\n",
       "      <td>4</td>\n",
       "      <td>97024.561404</td>\n",
       "    </tr>\n",
       "    <tr>\n",
       "      <th>4</th>\n",
       "      <td>1</td>\n",
       "      <td>5</td>\n",
       "      <td>89855.384615</td>\n",
       "    </tr>\n",
       "  </tbody>\n",
       "</table>\n",
       "</div>"
      ],
      "text/plain": [
       "   driverId  raceId        avg_lap\n",
       "0         1       1   97560.344828\n",
       "1         1       2  109396.774194\n",
       "2         1       3  127417.857143\n",
       "3         1       4   97024.561404\n",
       "4         1       5   89855.384615"
      ]
     },
     "execution_count": 24,
     "metadata": {},
     "output_type": "execute_result"
    }
   ],
   "source": [
    "average_L.head()"
   ]
  },
  {
   "cell_type": "markdown",
   "id": "d55c29e2",
   "metadata": {},
   "source": [
    "[Back to links](#top)"
   ]
  },
  {
   "cell_type": "markdown",
   "id": "540ba53c",
   "metadata": {},
   "source": [
    "### Drivers <a id=\"drivers\"></a>"
   ]
  },
  {
   "cell_type": "code",
   "execution_count": 25,
   "id": "f388976c",
   "metadata": {},
   "outputs": [],
   "source": [
    "drivers.dob = pd.to_datetime(drivers.dob)"
   ]
  },
  {
   "cell_type": "markdown",
   "id": "64e6570f",
   "metadata": {},
   "source": [
    "[Back to links](#top)"
   ]
  },
  {
   "cell_type": "markdown",
   "id": "3665eee8",
   "metadata": {},
   "source": [
    "### Races <a id=\"race\"></a>"
   ]
  },
  {
   "cell_type": "code",
   "execution_count": 26,
   "id": "986e3cca",
   "metadata": {},
   "outputs": [
    {
     "data": {
      "text/html": [
       "<div>\n",
       "<style scoped>\n",
       "    .dataframe tbody tr th:only-of-type {\n",
       "        vertical-align: middle;\n",
       "    }\n",
       "\n",
       "    .dataframe tbody tr th {\n",
       "        vertical-align: top;\n",
       "    }\n",
       "\n",
       "    .dataframe thead th {\n",
       "        text-align: right;\n",
       "    }\n",
       "</style>\n",
       "<table border=\"1\" class=\"dataframe\">\n",
       "  <thead>\n",
       "    <tr style=\"text-align: right;\">\n",
       "      <th></th>\n",
       "      <th>raceId</th>\n",
       "      <th>round</th>\n",
       "      <th>circuitId</th>\n",
       "      <th>date</th>\n",
       "    </tr>\n",
       "  </thead>\n",
       "  <tbody>\n",
       "    <tr>\n",
       "      <th>0</th>\n",
       "      <td>1</td>\n",
       "      <td>1</td>\n",
       "      <td>1</td>\n",
       "      <td>2009-03-29</td>\n",
       "    </tr>\n",
       "    <tr>\n",
       "      <th>1</th>\n",
       "      <td>2</td>\n",
       "      <td>2</td>\n",
       "      <td>2</td>\n",
       "      <td>2009-04-05</td>\n",
       "    </tr>\n",
       "    <tr>\n",
       "      <th>2</th>\n",
       "      <td>3</td>\n",
       "      <td>3</td>\n",
       "      <td>17</td>\n",
       "      <td>2009-04-19</td>\n",
       "    </tr>\n",
       "    <tr>\n",
       "      <th>3</th>\n",
       "      <td>4</td>\n",
       "      <td>4</td>\n",
       "      <td>3</td>\n",
       "      <td>2009-04-26</td>\n",
       "    </tr>\n",
       "    <tr>\n",
       "      <th>4</th>\n",
       "      <td>5</td>\n",
       "      <td>5</td>\n",
       "      <td>4</td>\n",
       "      <td>2009-05-10</td>\n",
       "    </tr>\n",
       "    <tr>\n",
       "      <th>...</th>\n",
       "      <td>...</td>\n",
       "      <td>...</td>\n",
       "      <td>...</td>\n",
       "      <td>...</td>\n",
       "    </tr>\n",
       "    <tr>\n",
       "      <th>1075</th>\n",
       "      <td>1092</td>\n",
       "      <td>19</td>\n",
       "      <td>22</td>\n",
       "      <td>2022-10-09</td>\n",
       "    </tr>\n",
       "    <tr>\n",
       "      <th>1076</th>\n",
       "      <td>1093</td>\n",
       "      <td>20</td>\n",
       "      <td>69</td>\n",
       "      <td>2022-10-23</td>\n",
       "    </tr>\n",
       "    <tr>\n",
       "      <th>1077</th>\n",
       "      <td>1094</td>\n",
       "      <td>21</td>\n",
       "      <td>32</td>\n",
       "      <td>2022-10-30</td>\n",
       "    </tr>\n",
       "    <tr>\n",
       "      <th>1078</th>\n",
       "      <td>1095</td>\n",
       "      <td>22</td>\n",
       "      <td>18</td>\n",
       "      <td>2022-11-13</td>\n",
       "    </tr>\n",
       "    <tr>\n",
       "      <th>1079</th>\n",
       "      <td>1096</td>\n",
       "      <td>23</td>\n",
       "      <td>24</td>\n",
       "      <td>2022-11-20</td>\n",
       "    </tr>\n",
       "  </tbody>\n",
       "</table>\n",
       "<p>1080 rows × 4 columns</p>\n",
       "</div>"
      ],
      "text/plain": [
       "      raceId  round  circuitId       date\n",
       "0          1      1          1 2009-03-29\n",
       "1          2      2          2 2009-04-05\n",
       "2          3      3         17 2009-04-19\n",
       "3          4      4          3 2009-04-26\n",
       "4          5      5          4 2009-05-10\n",
       "...      ...    ...        ...        ...\n",
       "1075    1092     19         22 2022-10-09\n",
       "1076    1093     20         69 2022-10-23\n",
       "1077    1094     21         32 2022-10-30\n",
       "1078    1095     22         18 2022-11-13\n",
       "1079    1096     23         24 2022-11-20\n",
       "\n",
       "[1080 rows x 4 columns]"
      ]
     },
     "execution_count": 26,
     "metadata": {},
     "output_type": "execute_result"
    }
   ],
   "source": [
    "date = races[\"date\"].str.split(\"/\", expand = True)\n",
    "date[2] = date[2].str.replace(\"^12\",\"2\", regex = True)\n",
    "date[2] = date[2].str[:4]\n",
    "date[\"date\"] = date[0] + \"-\" + date[1] +\"-\" + date[2]\n",
    "races.date = pd.to_datetime(date[\"date\"])\n",
    "races"
   ]
  },
  {
   "cell_type": "markdown",
   "id": "5192f9f6",
   "metadata": {},
   "source": [
    "[Back to links](#top)"
   ]
  },
  {
   "cell_type": "markdown",
   "id": "7349a2c3",
   "metadata": {},
   "source": [
    "### Circuits <a id=\"circuits\"></a>"
   ]
  },
  {
   "cell_type": "code",
   "execution_count": 27,
   "id": "2f0b035c",
   "metadata": {},
   "outputs": [
    {
     "data": {
      "text/html": [
       "<div>\n",
       "<style scoped>\n",
       "    .dataframe tbody tr th:only-of-type {\n",
       "        vertical-align: middle;\n",
       "    }\n",
       "\n",
       "    .dataframe tbody tr th {\n",
       "        vertical-align: top;\n",
       "    }\n",
       "\n",
       "    .dataframe thead th {\n",
       "        text-align: right;\n",
       "    }\n",
       "</style>\n",
       "<table border=\"1\" class=\"dataframe\">\n",
       "  <thead>\n",
       "    <tr style=\"text-align: right;\">\n",
       "      <th></th>\n",
       "      <th>circuitId</th>\n",
       "      <th>name</th>\n",
       "      <th>lat</th>\n",
       "      <th>lng</th>\n",
       "      <th>alt</th>\n",
       "    </tr>\n",
       "  </thead>\n",
       "  <tbody>\n",
       "  </tbody>\n",
       "</table>\n",
       "</div>"
      ],
      "text/plain": [
       "Empty DataFrame\n",
       "Columns: [circuitId, name, lat, lng, alt]\n",
       "Index: []"
      ]
     },
     "execution_count": 27,
     "metadata": {},
     "output_type": "execute_result"
    }
   ],
   "source": [
    "# I will impute in by the right values according to google\n",
    "circuits.at[77,\"alt\"] = 13\n",
    "circuits.at[78,\"alt\"] = 0\n",
    "circuits[circuits.alt.isnull()]"
   ]
  },
  {
   "cell_type": "markdown",
   "id": "dc4f6a05",
   "metadata": {},
   "source": [
    "[Back to links](#top)"
   ]
  },
  {
   "cell_type": "markdown",
   "id": "44a17ad9",
   "metadata": {},
   "source": [
    "### Final <a id=\"final\"></a>"
   ]
  },
  {
   "cell_type": "code",
   "execution_count": 28,
   "id": "48949a63",
   "metadata": {},
   "outputs": [
    {
     "data": {
      "text/html": [
       "<div>\n",
       "<style scoped>\n",
       "    .dataframe tbody tr th:only-of-type {\n",
       "        vertical-align: middle;\n",
       "    }\n",
       "\n",
       "    .dataframe tbody tr th {\n",
       "        vertical-align: top;\n",
       "    }\n",
       "\n",
       "    .dataframe thead th {\n",
       "        text-align: right;\n",
       "    }\n",
       "</style>\n",
       "<table border=\"1\" class=\"dataframe\">\n",
       "  <thead>\n",
       "    <tr style=\"text-align: right;\">\n",
       "      <th></th>\n",
       "      <th>resultId</th>\n",
       "      <th>raceId</th>\n",
       "      <th>driverId</th>\n",
       "      <th>constructorId</th>\n",
       "      <th>grid</th>\n",
       "      <th>positionOrder</th>\n",
       "      <th>points</th>\n",
       "      <th>laps</th>\n",
       "      <th>milliseconds</th>\n",
       "      <th>fastestLap</th>\n",
       "      <th>rank</th>\n",
       "      <th>fastestLapTime</th>\n",
       "      <th>fastestLapSpeed</th>\n",
       "      <th>prev_champion</th>\n",
       "      <th>target</th>\n",
       "    </tr>\n",
       "  </thead>\n",
       "  <tbody>\n",
       "    <tr>\n",
       "      <th>0</th>\n",
       "      <td>1</td>\n",
       "      <td>18</td>\n",
       "      <td>1</td>\n",
       "      <td>1</td>\n",
       "      <td>1</td>\n",
       "      <td>1</td>\n",
       "      <td>10.0</td>\n",
       "      <td>58</td>\n",
       "      <td>5690616.0</td>\n",
       "      <td>39.0</td>\n",
       "      <td>2.0</td>\n",
       "      <td>87500.0</td>\n",
       "      <td>218.300</td>\n",
       "      <td>0</td>\n",
       "      <td>0</td>\n",
       "    </tr>\n",
       "    <tr>\n",
       "      <th>1</th>\n",
       "      <td>2</td>\n",
       "      <td>18</td>\n",
       "      <td>2</td>\n",
       "      <td>2</td>\n",
       "      <td>5</td>\n",
       "      <td>2</td>\n",
       "      <td>8.0</td>\n",
       "      <td>58</td>\n",
       "      <td>5696094.0</td>\n",
       "      <td>41.0</td>\n",
       "      <td>3.0</td>\n",
       "      <td>87700.0</td>\n",
       "      <td>217.586</td>\n",
       "      <td>0</td>\n",
       "      <td>0</td>\n",
       "    </tr>\n",
       "    <tr>\n",
       "      <th>2</th>\n",
       "      <td>3</td>\n",
       "      <td>18</td>\n",
       "      <td>3</td>\n",
       "      <td>3</td>\n",
       "      <td>7</td>\n",
       "      <td>3</td>\n",
       "      <td>6.0</td>\n",
       "      <td>58</td>\n",
       "      <td>5698779.0</td>\n",
       "      <td>41.0</td>\n",
       "      <td>5.0</td>\n",
       "      <td>88100.0</td>\n",
       "      <td>216.719</td>\n",
       "      <td>0</td>\n",
       "      <td>0</td>\n",
       "    </tr>\n",
       "    <tr>\n",
       "      <th>3</th>\n",
       "      <td>4</td>\n",
       "      <td>18</td>\n",
       "      <td>4</td>\n",
       "      <td>4</td>\n",
       "      <td>11</td>\n",
       "      <td>4</td>\n",
       "      <td>5.0</td>\n",
       "      <td>58</td>\n",
       "      <td>5707797.0</td>\n",
       "      <td>58.0</td>\n",
       "      <td>7.0</td>\n",
       "      <td>88600.0</td>\n",
       "      <td>215.464</td>\n",
       "      <td>0</td>\n",
       "      <td>0</td>\n",
       "    </tr>\n",
       "    <tr>\n",
       "      <th>4</th>\n",
       "      <td>5</td>\n",
       "      <td>18</td>\n",
       "      <td>5</td>\n",
       "      <td>1</td>\n",
       "      <td>3</td>\n",
       "      <td>5</td>\n",
       "      <td>4.0</td>\n",
       "      <td>58</td>\n",
       "      <td>5708630.0</td>\n",
       "      <td>43.0</td>\n",
       "      <td>1.0</td>\n",
       "      <td>87400.0</td>\n",
       "      <td>218.385</td>\n",
       "      <td>0</td>\n",
       "      <td>0</td>\n",
       "    </tr>\n",
       "  </tbody>\n",
       "</table>\n",
       "</div>"
      ],
      "text/plain": [
       "   resultId  raceId  driverId  constructorId  grid  positionOrder  points  \\\n",
       "0         1      18         1              1     1              1    10.0   \n",
       "1         2      18         2              2     5              2     8.0   \n",
       "2         3      18         3              3     7              3     6.0   \n",
       "3         4      18         4              4    11              4     5.0   \n",
       "4         5      18         5              1     3              5     4.0   \n",
       "\n",
       "   laps  milliseconds  fastestLap  rank  fastestLapTime  fastestLapSpeed  \\\n",
       "0    58     5690616.0        39.0   2.0         87500.0          218.300   \n",
       "1    58     5696094.0        41.0   3.0         87700.0          217.586   \n",
       "2    58     5698779.0        41.0   5.0         88100.0          216.719   \n",
       "3    58     5707797.0        58.0   7.0         88600.0          215.464   \n",
       "4    58     5708630.0        43.0   1.0         87400.0          218.385   \n",
       "\n",
       "   prev_champion   target  \n",
       "0               0       0  \n",
       "1               0       0  \n",
       "2               0       0  \n",
       "3               0       0  \n",
       "4               0       0  "
      ]
     },
     "execution_count": 28,
     "metadata": {},
     "output_type": "execute_result"
    }
   ],
   "source": [
    "df = pd.merge(results, status, on = \"statusId\")\n",
    "df.drop(columns = [\"status\",\"statusId\"], inplace = True)\n",
    "df.head()"
   ]
  },
  {
   "cell_type": "code",
   "execution_count": 29,
   "id": "98dfa938",
   "metadata": {},
   "outputs": [
    {
     "data": {
      "text/html": [
       "<div>\n",
       "<style scoped>\n",
       "    .dataframe tbody tr th:only-of-type {\n",
       "        vertical-align: middle;\n",
       "    }\n",
       "\n",
       "    .dataframe tbody tr th {\n",
       "        vertical-align: top;\n",
       "    }\n",
       "\n",
       "    .dataframe thead th {\n",
       "        text-align: right;\n",
       "    }\n",
       "</style>\n",
       "<table border=\"1\" class=\"dataframe\">\n",
       "  <thead>\n",
       "    <tr style=\"text-align: right;\">\n",
       "      <th></th>\n",
       "      <th>resultId</th>\n",
       "      <th>raceId</th>\n",
       "      <th>driverId</th>\n",
       "      <th>constructorId</th>\n",
       "      <th>grid</th>\n",
       "      <th>positionOrder</th>\n",
       "      <th>points</th>\n",
       "      <th>laps</th>\n",
       "      <th>milliseconds</th>\n",
       "      <th>fastestLap</th>\n",
       "      <th>rank</th>\n",
       "      <th>fastestLapTime</th>\n",
       "      <th>fastestLapSpeed</th>\n",
       "      <th>prev_champion</th>\n",
       "      <th>target</th>\n",
       "      <th>position</th>\n",
       "      <th>q1</th>\n",
       "      <th>q2</th>\n",
       "      <th>q3</th>\n",
       "      <th>avg_lap</th>\n",
       "    </tr>\n",
       "  </thead>\n",
       "  <tbody>\n",
       "    <tr>\n",
       "      <th>0</th>\n",
       "      <td>1</td>\n",
       "      <td>18</td>\n",
       "      <td>1</td>\n",
       "      <td>1</td>\n",
       "      <td>1</td>\n",
       "      <td>1</td>\n",
       "      <td>10.0</td>\n",
       "      <td>58</td>\n",
       "      <td>5690616.0</td>\n",
       "      <td>39.0</td>\n",
       "      <td>2.0</td>\n",
       "      <td>87500.0</td>\n",
       "      <td>218.300</td>\n",
       "      <td>0</td>\n",
       "      <td>0</td>\n",
       "      <td>1.0</td>\n",
       "      <td>86572.0</td>\n",
       "      <td>85187.0</td>\n",
       "      <td>86714.0</td>\n",
       "      <td>98118.965517</td>\n",
       "    </tr>\n",
       "    <tr>\n",
       "      <th>1</th>\n",
       "      <td>2</td>\n",
       "      <td>18</td>\n",
       "      <td>2</td>\n",
       "      <td>2</td>\n",
       "      <td>5</td>\n",
       "      <td>2</td>\n",
       "      <td>8.0</td>\n",
       "      <td>58</td>\n",
       "      <td>5696094.0</td>\n",
       "      <td>41.0</td>\n",
       "      <td>3.0</td>\n",
       "      <td>87700.0</td>\n",
       "      <td>217.586</td>\n",
       "      <td>0</td>\n",
       "      <td>0</td>\n",
       "      <td>5.0</td>\n",
       "      <td>85960.0</td>\n",
       "      <td>85518.0</td>\n",
       "      <td>87236.0</td>\n",
       "      <td>98206.896552</td>\n",
       "    </tr>\n",
       "    <tr>\n",
       "      <th>2</th>\n",
       "      <td>3</td>\n",
       "      <td>18</td>\n",
       "      <td>3</td>\n",
       "      <td>3</td>\n",
       "      <td>7</td>\n",
       "      <td>3</td>\n",
       "      <td>6.0</td>\n",
       "      <td>58</td>\n",
       "      <td>5698779.0</td>\n",
       "      <td>41.0</td>\n",
       "      <td>5.0</td>\n",
       "      <td>88100.0</td>\n",
       "      <td>216.719</td>\n",
       "      <td>0</td>\n",
       "      <td>0</td>\n",
       "      <td>7.0</td>\n",
       "      <td>86295.0</td>\n",
       "      <td>86059.0</td>\n",
       "      <td>88687.0</td>\n",
       "      <td>98253.448276</td>\n",
       "    </tr>\n",
       "    <tr>\n",
       "      <th>3</th>\n",
       "      <td>4</td>\n",
       "      <td>18</td>\n",
       "      <td>4</td>\n",
       "      <td>4</td>\n",
       "      <td>11</td>\n",
       "      <td>4</td>\n",
       "      <td>5.0</td>\n",
       "      <td>58</td>\n",
       "      <td>5707797.0</td>\n",
       "      <td>58.0</td>\n",
       "      <td>7.0</td>\n",
       "      <td>88600.0</td>\n",
       "      <td>215.464</td>\n",
       "      <td>0</td>\n",
       "      <td>0</td>\n",
       "      <td>12.0</td>\n",
       "      <td>86907.0</td>\n",
       "      <td>86188.0</td>\n",
       "      <td>NaN</td>\n",
       "      <td>98412.068966</td>\n",
       "    </tr>\n",
       "    <tr>\n",
       "      <th>4</th>\n",
       "      <td>5</td>\n",
       "      <td>18</td>\n",
       "      <td>5</td>\n",
       "      <td>1</td>\n",
       "      <td>3</td>\n",
       "      <td>5</td>\n",
       "      <td>4.0</td>\n",
       "      <td>58</td>\n",
       "      <td>5708630.0</td>\n",
       "      <td>43.0</td>\n",
       "      <td>1.0</td>\n",
       "      <td>87400.0</td>\n",
       "      <td>218.385</td>\n",
       "      <td>0</td>\n",
       "      <td>0</td>\n",
       "      <td>3.0</td>\n",
       "      <td>85664.0</td>\n",
       "      <td>85452.0</td>\n",
       "      <td>87079.0</td>\n",
       "      <td>98431.034483</td>\n",
       "    </tr>\n",
       "    <tr>\n",
       "      <th>...</th>\n",
       "      <td>...</td>\n",
       "      <td>...</td>\n",
       "      <td>...</td>\n",
       "      <td>...</td>\n",
       "      <td>...</td>\n",
       "      <td>...</td>\n",
       "      <td>...</td>\n",
       "      <td>...</td>\n",
       "      <td>...</td>\n",
       "      <td>...</td>\n",
       "      <td>...</td>\n",
       "      <td>...</td>\n",
       "      <td>...</td>\n",
       "      <td>...</td>\n",
       "      <td>...</td>\n",
       "      <td>...</td>\n",
       "      <td>...</td>\n",
       "      <td>...</td>\n",
       "      <td>...</td>\n",
       "      <td>...</td>\n",
       "    </tr>\n",
       "    <tr>\n",
       "      <th>25222</th>\n",
       "      <td>23533</td>\n",
       "      <td>976</td>\n",
       "      <td>815</td>\n",
       "      <td>10</td>\n",
       "      <td>6</td>\n",
       "      <td>15</td>\n",
       "      <td>0.0</td>\n",
       "      <td>39</td>\n",
       "      <td>NaN</td>\n",
       "      <td>37.0</td>\n",
       "      <td>8.0</td>\n",
       "      <td>105600.0</td>\n",
       "      <td>204.670</td>\n",
       "      <td>0</td>\n",
       "      <td>3</td>\n",
       "      <td>6.0</td>\n",
       "      <td>103162.0</td>\n",
       "      <td>102467.0</td>\n",
       "      <td>102111.0</td>\n",
       "      <td>162217.948718</td>\n",
       "    </tr>\n",
       "    <tr>\n",
       "      <th>25223</th>\n",
       "      <td>24221</td>\n",
       "      <td>1010</td>\n",
       "      <td>817</td>\n",
       "      <td>4</td>\n",
       "      <td>12</td>\n",
       "      <td>19</td>\n",
       "      <td>0.0</td>\n",
       "      <td>28</td>\n",
       "      <td>NaN</td>\n",
       "      <td>18.0</td>\n",
       "      <td>19.0</td>\n",
       "      <td>89800.0</td>\n",
       "      <td>212.478</td>\n",
       "      <td>0</td>\n",
       "      <td>2</td>\n",
       "      <td>12.0</td>\n",
       "      <td>82921.0</td>\n",
       "      <td>82570.0</td>\n",
       "      <td>NaN</td>\n",
       "      <td>92832.142857</td>\n",
       "    </tr>\n",
       "    <tr>\n",
       "      <th>25224</th>\n",
       "      <td>25365</td>\n",
       "      <td>1051</td>\n",
       "      <td>822</td>\n",
       "      <td>131</td>\n",
       "      <td>6</td>\n",
       "      <td>20</td>\n",
       "      <td>0.0</td>\n",
       "      <td>48</td>\n",
       "      <td>NaN</td>\n",
       "      <td>39.0</td>\n",
       "      <td>15.0</td>\n",
       "      <td>87200.0</td>\n",
       "      <td>221.992</td>\n",
       "      <td>0</td>\n",
       "      <td>2</td>\n",
       "      <td>3.0</td>\n",
       "      <td>82016.0</td>\n",
       "      <td>81991.0</td>\n",
       "      <td>81478.0</td>\n",
       "      <td>90837.500000</td>\n",
       "    </tr>\n",
       "    <tr>\n",
       "      <th>25225</th>\n",
       "      <td>24764</td>\n",
       "      <td>1037</td>\n",
       "      <td>847</td>\n",
       "      <td>3</td>\n",
       "      <td>15</td>\n",
       "      <td>19</td>\n",
       "      <td>0.0</td>\n",
       "      <td>9</td>\n",
       "      <td>NaN</td>\n",
       "      <td>5.0</td>\n",
       "      <td>18.0</td>\n",
       "      <td>111800.0</td>\n",
       "      <td>225.624</td>\n",
       "      <td>0</td>\n",
       "      <td>2</td>\n",
       "      <td>15.0</td>\n",
       "      <td>103630.0</td>\n",
       "      <td>103468.0</td>\n",
       "      <td>NaN</td>\n",
       "      <td>113966.666667</td>\n",
       "    </tr>\n",
       "    <tr>\n",
       "      <th>25226</th>\n",
       "      <td>24883</td>\n",
       "      <td>1043</td>\n",
       "      <td>825</td>\n",
       "      <td>210</td>\n",
       "      <td>17</td>\n",
       "      <td>18</td>\n",
       "      <td>0.0</td>\n",
       "      <td>47</td>\n",
       "      <td>NaN</td>\n",
       "      <td>45.0</td>\n",
       "      <td>18.0</td>\n",
       "      <td>79300.0</td>\n",
       "      <td>222.930</td>\n",
       "      <td>0</td>\n",
       "      <td>1</td>\n",
       "      <td>17.0</td>\n",
       "      <td>75939.0</td>\n",
       "      <td>NaN</td>\n",
       "      <td>NaN</td>\n",
       "      <td>82023.404255</td>\n",
       "    </tr>\n",
       "  </tbody>\n",
       "</table>\n",
       "<p>25227 rows × 20 columns</p>\n",
       "</div>"
      ],
      "text/plain": [
       "       resultId  raceId  driverId  constructorId  grid  positionOrder  points  \\\n",
       "0             1      18         1              1     1              1    10.0   \n",
       "1             2      18         2              2     5              2     8.0   \n",
       "2             3      18         3              3     7              3     6.0   \n",
       "3             4      18         4              4    11              4     5.0   \n",
       "4             5      18         5              1     3              5     4.0   \n",
       "...         ...     ...       ...            ...   ...            ...     ...   \n",
       "25222     23533     976       815             10     6             15     0.0   \n",
       "25223     24221    1010       817              4    12             19     0.0   \n",
       "25224     25365    1051       822            131     6             20     0.0   \n",
       "25225     24764    1037       847              3    15             19     0.0   \n",
       "25226     24883    1043       825            210    17             18     0.0   \n",
       "\n",
       "       laps  milliseconds  fastestLap  rank  fastestLapTime  fastestLapSpeed  \\\n",
       "0        58     5690616.0        39.0   2.0         87500.0          218.300   \n",
       "1        58     5696094.0        41.0   3.0         87700.0          217.586   \n",
       "2        58     5698779.0        41.0   5.0         88100.0          216.719   \n",
       "3        58     5707797.0        58.0   7.0         88600.0          215.464   \n",
       "4        58     5708630.0        43.0   1.0         87400.0          218.385   \n",
       "...     ...           ...         ...   ...             ...              ...   \n",
       "25222    39           NaN        37.0   8.0        105600.0          204.670   \n",
       "25223    28           NaN        18.0  19.0         89800.0          212.478   \n",
       "25224    48           NaN        39.0  15.0         87200.0          221.992   \n",
       "25225     9           NaN         5.0  18.0        111800.0          225.624   \n",
       "25226    47           NaN        45.0  18.0         79300.0          222.930   \n",
       "\n",
       "       prev_champion   target  position        q1        q2        q3  \\\n",
       "0                   0       0       1.0   86572.0   85187.0   86714.0   \n",
       "1                   0       0       5.0   85960.0   85518.0   87236.0   \n",
       "2                   0       0       7.0   86295.0   86059.0   88687.0   \n",
       "3                   0       0      12.0   86907.0   86188.0       NaN   \n",
       "4                   0       0       3.0   85664.0   85452.0   87079.0   \n",
       "...               ...     ...       ...       ...       ...       ...   \n",
       "25222               0       3       6.0  103162.0  102467.0  102111.0   \n",
       "25223               0       2      12.0   82921.0   82570.0       NaN   \n",
       "25224               0       2       3.0   82016.0   81991.0   81478.0   \n",
       "25225               0       2      15.0  103630.0  103468.0       NaN   \n",
       "25226               0       1      17.0   75939.0       NaN       NaN   \n",
       "\n",
       "             avg_lap  \n",
       "0       98118.965517  \n",
       "1       98206.896552  \n",
       "2       98253.448276  \n",
       "3       98412.068966  \n",
       "4       98431.034483  \n",
       "...              ...  \n",
       "25222  162217.948718  \n",
       "25223   92832.142857  \n",
       "25224   90837.500000  \n",
       "25225  113966.666667  \n",
       "25226   82023.404255  \n",
       "\n",
       "[25227 rows x 20 columns]"
      ]
     },
     "execution_count": 29,
     "metadata": {},
     "output_type": "execute_result"
    }
   ],
   "source": [
    "df = pd.merge(df, qualifiers, on = [\"raceId\", \"driverId\"], how = \"left\")\n",
    "df = pd.merge(df, average_L, on = [\"driverId\", \"raceId\"], how = \"left\")\n",
    "df = pd.merge(df, fastest_L,  on = [\"driverId\", \"raceId\"], how = \"left\")\n",
    "fillNA(df,\"fastestLap\", \"lap\")\n",
    "fillNA(df, \"fastestLapTime\", \"time\")\n",
    "df.drop(columns = [\"lap\",\"time\"], inplace = True)\n",
    "df"
   ]
  },
  {
   "cell_type": "code",
   "execution_count": 30,
   "id": "79783d93",
   "metadata": {},
   "outputs": [
    {
     "data": {
      "text/html": [
       "<div>\n",
       "<style scoped>\n",
       "    .dataframe tbody tr th:only-of-type {\n",
       "        vertical-align: middle;\n",
       "    }\n",
       "\n",
       "    .dataframe tbody tr th {\n",
       "        vertical-align: top;\n",
       "    }\n",
       "\n",
       "    .dataframe thead th {\n",
       "        text-align: right;\n",
       "    }\n",
       "</style>\n",
       "<table border=\"1\" class=\"dataframe\">\n",
       "  <thead>\n",
       "    <tr style=\"text-align: right;\">\n",
       "      <th></th>\n",
       "      <th>raceId</th>\n",
       "      <th>round</th>\n",
       "      <th>circuitId</th>\n",
       "      <th>date</th>\n",
       "      <th>lat</th>\n",
       "      <th>lng</th>\n",
       "      <th>alt</th>\n",
       "      <th>resultId</th>\n",
       "      <th>driverId</th>\n",
       "      <th>constructorId</th>\n",
       "      <th>...</th>\n",
       "      <th>fastestLapTime</th>\n",
       "      <th>fastestLapSpeed</th>\n",
       "      <th>prev_champion</th>\n",
       "      <th>target</th>\n",
       "      <th>position</th>\n",
       "      <th>q1</th>\n",
       "      <th>q2</th>\n",
       "      <th>q3</th>\n",
       "      <th>avg_lap</th>\n",
       "      <th>dob</th>\n",
       "    </tr>\n",
       "  </thead>\n",
       "  <tbody>\n",
       "    <tr>\n",
       "      <th>0</th>\n",
       "      <td>1</td>\n",
       "      <td>1</td>\n",
       "      <td>1</td>\n",
       "      <td>2009-03-29</td>\n",
       "      <td>-37.8497</td>\n",
       "      <td>144.968</td>\n",
       "      <td>10.0</td>\n",
       "      <td>7554</td>\n",
       "      <td>18</td>\n",
       "      <td>23</td>\n",
       "      <td>...</td>\n",
       "      <td>88000.0</td>\n",
       "      <td>216.891</td>\n",
       "      <td>0</td>\n",
       "      <td>0</td>\n",
       "      <td>1.0</td>\n",
       "      <td>85211.0</td>\n",
       "      <td>84855.0</td>\n",
       "      <td>86202.0</td>\n",
       "      <td>97512.068966</td>\n",
       "      <td>1980-01-19</td>\n",
       "    </tr>\n",
       "    <tr>\n",
       "      <th>1</th>\n",
       "      <td>18</td>\n",
       "      <td>1</td>\n",
       "      <td>1</td>\n",
       "      <td>2008-03-16</td>\n",
       "      <td>-37.8497</td>\n",
       "      <td>144.968</td>\n",
       "      <td>10.0</td>\n",
       "      <td>18</td>\n",
       "      <td>18</td>\n",
       "      <td>11</td>\n",
       "      <td>...</td>\n",
       "      <td>NaN</td>\n",
       "      <td>NaN</td>\n",
       "      <td>0</td>\n",
       "      <td>2</td>\n",
       "      <td>13.0</td>\n",
       "      <td>86712.0</td>\n",
       "      <td>86259.0</td>\n",
       "      <td>NaN</td>\n",
       "      <td>NaN</td>\n",
       "      <td>1980-01-19</td>\n",
       "    </tr>\n",
       "    <tr>\n",
       "      <th>2</th>\n",
       "      <td>36</td>\n",
       "      <td>1</td>\n",
       "      <td>1</td>\n",
       "      <td>2007-03-18</td>\n",
       "      <td>-37.8497</td>\n",
       "      <td>144.968</td>\n",
       "      <td>10.0</td>\n",
       "      <td>383</td>\n",
       "      <td>18</td>\n",
       "      <td>11</td>\n",
       "      <td>...</td>\n",
       "      <td>88400.0</td>\n",
       "      <td>215.991</td>\n",
       "      <td>0</td>\n",
       "      <td>1</td>\n",
       "      <td>14.0</td>\n",
       "      <td>87540.0</td>\n",
       "      <td>87264.0</td>\n",
       "      <td>NaN</td>\n",
       "      <td>91378.947368</td>\n",
       "      <td>1980-01-19</td>\n",
       "    </tr>\n",
       "    <tr>\n",
       "      <th>3</th>\n",
       "      <td>55</td>\n",
       "      <td>3</td>\n",
       "      <td>1</td>\n",
       "      <td>2006-04-02</td>\n",
       "      <td>-37.8497</td>\n",
       "      <td>144.968</td>\n",
       "      <td>10.0</td>\n",
       "      <td>796</td>\n",
       "      <td>18</td>\n",
       "      <td>11</td>\n",
       "      <td>...</td>\n",
       "      <td>87800.0</td>\n",
       "      <td>217.437</td>\n",
       "      <td>0</td>\n",
       "      <td>1</td>\n",
       "      <td>1.0</td>\n",
       "      <td>88081.0</td>\n",
       "      <td>86337.0</td>\n",
       "      <td>85229.0</td>\n",
       "      <td>100278.571429</td>\n",
       "      <td>1980-01-19</td>\n",
       "    </tr>\n",
       "    <tr>\n",
       "      <th>4</th>\n",
       "      <td>71</td>\n",
       "      <td>1</td>\n",
       "      <td>1</td>\n",
       "      <td>2005-03-06</td>\n",
       "      <td>-37.8497</td>\n",
       "      <td>144.968</td>\n",
       "      <td>10.0</td>\n",
       "      <td>1149</td>\n",
       "      <td>18</td>\n",
       "      <td>16</td>\n",
       "      <td>...</td>\n",
       "      <td>86300.0</td>\n",
       "      <td>221.316</td>\n",
       "      <td>0</td>\n",
       "      <td>1</td>\n",
       "      <td>8.0</td>\n",
       "      <td>101512.0</td>\n",
       "      <td>90616.0</td>\n",
       "      <td>NaN</td>\n",
       "      <td>90001.785714</td>\n",
       "      <td>1980-01-19</td>\n",
       "    </tr>\n",
       "  </tbody>\n",
       "</table>\n",
       "<p>5 rows × 27 columns</p>\n",
       "</div>"
      ],
      "text/plain": [
       "   raceId  round  circuitId       date      lat      lng   alt  resultId  \\\n",
       "0       1      1          1 2009-03-29 -37.8497  144.968  10.0      7554   \n",
       "1      18      1          1 2008-03-16 -37.8497  144.968  10.0        18   \n",
       "2      36      1          1 2007-03-18 -37.8497  144.968  10.0       383   \n",
       "3      55      3          1 2006-04-02 -37.8497  144.968  10.0       796   \n",
       "4      71      1          1 2005-03-06 -37.8497  144.968  10.0      1149   \n",
       "\n",
       "   driverId  constructorId  ...  fastestLapTime  fastestLapSpeed  \\\n",
       "0        18             23  ...         88000.0          216.891   \n",
       "1        18             11  ...             NaN              NaN   \n",
       "2        18             11  ...         88400.0          215.991   \n",
       "3        18             11  ...         87800.0          217.437   \n",
       "4        18             16  ...         86300.0          221.316   \n",
       "\n",
       "   prev_champion   target  position        q1       q2       q3  \\\n",
       "0               0       0       1.0   85211.0  84855.0  86202.0   \n",
       "1               0       2      13.0   86712.0  86259.0      NaN   \n",
       "2               0       1      14.0   87540.0  87264.0      NaN   \n",
       "3               0       1       1.0   88081.0  86337.0  85229.0   \n",
       "4               0       1       8.0  101512.0  90616.0      NaN   \n",
       "\n",
       "         avg_lap        dob  \n",
       "0   97512.068966 1980-01-19  \n",
       "1            NaN 1980-01-19  \n",
       "2   91378.947368 1980-01-19  \n",
       "3  100278.571429 1980-01-19  \n",
       "4   90001.785714 1980-01-19  \n",
       "\n",
       "[5 rows x 27 columns]"
      ]
     },
     "execution_count": 30,
     "metadata": {},
     "output_type": "execute_result"
    }
   ],
   "source": [
    "races = pd.merge(races, circuits, on = \"circuitId\")\n",
    "races.drop(columns = \"name\", inplace = True)\n",
    "df = pd.merge(races, df, on = \"raceId\")\n",
    "df = pd.merge(df, drivers, on =\"driverId\")\n",
    "df.head()"
   ]
  },
  {
   "cell_type": "code",
   "execution_count": 31,
   "id": "2a92877f",
   "metadata": {},
   "outputs": [],
   "source": [
    "df[\"age\"] = (df[\"date\"] - df[\"dob\"] ) / np.timedelta64(1,\"Y\")\n",
    "df[\"age\"] = df[\"age\"].apply(np.floor)"
   ]
  },
  {
   "cell_type": "code",
   "execution_count": 32,
   "id": "44140d02",
   "metadata": {},
   "outputs": [],
   "source": [
    "cols = [\"points\", \"milliseconds\",\"fastestLap\", 'rank', \"fastestLapTime\", \"fastestLapSpeed\", \"avg_lap\"]\n",
    "df = df.sort_values([\"driverId\",\"date\"])"
   ]
  },
  {
   "cell_type": "code",
   "execution_count": 33,
   "id": "ec0a9255",
   "metadata": {
    "scrolled": true
   },
   "outputs": [
    {
     "data": {
      "text/html": [
       "<div>\n",
       "<style scoped>\n",
       "    .dataframe tbody tr th:only-of-type {\n",
       "        vertical-align: middle;\n",
       "    }\n",
       "\n",
       "    .dataframe tbody tr th {\n",
       "        vertical-align: top;\n",
       "    }\n",
       "\n",
       "    .dataframe thead th {\n",
       "        text-align: right;\n",
       "    }\n",
       "</style>\n",
       "<table border=\"1\" class=\"dataframe\">\n",
       "  <thead>\n",
       "    <tr style=\"text-align: right;\">\n",
       "      <th></th>\n",
       "      <th>round</th>\n",
       "      <th>lat</th>\n",
       "      <th>lng</th>\n",
       "      <th>alt</th>\n",
       "      <th>grid</th>\n",
       "      <th>positionOrder</th>\n",
       "      <th>laps</th>\n",
       "      <th>prev_champion</th>\n",
       "      <th>target</th>\n",
       "      <th>position</th>\n",
       "      <th>...</th>\n",
       "      <th>q2</th>\n",
       "      <th>q3</th>\n",
       "      <th>age</th>\n",
       "      <th>prev_points</th>\n",
       "      <th>prev_milliseconds</th>\n",
       "      <th>prev_fastestLap</th>\n",
       "      <th>prev_rank</th>\n",
       "      <th>prev_fastestLapTime</th>\n",
       "      <th>prev_fastestLapSpeed</th>\n",
       "      <th>prev_avg_lap</th>\n",
       "    </tr>\n",
       "  </thead>\n",
       "  <tbody>\n",
       "    <tr>\n",
       "      <th>0</th>\n",
       "      <td>2</td>\n",
       "      <td>2.76083</td>\n",
       "      <td>101.73800</td>\n",
       "      <td>18.0</td>\n",
       "      <td>4</td>\n",
       "      <td>2</td>\n",
       "      <td>56</td>\n",
       "      <td>0</td>\n",
       "      <td>0</td>\n",
       "      <td>4.0</td>\n",
       "      <td>...</td>\n",
       "      <td>94650.0</td>\n",
       "      <td>96045.0</td>\n",
       "      <td>22.0</td>\n",
       "      <td>6.0</td>\n",
       "      <td>5147365.0</td>\n",
       "      <td>20.0</td>\n",
       "      <td>3.0</td>\n",
       "      <td>86400.0</td>\n",
       "      <td>221.083</td>\n",
       "      <td>88750.000000</td>\n",
       "    </tr>\n",
       "    <tr>\n",
       "      <th>1</th>\n",
       "      <td>3</td>\n",
       "      <td>26.03250</td>\n",
       "      <td>50.51060</td>\n",
       "      <td>7.0</td>\n",
       "      <td>2</td>\n",
       "      <td>2</td>\n",
       "      <td>57</td>\n",
       "      <td>0</td>\n",
       "      <td>0</td>\n",
       "      <td>2.0</td>\n",
       "      <td>...</td>\n",
       "      <td>91752.0</td>\n",
       "      <td>92935.0</td>\n",
       "      <td>22.0</td>\n",
       "      <td>8.0</td>\n",
       "      <td>5552487.0</td>\n",
       "      <td>22.0</td>\n",
       "      <td>1.0</td>\n",
       "      <td>96700.0</td>\n",
       "      <td>206.355</td>\n",
       "      <td>99157.142857</td>\n",
       "    </tr>\n",
       "    <tr>\n",
       "      <th>2</th>\n",
       "      <td>4</td>\n",
       "      <td>41.57000</td>\n",
       "      <td>2.26111</td>\n",
       "      <td>109.0</td>\n",
       "      <td>4</td>\n",
       "      <td>2</td>\n",
       "      <td>65</td>\n",
       "      <td>0</td>\n",
       "      <td>0</td>\n",
       "      <td>4.0</td>\n",
       "      <td>...</td>\n",
       "      <td>80713.0</td>\n",
       "      <td>81785.0</td>\n",
       "      <td>22.0</td>\n",
       "      <td>8.0</td>\n",
       "      <td>5609875.0</td>\n",
       "      <td>18.0</td>\n",
       "      <td>2.0</td>\n",
       "      <td>94300.0</td>\n",
       "      <td>206.674</td>\n",
       "      <td>98417.543860</td>\n",
       "    </tr>\n",
       "    <tr>\n",
       "      <th>3</th>\n",
       "      <td>5</td>\n",
       "      <td>43.73470</td>\n",
       "      <td>7.42056</td>\n",
       "      <td>7.0</td>\n",
       "      <td>2</td>\n",
       "      <td>2</td>\n",
       "      <td>78</td>\n",
       "      <td>0</td>\n",
       "      <td>0</td>\n",
       "      <td>2.0</td>\n",
       "      <td>...</td>\n",
       "      <td>75479.0</td>\n",
       "      <td>75905.0</td>\n",
       "      <td>22.0</td>\n",
       "      <td>8.0</td>\n",
       "      <td>5503020.0</td>\n",
       "      <td>20.0</td>\n",
       "      <td>2.0</td>\n",
       "      <td>82900.0</td>\n",
       "      <td>202.205</td>\n",
       "      <td>84663.076923</td>\n",
       "    </tr>\n",
       "    <tr>\n",
       "      <th>4</th>\n",
       "      <td>6</td>\n",
       "      <td>45.50000</td>\n",
       "      <td>-73.52280</td>\n",
       "      <td>13.0</td>\n",
       "      <td>1</td>\n",
       "      <td>99</td>\n",
       "      <td>70</td>\n",
       "      <td>0</td>\n",
       "      <td>0</td>\n",
       "      <td>1.0</td>\n",
       "      <td>...</td>\n",
       "      <td>75486.0</td>\n",
       "      <td>75707.0</td>\n",
       "      <td>22.0</td>\n",
       "      <td>8.0</td>\n",
       "      <td>6033424.0</td>\n",
       "      <td>28.0</td>\n",
       "      <td>2.0</td>\n",
       "      <td>75400.0</td>\n",
       "      <td>159.528</td>\n",
       "      <td>77355.128205</td>\n",
       "    </tr>\n",
       "  </tbody>\n",
       "</table>\n",
       "<p>5 rows × 21 columns</p>\n",
       "</div>"
      ],
      "text/plain": [
       "   round       lat        lng    alt  grid  positionOrder  laps  \\\n",
       "0      2   2.76083  101.73800   18.0     4              2    56   \n",
       "1      3  26.03250   50.51060    7.0     2              2    57   \n",
       "2      4  41.57000    2.26111  109.0     4              2    65   \n",
       "3      5  43.73470    7.42056    7.0     2              2    78   \n",
       "4      6  45.50000  -73.52280   13.0     1             99    70   \n",
       "\n",
       "   prev_champion   target  position  ...       q2       q3   age  prev_points  \\\n",
       "0               0       0       4.0  ...  94650.0  96045.0  22.0          6.0   \n",
       "1               0       0       2.0  ...  91752.0  92935.0  22.0          8.0   \n",
       "2               0       0       4.0  ...  80713.0  81785.0  22.0          8.0   \n",
       "3               0       0       2.0  ...  75479.0  75905.0  22.0          8.0   \n",
       "4               0       0       1.0  ...  75486.0  75707.0  22.0          8.0   \n",
       "\n",
       "   prev_milliseconds  prev_fastestLap  prev_rank  prev_fastestLapTime  \\\n",
       "0          5147365.0             20.0        3.0              86400.0   \n",
       "1          5552487.0             22.0        1.0              96700.0   \n",
       "2          5609875.0             18.0        2.0              94300.0   \n",
       "3          5503020.0             20.0        2.0              82900.0   \n",
       "4          6033424.0             28.0        2.0              75400.0   \n",
       "\n",
       "   prev_fastestLapSpeed  prev_avg_lap  \n",
       "0               221.083  88750.000000  \n",
       "1               206.355  99157.142857  \n",
       "2               206.674  98417.543860  \n",
       "3               202.205  84663.076923  \n",
       "4               159.528  77355.128205  \n",
       "\n",
       "[5 rows x 21 columns]"
      ]
     },
     "execution_count": 33,
     "metadata": {},
     "output_type": "execute_result"
    }
   ],
   "source": [
    "df = lag_cols(df, cols)\n",
    "df.drop(columns = cols, inplace = True)\n",
    "df.drop(columns = [\"resultId\", \"raceId\", \"driverId\",\"constructorId\", \"circuitId\",\"date\",\"dob\"], inplace = True)\n",
    "df.head()"
   ]
  },
  {
   "cell_type": "code",
   "execution_count": 34,
   "id": "75c9cec7",
   "metadata": {},
   "outputs": [
    {
     "name": "stdout",
     "output_type": "stream",
     "text": [
      "<class 'pandas.core.frame.DataFrame'>\n",
      "RangeIndex: 24378 entries, 0 to 24377\n",
      "Data columns (total 21 columns):\n",
      " #   Column                Non-Null Count  Dtype  \n",
      "---  ------                --------------  -----  \n",
      " 0   round                 24378 non-null  int64  \n",
      " 1   lat                   24378 non-null  float64\n",
      " 2   lng                   24378 non-null  float64\n",
      " 3   alt                   24378 non-null  float64\n",
      " 4   grid                  24378 non-null  int64  \n",
      " 5   positionOrder         24378 non-null  int64  \n",
      " 6   laps                  24378 non-null  int64  \n",
      " 7   prev_champion         24378 non-null  int32  \n",
      " 8   target                24378 non-null  int32  \n",
      " 9   position              9012 non-null   float64\n",
      " 10  q1                    8873 non-null   float64\n",
      " 11  q2                    4808 non-null   float64\n",
      " 12  q3                    2963 non-null   float64\n",
      " 13  age                   24172 non-null  float64\n",
      " 14  prev_points           24378 non-null  float64\n",
      " 15  prev_milliseconds     6728 non-null   float64\n",
      " 16  prev_fastestLap       9594 non-null   float64\n",
      " 17  prev_rank             7049 non-null   float64\n",
      " 18  prev_fastestLapTime   9594 non-null   float64\n",
      " 19  prev_fastestLapSpeed  6857 non-null   float64\n",
      " 20  prev_avg_lap          9591 non-null   float64\n",
      "dtypes: float64(15), int32(2), int64(4)\n",
      "memory usage: 3.7 MB\n"
     ]
    }
   ],
   "source": [
    "df.info()"
   ]
  },
  {
   "cell_type": "code",
   "execution_count": 35,
   "id": "e9669e09",
   "metadata": {},
   "outputs": [],
   "source": [
    "xtra, xtes, ytra, ytes = tts(df, \"target\")"
   ]
  },
  {
   "cell_type": "markdown",
   "id": "cfe6f377",
   "metadata": {},
   "source": [
    "[Back to links](#top)"
   ]
  },
  {
   "cell_type": "markdown",
   "id": "9530a191",
   "metadata": {},
   "source": [
    "## Cleansing <a id=\"dc\"></a>"
   ]
  },
  {
   "cell_type": "code",
   "execution_count": 36,
   "id": "dc6281a9",
   "metadata": {
    "scrolled": false
   },
   "outputs": [
    {
     "data": {
      "image/png": "[encoded data removed]",
      "text/plain": [
       "<Figure size 1440x864 with 20 Axes>"
      ]
     },
     "metadata": {
      "needs_background": "light"
     },
     "output_type": "display_data"
    }
   ],
   "source": [
    "xtra.hist(figsize = (20,12))\n",
    "plt.show()"
   ]
  },
  {
   "cell_type": "code",
   "execution_count": 37,
   "id": "c835ce5f",
   "metadata": {},
   "outputs": [
    {
     "data": {
      "text/plain": [
       "round                       0\n",
       "lat                         0\n",
       "lng                         0\n",
       "alt                         0\n",
       "grid                        0\n",
       "positionOrder               0\n",
       "laps                        0\n",
       "prev_champion               0\n",
       "position                10750\n",
       "q1                      10847\n",
       "q2                      13718\n",
       "q3                      15029\n",
       "age                       149\n",
       "prev_points                 0\n",
       "prev_milliseconds       12302\n",
       "prev_fastestLap         10348\n",
       "prev_rank               12100\n",
       "prev_fastestLapTime     10348\n",
       "prev_fastestLapSpeed    12232\n",
       "prev_avg_lap            10350\n",
       "dtype: int64"
      ]
     },
     "execution_count": 37,
     "metadata": {},
     "output_type": "execute_result"
    }
   ],
   "source": [
    "xtra.isnull().sum()"
   ]
  },
  {
   "cell_type": "markdown",
   "id": "2369cdf0",
   "metadata": {},
   "source": [
    "[Back to links](#top)"
   ]
  },
  {
   "cell_type": "markdown",
   "id": "4c20927f",
   "metadata": {},
   "source": [
    "### Missing Values Imputation <a id=\"mvi\"></a>"
   ]
  },
  {
   "cell_type": "code",
   "execution_count": 38,
   "id": "5c99aa48",
   "metadata": {},
   "outputs": [],
   "source": [
    "for var in [\"age\"]:    \n",
    "    IQR = xtra[var].quantile(0.75) - xtra[var].quantile(0.25)\n",
    "    val = xtra[var].quantile(0.75) + 1.5 * IQR\n",
    "    xtra[var].fillna(val, inplace = True)\n",
    "    xtes[var].fillna(val, inplace = True)"
   ]
  },
  {
   "cell_type": "code",
   "execution_count": 39,
   "id": "c9adf14f",
   "metadata": {},
   "outputs": [],
   "source": [
    "xtra = xtra.fillna(0)\n",
    "xtes = xtes.fillna(0)"
   ]
  },
  {
   "cell_type": "markdown",
   "id": "f1846ef8",
   "metadata": {},
   "source": [
    "[Back to links](#top)"
   ]
  },
  {
   "cell_type": "markdown",
   "id": "5b255ddb",
   "metadata": {},
   "source": [
    "## Model <a id=\"ai\"></a>"
   ]
  },
  {
   "cell_type": "code",
   "execution_count": 40,
   "id": "e2e686a8",
   "metadata": {},
   "outputs": [],
   "source": [
    "def naive_baseline(ytra, ytes):\n",
    "    # takes the modal class and predicts it to be the result for every row\n",
    "    from scipy import stats\n",
    "    mode = stats.mode(ytra)[0] # most frequent\n",
    "    # print(mode)\n",
    "    # list of all the predicted values\n",
    "    tra_pred = [int(mode) for row in ytra.iloc[:]]\n",
    "    tes_pred = [int(mode) for row in ytes.iloc[:]]\n",
    "    # calculating score\n",
    "    from sklearn.metrics import accuracy_score\n",
    "    tra_score = accuracy_score(ytra,tra_pred) * 100\n",
    "    tes_score = accuracy_score(ytes,tes_pred) * 100\n",
    "    return (tra_score, tes_score)"
   ]
  },
  {
   "cell_type": "markdown",
   "id": "a5870848",
   "metadata": {},
   "source": [
    "[Back to links](#top)"
   ]
  },
  {
   "cell_type": "markdown",
   "id": "037e8d99",
   "metadata": {},
   "source": [
    "### Naive Baseline <a id=\"naive\"></a>"
   ]
  },
  {
   "cell_type": "code",
   "execution_count": 41,
   "id": "8236d08e",
   "metadata": {
    "scrolled": true
   },
   "outputs": [
    {
     "data": {
      "text/plain": [
       "(35.39615564932021, 35.02871205906481)"
      ]
     },
     "execution_count": 41,
     "metadata": {},
     "output_type": "execute_result"
    }
   ],
   "source": [
    "naive_baseline(ytra,ytes)"
   ]
  },
  {
   "cell_type": "markdown",
   "id": "5fd9e1f1",
   "metadata": {},
   "source": [
    "[Back to links](#top)"
   ]
  },
  {
   "cell_type": "markdown",
   "id": "27ca2a17",
   "metadata": {},
   "source": [
    "### Final Model <a id=\"rfm\"></a>"
   ]
  },
  {
   "cell_type": "code",
   "execution_count": 42,
   "id": "e46cf813",
   "metadata": {},
   "outputs": [],
   "source": [
    "from sklearn.metrics import matthews_corrcoef\n",
    "from sklearn.ensemble import RandomForestClassifier\n",
    "\n",
    "rf = RandomForestClassifier(n_estimators = 650, random_state = 404)\n",
    "# Train the model on training data\n",
    "rf.fit(xtra, ytra)\n",
    "y_train_preds = rf.predict(xtra)\n",
    "y_test_preds = rf.predict(xtes)"
   ]
  },
  {
   "cell_type": "code",
   "execution_count": 43,
   "id": "f2bc82ea",
   "metadata": {},
   "outputs": [],
   "source": [
    "train_mcc = matthews_corrcoef(ytra,y_train_preds) * 100\n",
    "test_mcc = matthews_corrcoef(ytes, y_test_preds) * 100"
   ]
  },
  {
   "cell_type": "code",
   "execution_count": 44,
   "id": "0365fc66",
   "metadata": {},
   "outputs": [
    {
     "name": "stdout",
     "output_type": "stream",
     "text": [
      "train's MCC: 99.98367226375512 % \n",
      "test's MCC : 72.99163637256456 % \n"
     ]
    }
   ],
   "source": [
    "print(\"train's MCC: {0} % \".format(train_mcc))\n",
    "print(\"test's MCC : {0} % \".format(test_mcc))"
   ]
  },
  {
   "cell_type": "markdown",
   "id": "8a321cd6",
   "metadata": {},
   "source": [
    "[Back to links](#top)"
   ]
  },
  {
   "cell_type": "markdown",
   "id": "6105a9ac",
   "metadata": {},
   "source": [
    "# Report <a id=\"report\"></a>"
   ]
  },
  {
   "cell_type": "markdown",
   "id": "ff94ae6d",
   "metadata": {},
   "source": [
    "## 1 [Introduction](#1)\n",
    "   - [1.1 Focus](#1.1)\n",
    "\n",
    "## 2 [Problem Formulation](#2)\n",
    "   - [2.1 Background](#2.1)\n",
    "   - [2.2 EDA](#2.2)\n",
    "   - [2.3 Prediction Problem](#2.3)\n",
    "   \n",
    "## 3 [Wrangling](#3)\n",
    "   - [3.1 Creation / Deletion](#3.1)\n",
    "   - [3.2 Merging](#3.2)\n",
    "   \n",
    "## 4 [Transformations](#4)\n",
    "   - [4.1 Missing Values](#4.1)\n",
    "   - [4.2 Numerical Data](#4.2)\n",
    "\n",
    "## 5 [Model](#5)\n",
    "   - [5.1 Algorithm](#5.1)\n",
    "   - [5.2 Evaluation Metric](#5.2)\n",
    "   - [5.3 Final Model](#5.3)\n",
    "\n",
    "## 6 [Summary](#6)\n",
    "   - [6.1 Further improvements](#6.1)"
   ]
  },
  {
   "cell_type": "markdown",
   "id": "e1571103",
   "metadata": {},
   "source": [
    "## Introduction <a id=\"1\"></a>"
   ]
  },
  {
   "cell_type": "markdown",
   "id": "dcb0923c",
   "metadata": {},
   "source": [
    "This report will explore the extracted dataset from the online F1 Database hosted on [\"Ergast.com\"](http://ergast.com/mrd/), with the intention to create a simple machine learning model from a cleaned and well-prepared data table. Created from 7 different tables taken from the dataset, the report would also document the data wrangling, cleansing and transformation processes performed onto the dataset, with analysis on which methods and techniques used in each step would be most beneficial and logically sound for the final model. For each step, its explanation would be sufficiently supported by findings from data exploration and data understanding where contextual knowledge would be applied."
   ]
  },
  {
   "cell_type": "markdown",
   "id": "1b1f6cfd",
   "metadata": {},
   "source": [
    "### Focus <a id=\"1.1\"></a>"
   ]
  },
  {
   "cell_type": "markdown",
   "id": "07436000",
   "metadata": {},
   "source": [
    "The end result of this report would be a well-trained classification model. Used to solve a prediction problem, this model's aim is to predict the possible outcome of a race before it occurs. The possible end status on a race have been categorised into 4 main outcomes : Success, Did not participate/finish, Risk events and Set-Up issues.\n",
    "The main evaluation metric used throughout the report would be the Matthew's correlation coefficient (MCC) of the dataset used for testing, which showcases the correlation between the true \"unknown\" values and predicted values. The final model's performance would also be scruntised through [different lens](#5.3), highlighting the best of the model's abilities."
   ]
  },
  {
   "cell_type": "markdown",
   "id": "e7a40d94",
   "metadata": {},
   "source": [
    "[Back to Table of Contents](#report)"
   ]
  },
  {
   "cell_type": "markdown",
   "id": "af81d8bd",
   "metadata": {},
   "source": [
    "## Problem Formulation <a id=\"2\"></a>"
   ]
  },
  {
   "cell_type": "markdown",
   "id": "2d21c516",
   "metadata": {},
   "source": [
    "### Background <a id=\"2.1\"></a>"
   ]
  },
  {
   "cell_type": "markdown",
   "id": "93f28e89",
   "metadata": {},
   "source": [
    "Formula 1 (F1) is often seen as the pinnacle of motorsport, where the best of technology is tested to the limits by the best drivers internationally. Every year, a F1 season is held globally, where the participants travel all over the world racing [the best cars in the different circuits located in all corners](https://www.youtube.com/watch?v=dgfBhZ_9K4k). In a season, the main event at each circuit, known as a [grand prix](https://www.youtube.com/watch?v=SSdsncLXLYs), is held on the final day of the weekend. With [a weekend format](https://www.youtube.com/watch?v=twAlqtvVMdc), the previous day would be the driver's qualifiers, which determines whether they can race the next day and where they start from. \n",
    "\n",
    "During the grand prix, points are only awarded to the top 10 drivers based on their finished positions. In the ascending ranking the following points are gained as such: 25, 18, 15, 12, 10, 8, 6, 4, 2, 1. Though, the driver with the fastest lap time completed during the race also gains an additional point."
   ]
  },
  {
   "cell_type": "markdown",
   "id": "93752935",
   "metadata": {},
   "source": [
    "[Qualifiers](https://www.youtube.com/watch?v=kzsGRhhRr5g) often have 4 rounds, where each round the last 5 gets eliminated from partipating in the next round. The first two to complete all the qualifying rounds and to complete the fastest would get the pole position during the next day's race, which is the very front of the grid and the nearest to the circuit's starting line."
   ]
  },
  {
   "cell_type": "markdown",
   "id": "f9f530fc",
   "metadata": {},
   "source": [
    "F1 ultimately compromises of 3 main stakeholders: the constructors (people engineering the car), the drivers (people behind the wheel) and the spectators (people behind the stands). Each constructor or team would employ 2 drivers to drive the same car in each grand prix, and the constructors would earn every point their appointed drivers earn from each grand prix. In the season, there are 2 over-arching championships, for the best constructors and the fastest drivers. The spectators on the other hand, at most can benefit financially from this event from placing bets. Otherwise, the spectators themselves do not have any direct impact on the other 2 stakeholders. Possibly an indirect motivation for the constructors, where the top constructors strive to win the championship so as to [uphold their brand image and reputation](https://www.youtube.com/watch?v=SSdsncLXLYs)"
   ]
  },
  {
   "cell_type": "markdown",
   "id": "40a79e9b",
   "metadata": {},
   "source": [
    "Recently, at the [24 July'22 French Grand Prix](https://www.youtube.com/watch?v=gW6r-BPdtN0), a frontrunner voted to win the driver's championship called Charles Leclerc collided when his car went off the track, ultimately labelling his run then as \"DNF\". This caused ripples within the racing community, on how unfortunate this was considering he attained the pole position and was easily leading in the race before his collision during the 18th lap."
   ]
  },
  {
   "cell_type": "markdown",
   "id": "143803e2",
   "metadata": {},
   "source": [
    "[Back to Table of Contents](#report)"
   ]
  },
  {
   "cell_type": "markdown",
   "id": "bc9b319f",
   "metadata": {},
   "source": [
    "### EDA <a id=\"2.2\"></a>"
   ]
  },
  {
   "cell_type": "markdown",
   "id": "e971fbd2",
   "metadata": {},
   "source": [
    "The dataset given consists of 13 tables, as stated by the data dictionary. This dictionary also states how the primary keys (aka the columns used to join and merge tables) are all internal usage, citing no real meaning behind such numbers. Essentially, this mean that after merging, it is okay to drop such columns especially if there are other ways to identify each row in more meaningful ways. However, this supplementary data dictionary often gave vague column descriptions, warranting a more thorough exploration of each tables' column to identify the meaning and context behind each value.\n",
    "\n",
    "Overall, it seems that it is possible to group the tables into 4 categories relating to the different aspects and stakeholders involved in F1. This would be: season, constructor, driver, and grand prix."
   ]
  },
  {
   "cell_type": "markdown",
   "id": "5a7c6324",
   "metadata": {},
   "source": [
    "For the aspect on the F1 season overall, the following tables and their respective column descriptions were identified.\n",
    "\n",
    "    Circuits\n",
    "        circuitId : Primary key for internal database use\n",
    "        circuitRef : Unique identifier used in official settings\n",
    "        name : Circuit name\n",
    "        location : Location of the circuit\n",
    "        country : Host country of the circuit\n",
    "        lat : Latitude of the circuit\n",
    "        lng : Longitude of the circuit\n",
    "        alt : Altitude of the circuit in metres\n",
    "        url : Url for its wikipedia page\n",
    "This table itself have no substantial data with direct relation to the race's results, with the features relating to the geospatial location of each circuit being most of interest. It is possible that the altitude of which the grand prix is held at could potentially negatively affect a driver's race. Additionally, the longitude and latitude of each circuits would be a better identifier for each circuit than the columns \"circuitId\", \"circuitRef\" and \"name\". These sets of information could also identify whether certain cicruits are held within the same country. After all, it can be argued that the next race being held in the same country as the previous race would not negatively affect the drivers (e.g jet lag) and in turn their performance."
   ]
  },
  {
   "cell_type": "markdown",
   "id": "8d07950f",
   "metadata": {},
   "source": [
    "    Seasons\n",
    "        year: Year of which the season held on\n",
    "        url : Url for that year's season wikipedia page\n",
    "Overall, this table does not provide a lot of data at first glance. To extract the most from these 2 columns, web scraping can be done to extract more information from the \"url\" here, but that could potentially introduce unnecessary and redundant data. Out of fear doing so could possibly lead to data leakage, this table have been slated not to be used for the final table."
   ]
  },
  {
   "cell_type": "markdown",
   "id": "3e22dd56",
   "metadata": {},
   "source": [
    "For the aspect on the participating constructors, the following tables and their respective column descriptions were identified.\n"
   ]
  },
  {
   "cell_type": "markdown",
   "id": "b9104b4d",
   "metadata": {},
   "source": [
    "    Constructors\n",
    "        constructorId : Primary key for internal database use\n",
    "        constructorRef : Unique identifier used in official settings\n",
    "        name : Name of the constructor (Company / Division name)\n",
    "        nationality : Constructor's host country\n",
    "        url : Url for its wikipedia page\n",
    "By itself, this table does not offer a lot of value since it seems it serves to identify each constructor's name. Even the nationality do not offer much interest since the country the company was founded in should not have an effect on the grand prix's results."
   ]
  },
  {
   "cell_type": "markdown",
   "id": "0349ba81",
   "metadata": {},
   "source": [
    "    Constructors_standings\n",
    "        constructorStandingId : Primary key for internal database use\n",
    "        raceId : Foreign key link to the tables related to the grand prix\n",
    "        constructorId : Foreign key link to the \"Constructors\" table\n",
    "        points : Total amount of points earned by their drivers\n",
    "        position : Rank amongst the constructors in each race\n",
    "        positionText : \"position\" but with status on the ranking\n",
    "        wins: Number of their drivers attaining first so far in the season\n",
    "    Constructors_results:\n",
    "        constructorResultsId : Primary key for internal database use\n",
    "        raceId : Foreign key link to the tables related to the grand prix\n",
    "        constructorId : Foreign key link to the \"Constructors\" table\n",
    "        points : Same as \"points\" in \"Constructors_standings\"\n",
    "        status : results' status / reason behind NaN values for 'points'\n",
    "These two tables' data tally with each other, where the points are the same. For the \"Constructors_standings\" the data is more focussed on how the constructors fare against each other, which would have the most relevant data on the constructor's championship. The \"Constructors_results\" table focussed on the races' result, which can be derived from the \"Results\" table too. Overall, it seems that these 2 tables do not introduce any new information compared to the other tables in the dataset."
   ]
  },
  {
   "cell_type": "markdown",
   "id": "83069191",
   "metadata": {},
   "source": [
    "For the aspect on the participating drivers, the following tables and their respective column descriptions were identified."
   ]
  },
  {
   "cell_type": "markdown",
   "id": "d088e4c6",
   "metadata": {},
   "source": [
    "    Drivers\n",
    "        driverId : Primary key for internal database use\n",
    "        driverRef : Unique identifier used in official settings\n",
    "        number : Number chosen to represent themselves (1 is reserved)\n",
    "        code : Unique code used in offical settings (for broadcasting)\n",
    "        forename : Driver's first name\n",
    "        surname : Driver's family name\n",
    "        dob : Driver's date of birth (dd/mm/yyyy)\n",
    "        nationality : Driver's nationality\n",
    "        url : Url for its wikipedia page\n",
    "The column \"number\" is most interesting, since 2014 drivers are allowed to choose a representative number for themselves. However, the number 1 was reserved for the previous season's champion, for example Max Verstappen being the 2021 world champion and having the number 1 for 2022. Another interesting column would be \"dob\", where the age of the drivers during the race could potentially negatively affect their performance."
   ]
  },
  {
   "cell_type": "markdown",
   "id": "d2f33e70",
   "metadata": {},
   "source": [
    "    Driver_standings\n",
    "        driverStandingsId: Primary key for internal database use\n",
    "        raceId : Foreign key link to the tables related to the grand prix\n",
    "        driverId : Foreign key link to the \"Drivers\" table\n",
    "        points : Total points earned so far in each season\n",
    "        position : Rank amongst the drivers in each race\n",
    "        positionText : \"position\" but with status on the ranking\n",
    "        wins : Number of wins from attaining first so far in each season\n",
    "In a sense, this table is just another perspective on the data presented in the \"Constructors_standings\" table, where the points from the races are instead grouped by the drivers that earned them instead. Thus, in the same essence, this table seems unnecessary."
   ]
  },
  {
   "cell_type": "markdown",
   "id": "d98ec48e",
   "metadata": {},
   "source": [
    "For the aspect on the details of each grand prix, the following tables and their respective column descriptions were identified."
   ]
  },
  {
   "cell_type": "markdown",
   "id": "b62ccd3e",
   "metadata": {},
   "source": [
    "    Pit_stops\n",
    "        raceId : Foreign key link to the \"Races\" / \"Results\" table\n",
    "        driverId : Foreign key link to the \"Drivers\" table\n",
    "        stop : Number of stops taken so far by the driver during a race\n",
    "        lap : Lap number\n",
    "        time : Timestamp of when the pit stop occurred (in 24hr format)\n",
    "        duration : Time spent at the pit stop\n",
    "        milliseconds : \"duration\" but in milliseconds (more accurate)\n",
    "Despite the importance of having pit stops during a race, this table is awfully limited in terms of information, with the earliest data dating back from 2011. This limited range made the table unappealing to use, since the other tables at least have data from earlier races and merging them together could warrant unnecessary NaN values."
   ]
  },
  {
   "cell_type": "markdown",
   "id": "d6f4c14c",
   "metadata": {},
   "source": [
    "    Lap_times\n",
    "        raceId : Foreign key link to the \"Races\" / \"Results\" table\n",
    "        driverId : Foreign key link to the \"Drivers\" table\n",
    "        lap : Lap number \n",
    "        position : Driver's position during the lap\n",
    "        time : Time taken for the lap\n",
    "        milliseconds : \"time\" but in milliseconds (more accurate)\n",
    "        \n",
    "Information about each laps' timings and the driver's position would not be known before the grand prix starts. Thus, the model should utilise the driver's previous race's performance, for example the previous races' average timing taken for a lap or the fastest timing for a lap. Taking the average of the driver's positions during the previous race felt unnecessary, since the timings can already provide such information when sorted. "
   ]
  },
  {
   "cell_type": "markdown",
   "id": "75ba9fd5",
   "metadata": {},
   "source": [
    "    Qualifying\n",
    "        qualifyId : Primary key for internal database use\n",
    "        raceId : Foreign key link to the \"Races\" / \"Results\" table\n",
    "        driverId : Foreign key link to the \"Drivers\" table\n",
    "        constructorId : Foreign key link to the \"Constructors\" table\n",
    "        number : Number chosen to represent themselves (1 is reserved)\n",
    "        position : End position attained from the race's qualifiers\n",
    "        q1 : Total time clocked for the qualifiers' round 1\n",
    "        q2 : Total time clocked for the qualifiers' round 2\n",
    "        q3 : Total time clocked for the qualifiers' round 3\n",
    "As data collected from the day before the grand prix, this table definitely needs to be considered to be used in the final data table. Here, for each round drivers would get eliminated, preventing them from participating in the next round and ultimately resulting in NaN values for the rounds. Rather than dropping the rows where the driver may not have made it through all the rounds, it may be best to replace all the missing values with a 0, representing how the drivers did not even get to participate in those rounds."
   ]
  },
  {
   "cell_type": "markdown",
   "id": "72e0c8bd",
   "metadata": {},
   "source": [
    "    Races\n",
    "        raceId : Primary key for internal database use\n",
    "        round : Round number for the race in its season\n",
    "        circuitId : Foreign key link to the \"Circuits\" table\n",
    "        name : Name of the race\n",
    "        date : Date of when the race is held on\n",
    "        time : Time of when the race starts (in 24hr format)\n",
    "        url : Url for its wikipedia page\n",
    "As a fact table, the most interesting and useful column here would be the \"date\", specifically the year the round is held on."
   ]
  },
  {
   "cell_type": "markdown",
   "id": "d91aa12b",
   "metadata": {},
   "source": [
    "    Results\n",
    "        resultId : Primary key for internal database use\n",
    "        raceId : Foreign key link to the \"Races\" table\n",
    "        driverId : Foreign key link to the \"Drivers\" table\n",
    "        constructorId : Foreign key link to the \"Constructors\" table\n",
    "        number : Same as \"number\" in \"Qualifying\"\n",
    "        grid : Starting position (taken from \"position\" from \"Qualifying\")\n",
    "        position : Ending position attained by the driver\n",
    "        positionText : \"position\" but with status on the race's results\n",
    "        positionOrder : \"position\" but all drivers received a number \n",
    "        points : Number of points earned from the race\n",
    "        laps : Number of laps completed by the driver during a race\n",
    "        time : Total time taken / Time gap from the 5th  when finishing\n",
    "        milliseconds : \"time\"  but in milliseconds (more accurate)\n",
    "        fastestLap : Lap number of which the fastest timing was attained\n",
    "        rank : Rank number among the drivers' fastest lap timing\n",
    "        fastestLapTime : Timing for the driver's fastest lap\n",
    "        fastestLapSpeed : Speed (km/h) for the driver's fastest lap\n",
    "        statusId : Foreign key link to the \"Status\" table\n",
    "After considering the above tables, using a composite key of (\"raceId\",\"driverId\") offers more use than utilising only one. Since a race would have multiple drivers and a driver can compete in multiple races, but a driver can only compete in a certain race once, making the composite key a reliable unique identifier for each row instead of only using one of these features (\"resultId\", \"raceId\", \"driverId\").\n",
    "Most of these information are gathered after the race is finished, so to retain the wealth of data given by this table, new columns should be created to contain the drivers' performance in their previous race. \n",
    "Aditionally, \"positionOrder\" is practicallya number given to all the drivers based on their finishing positions, regardless if the driver even completed the race."
   ]
  },
  {
   "cell_type": "markdown",
   "id": "93a48f49",
   "metadata": {},
   "source": [
    "    Status\n",
    "        statusId : Primary key for internal database use\n",
    "        status : Finishing status / reason behind the failed race\n",
    "Looking through this fact table, all the status seems to be able to be grouped into 4 categories: Finished, did not qualify or finish, risky events often caused by the drivers during the race, and issues with the car's set-up. \n",
    "A common status seen would be the +_ laps, which refers to the number of laps left for the driver to finish after the top 10 placements have been decided. "
   ]
  },
  {
   "cell_type": "markdown",
   "id": "49aca441",
   "metadata": {},
   "source": [
    "[Back to Table of Contents](#report)"
   ]
  },
  {
   "cell_type": "markdown",
   "id": "ed5beb95",
   "metadata": {},
   "source": [
    "### Prediction Problem <a id=\"2.3\"></a>"
   ]
  },
  {
   "cell_type": "markdown",
   "id": "982877e6",
   "metadata": {},
   "source": [
    "After considering carefully the extent of detail given by each table from the dataset, the column \"status\" in the table \"status\" felt the most interesting and important feature in the whole dataset. Towards the constructors and drivers involved in the grand prix, predicting the outcome of the race could give them confidence in their race or could even warn them on whether there could be potential issues with the car's set-up or accidents occuring on the race track. \n",
    "\n",
    "Thus, it was decided that this report's simple machine learning model aims to predict the outcome of the race, by considering the drivers' past performance and the race's different attributes. "
   ]
  },
  {
   "cell_type": "markdown",
   "id": "67f824a6",
   "metadata": {},
   "source": [
    "[Back to Table of Contents](#report)"
   ]
  },
  {
   "cell_type": "markdown",
   "id": "7ee28b01",
   "metadata": {},
   "source": [
    "## Wrangling <a id=\"3\"></a>"
   ]
  },
  {
   "cell_type": "markdown",
   "id": "a17ad9f6",
   "metadata": {},
   "source": [
    "### Creation / Deletion <a id=\"3.1\"></a>"
   ]
  },
  {
   "cell_type": "markdown",
   "id": "2bedadb1",
   "metadata": {},
   "source": [
    "The following creation and dropping of features were all done in consideration of the [EDA done earlier](#2.2). "
   ]
  },
  {
   "cell_type": "markdown",
   "id": "38fdcfb5",
   "metadata": {},
   "source": [
    "For the \"results\" table, the column \"number\" was effectively re-encoded into another columns called \"prev_champion\" to represent whether the driver was the previous season's champion. This is done by checking whether the \"number\" is 1, which is the reserved number for the crowned champion for the previous F1 season. Afterwards, the \"fastestLapTime\" column were transformed and cleaned to represent the timing in milliseconds rather than in the \"MM:SS\" format. Lastly, the redundant columns (\"time\", \"number\", \"position\", \"positionText\") were dropped. The column \"positionOrder\" was retained, with the intention to allow the users of the model to enter in a rough gauge on the driver's finishing position for the race they want to predict the outcome for. Especially since the number assigned to the driver may not necessarily reflect their performance during a race (e.g. getting assigned a number despite not competing)."
   ]
  },
  {
   "cell_type": "markdown",
   "id": "9c88572c",
   "metadata": {},
   "source": [
    "For the \"status\" table, the \"target\" feature was created by checking if the status description falls under the 4 possible outcomes : Success, Did not finish / participate, Risk events or Set-up issues. Only after being merged into the final table will the two columns \"statusId\" and \"status\" be dropped. These descriptions are categorised on whether the driver finished successfully, the driver did not participate or had a couple of laps left to go, the driver had an risky encounter / accident on the race track, or the driver's car encountered issues with its technical parts / machinery. For a more detailed dive into the classification of the status, refer to the function [create_target](#dw) and the lists inside the code block."
   ]
  },
  {
   "cell_type": "markdown",
   "id": "35c16c60",
   "metadata": {},
   "source": [
    "For the \"qualifiers\" table, all of the columns related to the timings completed for each qualifying round were cleaned and transformed to be in milliseconds instead of the \"MM:SS\" format. "
   ]
  },
  {
   "cell_type": "markdown",
   "id": "8a1c1362",
   "metadata": {},
   "source": [
    "The same was applied to the column \"time\" in the table \"laps\", as the column values would be similar in precise the timings are in the \"results\" table. Using the \"milliseconds\" column instead would be more accurate, but it is not as favourable to be used for [imputing missing values later](#fillna). Additionally, this table was used to aggregate the data into two different groups, one for the minimum lap timing for each driver's race (essentially their fastest lap), another for the average timing taken for a lap during a driver's race. The former group is meant for cross-validating and filling in the missing values of the \"results\" table, whereas the latter group will be used to add in 1 more feature into the final table. The idea behind the latter group's usage is that the average timing for a lap could give another layer of information on the driver's past performances in races."
   ]
  },
  {
   "cell_type": "markdown",
   "id": "ab098ee2",
   "metadata": {},
   "source": [
    "For the \"drivers\" table, the column \"dob\" was typecasted to the appropraite 'datetime' data type, which would facilitate an easier creation of another column after merging. This columns would be the driver's age during each of their races."
   ]
  },
  {
   "cell_type": "markdown",
   "id": "d98f7f29",
   "metadata": {},
   "source": [
    "Lastly, the \"races\" table were cleaned up to have their \"dates\" be more plausible, as opposed to races supposedly occurring on dates like \"4/5/12009\" or \"10/29/12017\"."
   ]
  },
  {
   "cell_type": "markdown",
   "id": "ce797951",
   "metadata": {},
   "source": [
    "[Back to Table of Contents](#report)"
   ]
  },
  {
   "cell_type": "markdown",
   "id": "2f3a7c54",
   "metadata": {},
   "source": [
    "### Merging <a id=\"3.2\"></a>"
   ]
  },
  {
   "cell_type": "markdown",
   "id": "fbe645b4",
   "metadata": {},
   "source": [
    "Overall, the common columns in most of the chosen tables would be (\"driverId\", \"raceId\"). This composite key was used in merging the following tables with the \"results\" table : \"qualifiers\", \"average_L\", \"fastest_L\". The other tables were combined using the fact table's primary key, for example, \"circuitId\" in \"circuits\", \"raceId\" in \"races\", \"driverId\" in drivers, and \"statusId\" in \"status\". Afterwards, all of these identifier columns were dropped since such values do not have any intrinsic meaning behind its numbers aside from identifying the rows."
   ]
  },
  {
   "cell_type": "markdown",
   "id": "e419d38a",
   "metadata": {},
   "source": [
    "Some of the columns merged into the main table were only meant to help with filling in [missing values](#fillna) for certain columns. After imputation, these columns were dropped, since its purpose have been fulfilled. Also doing so would reduce the table's dimensionality, hopefully improving the speed of building the final model."
   ]
  },
  {
   "cell_type": "markdown",
   "id": "721e59f0",
   "metadata": {},
   "source": [
    "In the end, this resulted in a final merged table being used for model building, so the following will showcase their columns and where they came from.\n",
    "\n",
    "<table>\n",
    "  <caption>Columns in df</caption>\n",
    "  <tr>\n",
    "    <th>Table taken from</th>\n",
    "    <th>Column Names</th>\n",
    "  </tr>\n",
    "  <tr>\n",
    "    <td>races</td>\n",
    "    <td>round</td>\n",
    "  </tr>\n",
    "  <tr>\n",
    "    <td>circuits</td>\n",
    "    <td>lat, lng, alt</td>\n",
    "  </tr>\n",
    "    <tr>\n",
    "    <td>drivers / races</td>\n",
    "    <td>age</td>\n",
    "  </tr>\n",
    "  <tr>\n",
    "    <td>laps</td>\n",
    "    <td>prev_avg_lap</td>\n",
    "  </tr>\n",
    "  <tr>\n",
    "    <td>qualifiers</td>\n",
    "    <td>q1, q2, q3</td>\n",
    "  </tr>\n",
    "  <tr>\n",
    "    <td>status</td>\n",
    "    <td>target</td>\n",
    "  </tr>\n",
    "  <tr>\n",
    "    <td>results</td>\n",
    "    <td>grid, positionOrder, laps, prev_champion, prev_points, prev_milliseconds, prev_fastestLap, prev_rank, prev_fastestLapTime, prev_LapSpeed</td>\n",
    "  </tr>\n",
    "</table>"
   ]
  },
  {
   "cell_type": "markdown",
   "id": "89780590",
   "metadata": {},
   "source": [
    "After creating a dataframe with 20 columns and 24 378 rows of data, the dataset will be split into 2 sets with the proportions of 3:7, one being for testing and the other used for training the model respectively. Moving forward, whatever transformations done onto the train dataset will also be applied onto the test dataset."
   ]
  },
  {
   "cell_type": "markdown",
   "id": "2e301ae9",
   "metadata": {},
   "source": [
    "[Back to Table of Contents](#report)"
   ]
  },
  {
   "cell_type": "markdown",
   "id": "ab4baab7",
   "metadata": {},
   "source": [
    "## Transformation <a id=\"4\"></a>"
   ]
  },
  {
   "cell_type": "markdown",
   "id": "7733094a",
   "metadata": {},
   "source": [
    "In the merged table, the following columns were pinpointed to be information that cannot be known before a race starts: \"points\", \"milliseconds\",\"fastestLap\", 'rank', \"fastestLapTime\", \"fastestLapSpeed\", \"avg_lap\".\n",
    "\n",
    "These columns then underwent a \"lag shift\", which created columns where all the values were just shifted down 1 row after the table were sorted by \"driverId\" and \"date\" of the race (since the \"driverId\" is not labelled chronologically). These new columns are used to refer to the driver's performance in the previous race the driver attended. Afterwards, all the rows on a driver's first race were dropped due to this \"lag shift\"."
   ]
  },
  {
   "cell_type": "markdown",
   "id": "baa216f5",
   "metadata": {},
   "source": [
    "### Missing Values <a id=\"4.1\"></a>"
   ]
  },
  {
   "cell_type": "markdown",
   "id": "938b7c69",
   "metadata": {},
   "source": [
    "Even before merging the tables into one, the missing values in the table \"circuits\" were imputed with the corresponding values found online. Since it is more efficient to impute 2 missing records than to impute every \"alt\" record every time the race is held at certain circuits."
   ]
  },
  {
   "cell_type": "markdown",
   "id": "cde41e96",
   "metadata": {},
   "source": [
    "In the merged data table<a id = \"fillna\"></a>, there is still 168917 NaN values left. However, it is possible to use data from other columns to retrieve or calculate the right value for the missing values. For example, from the \"Laps_time\" table the fastest lap timing can be aggregated according to each race for each driver. Extracting this information would then be used to impute the corresponding missing values for the \"fastest_Lap\" and the \"fastest_LapTime\". Doing so would replace 2767 and 2768 missing values respectively, leaving the other NaN values in those columns blank still.\n",
    "\n",
    "The columns still containing such NaN values mostly is due to the fact that the driver may have not participated or finished the previous race or all the qualifying rounds, resulting in a blank value for them. Thus, it is logically sound to continue treating such missing values as \"a no show\" or \"did not happen\" by imputing the missing values with 0, indicating how in a sense the race/qualifiers did not occur. Afterwards, only one column (\"age\") is left with missing values."
   ]
  },
  {
   "cell_type": "markdown",
   "id": "c57e63ee",
   "metadata": {},
   "source": [
    "Thus, mutliple trials were ran to decide which imputation method would yield the highest MCC for the random forest model, where each model has 835 estimators / trees. "
   ]
  },
  {
   "cell_type": "markdown",
   "id": "c3a71c38",
   "metadata": {},
   "source": [
    "<table>\n",
    "  <caption>Imputation Methods' MCC Results in % </caption>\n",
    "  <tr>\n",
    "    <th></th>\n",
    "    <th>Mean</th>\n",
    "    <th>Median</th>\n",
    "    <th>Mode</th>\n",
    "    <th>End Tail</th>\n",
    "    <th>Constant (0)</th>\n",
    "  </tr>\n",
    "  <tr>\n",
    "    <th>Train</th>\n",
    "    <td style=\"background-color:#FFFFBF\">99.98367226375512</td>\n",
    "    <td style=\"background-color:#FFFFBF\">99.98367226375512</td>\n",
    "    <td style=\"background-color:#FFFFBF\">99.98367226375512</td>\n",
    "    <td style=\"background-color:#FFFFBF\">99.98367226375512</td>\n",
    "    <td style=\"background-color:#FFFFBF\">99.98367226375512</td>\n",
    "  </tr>\n",
    "  <tr>\n",
    "    <th>Test</th>\n",
    "    <td>72.48023964963538</td>\n",
    "    <td>72.4466447732789</td>\n",
    "    <td>72.67337812216668</td>\n",
    "    <td style=\"background-color:#FFFFBF\">72.70294080037132</td>\n",
    "    <td>72.47900395466822</td>\n",
    "  </tr>\n",
    "</table>\n"
   ]
  },
  {
   "cell_type": "markdown",
   "id": "8e6b9219",
   "metadata": {},
   "source": [
    "As seem from the above, imputing the missing values with the higher outlying value found in the age's distribution seems reasonable, as it greatly improves the model's performance."
   ]
  },
  {
   "cell_type": "markdown",
   "id": "1721868b",
   "metadata": {},
   "source": [
    "[Back to Table of Contents](#report)"
   ]
  },
  {
   "cell_type": "markdown",
   "id": "54564da2",
   "metadata": {},
   "source": [
    "### Numerical Data <a id=\"4.2\"></a>"
   ]
  },
  {
   "cell_type": "markdown",
   "id": "330d88c2",
   "metadata": {},
   "source": [
    "Considering the principles behind the random forest model, it seems [unnecessary to mathematically transform or scale the dataset](https://stats.stackexchange.com/questions/58697/when-to-log-exp-your-variables-when-using-random-forest-models), since the algorithm is not based off euclidean distance (distance between each data point plotted) and does not benefit from normally distributed features. Thus, no correction or changes should be done onto the features just to attain a gaussian distribution. Doing so unnecessarily ultimately changes the data values, a rather needless action. Additionally, none of the outliers in every columns seems improbable but in fact sound logical, considering the context behind each race.\n",
    "\n",
    "As such, the only techniques used in transforming the dataset would be discretization."
   ]
  },
  {
   "cell_type": "markdown",
   "id": "1360ca50",
   "metadata": {},
   "source": [
    "In this rather \"brute-force\" process, 1 048 575 combinations were made from the 20 features present, and during the trials, each combination of features would be discretized into bins of either equal frequency or width. Afterwards, a random forest model would be trained from that dataset and be evaluated through its MCC. For every trial, the random forest model is set to have 835 trees each time, using the same random seed."
   ]
  },
  {
   "cell_type": "markdown",
   "id": "1f473179",
   "metadata": {},
   "source": [
    "For the method of binning by frequency, only 34 631 / 1 048 575 of the possible feature combinations were tested, while for the method of binning by width, only 46 897 combinations were tested. Not all could have been tested due to time constraints (approximately ~12 days) and the machine's memory constraint (would require more than 16gb RAM)."
   ]
  },
  {
   "cell_type": "markdown",
   "id": "8e5245c7",
   "metadata": {},
   "source": [
    "<table>\n",
    "  <caption>Discretization' MCC Results in % </caption>\n",
    "  <tr>\n",
    "    <th>no.</th>\n",
    "    <th>Features</th>\n",
    "    <th>Type</th>\n",
    "    <th>Method</th>\n",
    "    <th>Train's MCC</th>\n",
    "    <th>Test's MCC</th>\n",
    "  </tr>\n",
    "  <tr>\n",
    "    <th>4</th>\n",
    "    <td >'lat', 'laps', 'position', 'age', 'prev_points'</td>\n",
    "    <td > By Freq </td>\n",
    "    <td >Struge's v2</td>\n",
    "    <td >99.98367226375512</td>\n",
    "    <td>72.48023964963538</td>\n",
    "  </tr>\n",
    "  <tr>\n",
    "    <th>4</th>\n",
    "    <td >'lat', 'laps', 'position', 'age', 'prev_points'</td>\n",
    "    <td > By Freq </td>\n",
    "    <td >Freedman</td>\n",
    "    <td >99.97550908061218</td>\n",
    "    <td>71.75444370018735</td>\n",
    "  </tr>\n",
    "  <tr>\n",
    "    <th>4</th>\n",
    "          <td >'q3', 'prev_points', 'prev_milliseconds', 'prev_rank'</td>\n",
    "    <td > By Freq </td>\n",
    "    <td >Struge's v2</td>\n",
    "    <td >99.98367226375512</td>\n",
    "    <td>72.34796603973713</td>\n",
    "  </tr>\n",
    "    \n",
    "  <tr>\n",
    "    <th>5</th>\n",
    "          <td >'alt', 'q3', 'age', 'prev_fastestLap', 'prev_fastestLapTime'</td>\n",
    "    <td > By Freq </td>\n",
    "    <td >Struge's</td>\n",
    "    <td >99.98367226375512</td>\n",
    "    <td>72.55652440292747</td>\n",
    "  </tr>\n",
    "  <tr>\n",
    "    <th>5</th>\n",
    "          <td >'grid', 'q2', 'q3', 'age', 'prev_avg_lap'</td>\n",
    "    <td > By Freq </td>\n",
    "    <td >Struge's </td>\n",
    "    <td >99.98367226375512</td>\n",
    "    <td>72.27999745431923</td>\n",
    "  </tr>\n",
    "  <tr>\n",
    "    <th>5</th>\n",
    "          <td >'lat', 'prev_fastestLap', 'prev_rank', 'prev_fastestLapSpeed', 'prev_avg_lap'</td>\n",
    "    <td > By Width </td>\n",
    "    <td >Freedman</td>\n",
    "    <td >99.98367226375512</td>\n",
    "    <td>72.62203623992446</td>\n",
    "  </tr>\n",
    "  <tr>\n",
    "    <th>5</th>\n",
    "          <td >'lng', 'grid', 'q2', 'age', 'prev_fastestLapTime'</td>\n",
    "    <td > By Width </td>\n",
    "    <td >Struge's  </td>\n",
    "    <td >99.98367226375512</td>\n",
    "    <td>72.36551054496694</td>\n",
    "  </tr>\n",
    "  <tr>\n",
    "    <th>6</th>\n",
    "          <td >'lat', 'age', 'prev_fastestLap', 'prev_rank', 'prev_fastestLapSpeed', 'prev_avg_lap'</td>\n",
    "    <td > By Width </td>\n",
    "    <td >Freedman</td>\n",
    "    <td >99.98367226375512</td>\n",
    "    <td>72.62203623992446</td>\n",
    "  </tr>\n",
    "  <tr>\n",
    "    <th>6</th>\n",
    "          <td >'lat', 'position', 'prev_fastestLap', 'prev_rank', 'prev_fastestLapSpeed', 'prev_avg_lap'</td>\n",
    "    <td > By Width </td>\n",
    "    <td >Freedman</td>\n",
    "    <td >99.98367226375512</td>\n",
    "    <td>72.62203623992446</td>\n",
    "  </tr>\n",
    "  <tr>\n",
    "    <th>6</th>\n",
    "          <td >'lat', 'position', 'age', 'prev_fastestLap', 'prev_fastestLapSpeed', 'prev_avg_lap'</td>\n",
    "    <td > By Width </td>\n",
    "    <td >Freedman</td>\n",
    "    <td >99.98367226375512</td>\n",
    "    <td>72.62203623992446</td>\n",
    "  </tr>\n",
    "</table>"
   ]
  },
  {
   "cell_type": "markdown",
   "id": "76168c34",
   "metadata": {},
   "source": [
    "The table has shown that even the top 10 discretizated dataset delivered a worser model performance than a model trained by an undiscretized dataset (test MCC of 72.70294080037132 %). As such, none of the features in the dataset should be discretized."
   ]
  },
  {
   "cell_type": "markdown",
   "id": "121357e1",
   "metadata": {},
   "source": [
    "[Back to Table of Contents](#report)"
   ]
  },
  {
   "cell_type": "markdown",
   "id": "b39fb977",
   "metadata": {},
   "source": [
    "## Model <a id=\"5\"></a>"
   ]
  },
  {
   "cell_type": "markdown",
   "id": "6237d3b7",
   "metadata": {},
   "source": [
    "### Algorithm <a id=\"5.1\"></a>"
   ]
  },
  {
   "cell_type": "markdown",
   "id": "93fbda08",
   "metadata": {},
   "source": [
    "The chosen algorithm for the machine learning model was originally the [Random Forest Classifier](https://towardsdatascience.com/understanding-random-forest-58381e0602d2), which works by having an ensemble of individual decision trees operating independently spit out predictions and taking the most common prediction as the answer. Through the wisdom of crowds, the idea is that a large number of trees with low correlations to each other operate independently together will outperform any other individual tree.\n",
    "\n",
    "[Additionally](https://builtin.com/data-science/random-forest-algorithm), the random forest classifier algorithm has a built-in dimensionality reduction feature, where a constituent tree would search for the best feature from a subset of features. Also, the number of trees do not affect the chances of overfitting, a common issue faced when building machine learning models."
   ]
  },
  {
   "cell_type": "markdown",
   "id": "d5c64b21",
   "metadata": {},
   "source": [
    "The model was originally chosen to use this algorithm, but more trials were done where the model utilised a [different classification algorithm](https://www.javatpoint.com/classification-algorithm-in-machine-learning#:~:text=The%20Classification%20algorithm%20is%20a,number%20of%20classes%20or%20groups.). 3 of the most common algorithms were chosen and their respective model's performance is shown below:"
   ]
  },
  {
   "cell_type": "markdown",
   "id": "929ea045",
   "metadata": {},
   "source": [
    "<table>\n",
    "  <caption>Algorithms behind Models' MCC Results in % </caption>\n",
    "  <tr>\n",
    "    <th>Algorithm</th>\n",
    "    <th>Solver / Type</th>\n",
    "    <th>Train</th>\n",
    "    <th>Test</th>\n",
    "  </tr>\n",
    "  <tr>\n",
    "    <th>Logistic Regression</th>\n",
    "    <td>lbgfs</td>\n",
    "    <td>22.5383976878983</td>\n",
    "    <td>22.803462116472915 </td>\n",
    "  </tr>\n",
    "  <tr>\n",
    "    <th></th>\n",
    "    <td>newton-cg</td>\n",
    "    <td>44.69723943502344</td>\n",
    "    <td>44.19072098625655</td>\n",
    "  </tr>\n",
    "  <tr>\n",
    "    <th></th>\n",
    "    <td>liblinear</td>\n",
    "    <td> - </td>\n",
    "    <td> - </td>\n",
    "  </tr>\n",
    "  <tr>\n",
    "    <th></th>\n",
    "    <td>sag</td>\n",
    "    <td>22.577579038604927</td>\n",
    "    <td>22.577579038604927</td>\n",
    "  </tr>\n",
    "  <tr>\n",
    "    <th></th>\n",
    "    <td>saga</td>\n",
    "    <td>22.541425519661047</td>\n",
    "    <td>22.81986384387709</td>\n",
    "  </tr>\n",
    "  <tr>\n",
    "    <th>Decision Tree</th>\n",
    "    <td>  </td>\n",
    "    <td>100.0</td>\n",
    "    <td>58.52082450085031 </td>\n",
    "  </tr>\n",
    "  <tr>\n",
    "    <th>Naive Bayes</th>\n",
    "    <td> Gaussian </td>\n",
    "    <td>19.61929024449286</td>\n",
    "    <td>20.026483158767665 </td>\n",
    "  </tr>\n",
    "  <tr>\n",
    "    <th></th>\n",
    "    <td>Bernoulli</td>\n",
    "    <td>23.735326390101875</td>\n",
    "    <td>23.390927104681843</td>\n",
    "  </tr>\n",
    "  <tr>\n",
    "    <th></th>\n",
    "    <td>Multinomial</td>\n",
    "    <td> - </td>\n",
    "    <td> - </td>\n",
    "  </tr>\n",
    "  <tr>\n",
    "    <th></th>\n",
    "    <td>Complement</td>\n",
    "    <td> - </td>\n",
    "    <td> - </td>\n",
    "  </tr>\n",
    "  <tr>\n",
    "    <th></th>\n",
    "    <td>Categorical</td>\n",
    "    <td> - </td>\n",
    "    <td> - </td>\n",
    "  </tr>\n",
    "</table>\n"
   ]
  },
  {
   "cell_type": "markdown",
   "id": "2566996c",
   "metadata": {},
   "source": [
    "As expected, the random forest classifier performed the best, which validate the decision to use the algorithm from the start. However, all of these models had the same training dataset, which could explain their poor performance. After all, the dataset were wrangled, cleaned, and transformed to suit the random forest algorithm the best."
   ]
  },
  {
   "cell_type": "markdown",
   "id": "e096c6d9",
   "metadata": {},
   "source": [
    "In all the previous trials done throughout each cleansing and transformation process, the random forest classifier was set to have 835 trees when evaluating effectiveness of each process. However, to ensure that 835 is the most suitable number of trees to be used for the random forest model, another trial was done. During this, 400 models were built and evaluated, where the number of trees used in each ranged from 5 to 2 000 in steps of 5. The following table consolidates the trial's results and showcases the top 5 models, inclusive of the model used throughout the report in comparison."
   ]
  },
  {
   "cell_type": "markdown",
   "id": "d885680c",
   "metadata": {},
   "source": [
    "<table>\n",
    "  <caption>Top 5 Models' MCC Results in % </caption>\n",
    "  <tr>\n",
    "    <th>no.</th>\n",
    "    <th>Train</th>\n",
    "    <th>Test</th>\n",
    "  </tr>\n",
    "  <tr>\n",
    "    <th>645</th>\n",
    "    <td>99.98367226375512</td>\n",
    "    <td>72.91453222439853 </td>\n",
    "  </tr>\n",
    "  <tr>\n",
    "    <th style=\"background-color:#FFFFBF\">650</th>\n",
    "    <td>99.98367226375512</td>\n",
    "    <td style=\"background-color:#FFFFBF\">72.99163637256456</td>\n",
    "  </tr>\n",
    "  <tr>\n",
    "    <th>655</th>\n",
    "    <td>99.98367226375512</td>\n",
    "    <td>72.99024955250945</td>\n",
    "  </tr>\n",
    "  <tr>\n",
    "    <th>660</th>\n",
    "    <td>99.98367226375512</td>\n",
    "    <td>72.91428634848909</td>\n",
    "  </tr>\n",
    "  <tr>\n",
    "    <th>835</th>\n",
    "    <td>99.98367226375512</td>\n",
    "    <td>72.70294080037132</td>\n",
    "  </tr>\n",
    "</table>\n"
   ]
  },
  {
   "cell_type": "markdown",
   "id": "9fd87535",
   "metadata": {},
   "source": [
    "As seen from above, the model could perform much better when using 650 decision trees instead of 835."
   ]
  },
  {
   "cell_type": "markdown",
   "id": "4cac1e50",
   "metadata": {},
   "source": [
    "[Back to Table of Contents](#report)"
   ]
  },
  {
   "cell_type": "markdown",
   "id": "d839228c",
   "metadata": {},
   "source": [
    "### Evaluation Metric <a id=\"5.2\"></a>"
   ]
  },
  {
   "cell_type": "markdown",
   "id": "5529d821",
   "metadata": {},
   "source": [
    "As the model is trained to do [multiclass classification](https://towardsdatascience.com/comprehensive-guide-on-multiclass-classification-metrics-af94cfb83fbd), evaluating its performance solely on its accuracy score is not enough. This is due to the nature of multiclass prediction, where there is a distinction among true positives, true negatives, false positives, and false negatives. \n",
    "\n",
    "A true positive (TP) value is where the predicted value corresponds to the true \"desired\" value correctly, as compared to a false positive (FP) value being where the predicted value does not correspond to the true \"desired\" value (the model is meant to predicted the \"undersired\" outcome instead). The same line of thinking is applied onto the distinction between a true negative (TN) and a false negative (FN) , where the negative aspect is referring to an \"undesired\" outcome. This can also be visualised by a [confusion matrix](https://en.wikipedia.org/wiki/Confusion_matrix)\n",
    "\n",
    "For this report, the most desired outcome would be the \"Success\", so this prediction problem would be approached as One-vs-Rest (OVR), where the evaluation metrics find its own class as desirable and the rest undesirable.\n",
    "\n",
    "As compared to binary classification where there is only true or false, multiclass metrics need to evaluate and weigh each class's accuracy through different methods or formulas. This results in multiple facets for a model to be evaluated.\n",
    "\n",
    "However, for comparing models, it is ideal to use a single number, instead of 1 number of each class. This can either be achieved through using an averaged score / metric or a calculated value considering the different attributes or performance scores for a model.\n",
    "\n",
    "Two averaging techniques are as follows:\n",
    "    \n",
    "    Macro\n",
    "        simple arthemetic mean of the metric across all classes\n",
    "    Weighted\n",
    "        takes the average of the metric weighted by each class's size\n",
    "        \n",
    "These techniques are often applied to a model's precision, recall and F1 score values. The usage and calculation for each metric is as such:\n",
    "\n",
    "    Precision\n",
    "        proportion of predicted positives that are truly positive\n",
    "        = TP / (TP + FP)\n",
    "    Recall\n",
    "        proportion of actual positives that are correctly predicted\n",
    "        = TP / (TP + FN)\n",
    "    F1 Score\n",
    "        harmonic mean of the precision value and the recall value\n",
    "        = (2 x Precision x Recall) / (Precision + Recall)\n",
    "        \n",
    "However, these values all only looks at one aspect of the model's performance at a time, making it quite unreliable. Additionally, using F1 score works best when there is a class imbalance. In this report, there is no major disparity between the number of rows for each class, rendering the F1 score irrelevant.\n",
    "\n",
    "Another common metric used would be the Area Under the Receiver Operating Characteristic Curve (ROC AUC / AUROC), quantifying the model's ability to distinguish between each outcome. However, a higher number does not necessarily mean a better model. Thus, this metric is not considered in this report. \n",
    "\n",
    "Unfortunately, even though the classifier would not experience a class imbalance, using accuracy score is not a fair evaluation of the classifier. Luckily, there is a single-number alternative to accuracy which calculates the correlation between true values and the predicted outcomes. This is called Matthew's correlation coefficient (MCC) - the evaluation metric used throughout this report. It is calculates as such:"
   ]
  },
  {
   "attachments": {
    "image-2.png": {
     "image/png": "[encoded data removed]"
    }
   },
   "cell_type": "markdown",
   "id": "8a054f96",
   "metadata": {},
   "source": [
    "![image-2.png](attachment:image-2.png)"
   ]
  },
  {
   "cell_type": "markdown",
   "id": "0d726a10",
   "metadata": {},
   "source": [
    "Often [cited](https://www.youtube.com/watch?v=m_gfjun6XJw) to be the best scoring system to measure the performance of a mutliclass classifier, this evaluation metric was ultimately chosen to be the main metric used throughout this report."
   ]
  },
  {
   "cell_type": "markdown",
   "id": "f82e8a89",
   "metadata": {},
   "source": [
    "[Nonetheless](https://medium.com/analytics-vidhya/evaluating-a-random-forest-model-9d165595ad56), the final model will still be evaluated through other metrics, to give the users more confidence in the classifier's prediction. Additionally, a confusion matrix will be visualised in a heatmap to showcase the proportion of predictions for each outcome by each true value."
   ]
  },
  {
   "cell_type": "markdown",
   "id": "6a565157",
   "metadata": {},
   "source": [
    "[Back to Table of Contents](#report)"
   ]
  },
  {
   "cell_type": "markdown",
   "id": "d5f3ef7d",
   "metadata": {},
   "source": [
    "### Final Model <a id=\"5.3\"></a>"
   ]
  },
  {
   "cell_type": "markdown",
   "id": "1cce2048",
   "metadata": {},
   "source": [
    "With a training dataset with 17 064 rows and 20 features, the model was built using the random forest classifier with 650 constituent decision trees. The graph will showcase the importance of each feature to the model, highlighting the features with the biggest impact on the model."
   ]
  },
  {
   "attachments": {
    "image.png": {
     "image/png": "[encoded data removed]"
    }
   },
   "cell_type": "markdown",
   "id": "e7fb0bf4",
   "metadata": {},
   "source": [
    "![image.png](attachment:image.png)"
   ]
  },
  {
   "cell_type": "markdown",
   "id": "59d83f3f",
   "metadata": {},
   "source": [
    "Seeing how all the features used in the model and contributes to its performance, this is enough to support the creation of the columns earlier and combination of  all the different table's columns into the final merged table."
   ]
  },
  {
   "cell_type": "markdown",
   "id": "0b0326fa",
   "metadata": {},
   "source": [
    "Compared to the naive baseline model built, the final model fared much better in terms of accuracy score, which can be seen in the below table."
   ]
  },
  {
   "cell_type": "markdown",
   "id": "7e08e7b6",
   "metadata": {},
   "source": [
    "<table>\n",
    "  <caption>Final Model's vs Naive Baseline's Accuracy in % </caption>\n",
    "  <tr>\n",
    "    <th></th>\n",
    "    <th>Naive Baseline</th>\n",
    "    <th>Final</th>\n",
    "  </tr>\n",
    "  <tr>\n",
    "    <th>Train</th>\n",
    "    <td>35.39615564932021</td>\n",
    "    <td>100.0</td>\n",
    "  </tr>\n",
    "  <tr>\n",
    "    <th>Test</th>\n",
    "    <td>35.02871205906481</td>\n",
    "    <td>81</td>\n",
    "  </tr>\n",
    "</table>"
   ]
  },
  {
   "cell_type": "markdown",
   "id": "a804c534",
   "metadata": {},
   "source": [
    "These values are extracted from the following code block, which utilises the metrics mentioned earlier."
   ]
  },
  {
   "cell_type": "code",
   "execution_count": 45,
   "id": "2d2de76a",
   "metadata": {},
   "outputs": [
    {
     "name": "stdout",
     "output_type": "stream",
     "text": [
      "              precision    recall  f1-score   support\n",
      "\n",
      "           0       0.88      0.89      0.89      2015\n",
      "           1       0.84      0.86      0.85      2562\n",
      "           2       0.64      0.32      0.43       809\n",
      "           3       0.73      0.84      0.78      1928\n",
      "\n",
      "    accuracy                           0.81      7314\n",
      "   macro avg       0.77      0.73      0.74      7314\n",
      "weighted avg       0.80      0.81      0.80      7314\n",
      "\n"
     ]
    }
   ],
   "source": [
    "# for a clearer understanding of the model's performance\n",
    "from sklearn.metrics import confusion_matrix, classification_report\n",
    "\n",
    "print(classification_report(ytes, y_test_preds))"
   ]
  },
  {
   "cell_type": "markdown",
   "id": "9acb5801",
   "metadata": {},
   "source": [
    " Overall, this model seems to perform well, except for predicting the outcome \"Risk events\". This can be further scruntized in the following heatmap, showcasing how the model may have difficulties differentiating the differences between the class \"Risk events\" and \"Set-up issues\"."
   ]
  },
  {
   "attachments": {
    "image.png": {
     "image/png": "[encoded data removed]"
    }
   },
   "cell_type": "markdown",
   "id": "0094740b",
   "metadata": {},
   "source": [
    "![image.png](attachment:image.png)"
   ]
  },
  {
   "cell_type": "markdown",
   "id": "9bad655f",
   "metadata": {},
   "source": [
    "Nonetheless, the final model is evaluated to perform quite well, being reliable in predicting whether a race would end successfully or not. If the race does not end as a success, the model could also predict a vague reason why, reliably citing it to be either due to the driver or the car's machinery."
   ]
  },
  {
   "cell_type": "markdown",
   "id": "e5348823",
   "metadata": {},
   "source": [
    "[Back to Table of Contents](#report)"
   ]
  },
  {
   "cell_type": "markdown",
   "id": "fe0d40b1",
   "metadata": {},
   "source": [
    "## Summary <a id=\"6\"></a>"
   ]
  },
  {
   "cell_type": "markdown",
   "id": "73c9cfc9",
   "metadata": {},
   "source": [
    "At its best, the model can perform as such:"
   ]
  },
  {
   "attachments": {
    "image.png": {
     "image/png": "[encoded data removed]"
    }
   },
   "cell_type": "markdown",
   "id": "17183279",
   "metadata": {},
   "source": [
    "![image.png](attachment:image.png)"
   ]
  },
  {
   "cell_type": "markdown",
   "id": "48fb8caf",
   "metadata": {},
   "source": [
    "This is attained by\n",
    "- loading in the tables \"results\", \"status\", \"qualifiers\", \"laps\", \"drivers\", \"races\", \"circuits\"\n",
    "- cleaning all the columns relating to timing to be in milliseconds instead\n",
    "- using the \"laps\" table to find the fastest lap timings and corresponding lap number\n",
    "- using such numbers to impute corresponding missing values in \"results\"\n",
    "- getting the average lap timing for each driver's race from \"laps\"\n",
    "- calculating the driver's age during each race\n",
    "- personally imputating missing values in \"circuits\" based on contextual knowledge\n",
    "- merging all the tables together\n",
    "- dropping irrelevant and identifier columns\n",
    "- creating lagged columns by shifting the previous race's statistics in front\n",
    "- imputing missing \"age\" values with outlying values found at the end-tail\n",
    "- imputing the rest of NaN values with 0\n"
   ]
  },
  {
   "cell_type": "markdown",
   "id": "8fe5dc24",
   "metadata": {},
   "source": [
    "### Further Improvements <a id=\"6.1\"></a>"
   ]
  },
  {
   "cell_type": "markdown",
   "id": "3009e4c3",
   "metadata": {},
   "source": [
    "Regardless, there are still more avenues to explore for a possibly better model.\n",
    "\n",
    "Some suggestions would include:\n",
    "- use web scraping to extract more data from the urls\n",
    "- employ Natural Language Processing (NLP) techniques on extracted text data\n",
    "- use information relating the constructor\n",
    "- explore using categorical data with different encoding methods\n",
    "- create more calculated columns from the given columns\n",
    "- check if the driver is native to the circuit's host country\n",
    "- create more classes (hopefully more distinct) for the target variable\n",
    "- consider the number of pit stops and its statistics for each driver's race\n",
    "- include the constructor's or the driver's standings at that point of the season\n",
    "- using an Artifical Neural Network (ANN) instead for prediction\n",
    "<br>\n",
    "etc."
   ]
  },
  {
   "cell_type": "markdown",
   "id": "9f1cb973",
   "metadata": {},
   "source": [
    "[Back to Table of Contents](#report)"
   ]
  }
 ],
 "metadata": {
  "kernelspec": {
   "display_name": "Python 3 (ipykernel)",
   "language": "python",
   "name": "python3"
  },
  "language_info": {
   "codemirror_mode": {
    "name": "ipython",
    "version": 3
   },
   "file_extension": ".py",
   "mimetype": "text/x-python",
   "name": "python",
   "nbconvert_exporter": "python",
   "pygments_lexer": "ipython3",
   "version": "3.9.7"
  }
 },
 "nbformat": 4,
 "nbformat_minor": 5
}
