{
 "cells": [
  {
   "cell_type": "code",
   "execution_count": 33,
   "metadata": {},
   "outputs": [],
   "source": [
    "# import the required packages\n",
    "import pandas as pd\n",
    "import matplotlib.pyplot as plt\n",
    "import numpy as np"
   ]
  },
  {
   "cell_type": "markdown",
   "metadata": {},
   "source": [
    "## 1. HR Analytics"
   ]
  },
  {
   "cell_type": "markdown",
   "metadata": {},
   "source": [
    "### 1.1 Load and Sample the data"
   ]
  },
  {
   "cell_type": "code",
   "execution_count": 34,
   "metadata": {},
   "outputs": [],
   "source": [
    "hr = pd.read_csv(\"./hr_data.csv\")\n",
    "\n",
    "hr[\"education\"].fillna(\"Missing\", inplace = True)\n",
    "hr[\"previous_year_rating\"].fillna(0, inplace = True)\n",
    "hr.drop(columns = \"employee_id\",inplace = True)\n",
    "\n",
    "from feature_engine.encoding import OneHotEncoder\n",
    "\n",
    "ohe = OneHotEncoder(\n",
    "    top_categories=None,\n",
    "    drop_last=True)  # to return k-1, false to return k\n",
    "\n",
    "def find_category_mappings(df, variable):\n",
    "    return {k: i for i, k in enumerate(df[variable].unique(), 0)}\n",
    "\n",
    "def encode(train, test, variable, mapping):\n",
    "    train[variable] = train[variable].map(mapping)\n",
    "    test[variable] = test[variable].map(mapping)"
   ]
  },
  {
   "cell_type": "code",
   "execution_count": 35,
   "metadata": {},
   "outputs": [
    {
     "data": {
      "text/plain": [
       "1    4668\n",
       "0    4668\n",
       "Name: is_promoted, dtype: int64"
      ]
     },
     "execution_count": 35,
     "metadata": {},
     "output_type": "execute_result"
    }
   ],
   "source": [
    "hr1 = hr[hr[\"is_promoted\"] == 1]\n",
    "hr0 = hr[hr[\"is_promoted\"] == 0]\n",
    "\n",
    "hr0_s = hr0.sample(n = len(hr1), random_state= 404).copy()\n",
    "hr_s = pd.concat([hr1,hr0_s], axis = 0)\n",
    "hr_s[\"is_promoted\"].value_counts()"
   ]
  },
  {
   "cell_type": "code",
   "execution_count": 36,
   "metadata": {},
   "outputs": [],
   "source": [
    "from sklearn.model_selection import train_test_split\n",
    "X_train, X_test, y_train, y_test = train_test_split(hr_s.drop('is_promoted', axis=1), \n",
    "hr_s['is_promoted'], test_size=0.2, random_state=404)"
   ]
  },
  {
   "cell_type": "code",
   "execution_count": 37,
   "metadata": {},
   "outputs": [],
   "source": [
    "edu_map = {\"Master's & above\": 3, \n",
    "           \"Bachelor's\": 2, \n",
    "           'Missing': 0, \n",
    "           'Below Secondary': 1}\n",
    "\n",
    "encode(X_train,X_test,\"education\",edu_map)\n",
    "\n",
    "ohe.fit(X_train)\n",
    "X_train  = ohe.transform(X_train)\n",
    "X_test = ohe.transform(X_test)"
   ]
  },
  {
   "cell_type": "code",
   "execution_count": 38,
   "metadata": {},
   "outputs": [],
   "source": [
    "from sklearn.model_selection import StratifiedKFold\n",
    "skf = StratifiedKFold(n_splits=5, shuffle= True,random_state= 404)\n",
    "cv = skf.split(X_train, y_train)"
   ]
  },
  {
   "cell_type": "markdown",
   "metadata": {},
   "source": [
    "### 1.2 Build the Model(s)"
   ]
  },
  {
   "cell_type": "code",
   "execution_count": 39,
   "metadata": {},
   "outputs": [],
   "source": [
    "from sklearn.ensemble import AdaBoostClassifier\n",
    "from sklearn.ensemble import RandomForestClassifier\n",
    "adaRFM = AdaBoostClassifier(base_estimator=RandomForestClassifier(max_depth=9,\n",
    "                                                         n_estimators=30,\n",
    "                                                         random_state=404),\n",
    "                   learning_rate=0.08, n_estimators=60, random_state=404)"
   ]
  },
  {
   "cell_type": "code",
   "execution_count": 40,
   "metadata": {},
   "outputs": [],
   "source": [
    "from lightgbm import LGBMClassifier\n",
    "LGBM = LGBMClassifier(importance_type='gain', learning_rate=0.13, n_estimators=40,\n",
    "               random_state=404, reg_alpha=0.03, reg_lambda=0.06)"
   ]
  },
  {
   "cell_type": "markdown",
   "metadata": {},
   "source": [
    "### 1.3 Evaluate and Improve the Model(s)"
   ]
  },
  {
   "cell_type": "code",
   "execution_count": 41,
   "metadata": {},
   "outputs": [
    {
     "data": {
      "text/plain": [
       "VotingClassifier(estimators=[('adaRFM',\n",
       "                              AdaBoostClassifier(base_estimator=RandomForestClassifier(max_depth=9,\n",
       "                                                                                       n_estimators=30,\n",
       "                                                                                       random_state=404),\n",
       "                                                 learning_rate=0.08,\n",
       "                                                 n_estimators=60,\n",
       "                                                 random_state=404)),\n",
       "                             ('LGBM',\n",
       "                              LGBMClassifier(importance_type='gain',\n",
       "                                             learning_rate=0.13,\n",
       "                                             n_estimators=40, random_state=404,\n",
       "                                             reg_alpha=0.03,\n",
       "                                             reg_lambda=0.06))],\n",
       "                 voting='soft')"
      ]
     },
     "execution_count": 41,
     "metadata": {},
     "output_type": "execute_result"
    }
   ],
   "source": [
    "from sklearn.ensemble import VotingClassifier\n",
    "arr = [(\"adaRFM\", adaRFM),(\"LGBM\", LGBM)]\n",
    "\n",
    "Svoter = VotingClassifier(arr, voting=\"soft\")\n",
    "Svoter.fit(X_train,y_train)"
   ]
  },
  {
   "cell_type": "code",
   "execution_count": 42,
   "metadata": {},
   "outputs": [],
   "source": [
    "y_test_preds = Svoter.predict(X_test)\n",
    "y_train_preds = Svoter.predict(X_train)"
   ]
  },
  {
   "cell_type": "code",
   "execution_count": 43,
   "metadata": {},
   "outputs": [],
   "source": [
    "from sklearn.metrics import confusion_matrix, classification_report"
   ]
  },
  {
   "cell_type": "code",
   "execution_count": 44,
   "metadata": {},
   "outputs": [
    {
     "name": "stdout",
     "output_type": "stream",
     "text": [
      "              precision    recall  f1-score   support\n",
      "\n",
      "           0       0.94      0.77      0.85      3762\n",
      "           1       0.80      0.95      0.87      3706\n",
      "\n",
      "    accuracy                           0.86      7468\n",
      "   macro avg       0.87      0.86      0.86      7468\n",
      "weighted avg       0.87      0.86      0.86      7468\n",
      "\n"
     ]
    }
   ],
   "source": [
    "print(classification_report(y_train, y_train_preds, zero_division=0))"
   ]
  },
  {
   "cell_type": "code",
   "execution_count": 45,
   "metadata": {},
   "outputs": [
    {
     "name": "stdout",
     "output_type": "stream",
     "text": [
      "              precision    recall  f1-score   support\n",
      "\n",
      "           0       0.89      0.72      0.80       906\n",
      "           1       0.78      0.92      0.84       962\n",
      "\n",
      "    accuracy                           0.82      1868\n",
      "   macro avg       0.83      0.82      0.82      1868\n",
      "weighted avg       0.83      0.82      0.82      1868\n",
      "\n"
     ]
    }
   ],
   "source": [
    "print(classification_report(y_test, y_test_preds, zero_division=0))"
   ]
  },
  {
   "cell_type": "code",
   "execution_count": 46,
   "metadata": {},
   "outputs": [
    {
     "data": {
      "image/png": "[encoded data removed]",
      "text/plain": [
       "<Figure size 1152x576 with 2 Axes>"
      ]
     },
     "metadata": {
      "needs_background": "light"
     },
     "output_type": "display_data"
    }
   ],
   "source": [
    "cf_matrix = confusion_matrix(y_test, y_test_preds)\n",
    "\n",
    "import seaborn as sns\n",
    "import matplotlib.pyplot as plt\n",
    "\n",
    "fig, ax = plt.subplots(figsize = (16,8))\n",
    "\n",
    "sns.heatmap(cf_matrix, annot=True, cmap='Blues', fmt='g', ax=ax)\n",
    "\n",
    "ax.set_title('Confusion Matrix')\n",
    "ax.set_xlabel('\\nPredicted Values')\n",
    "ax.set_ylabel('Actual Values ')\n",
    "\n",
    "## Ticket labels - List must be in alphabetical order\n",
    "ax.xaxis.set_ticklabels(['False','True'])\n",
    "ax.yaxis.set_ticklabels(['False','True'])\n",
    "\n",
    "## Display the visualization of the Confusion Matrix.\n",
    "plt.show()"
   ]
  },
  {
   "cell_type": "markdown",
   "metadata": {},
   "source": [
    "## 2. Airbnb"
   ]
  },
  {
   "cell_type": "markdown",
   "metadata": {},
   "source": [
    "### 2.1 Load and Sample the data"
   ]
  },
  {
   "cell_type": "code",
   "execution_count": 47,
   "metadata": {},
   "outputs": [],
   "source": [
    "ar = pd.read_csv(\"./listings.csv\")\n",
    "# drop the identifying features, such as Name, id, host_id and host_name\n",
    "ar.drop(columns =[\"id\",\"name\",\"host_id\"\n",
    "                 ,\"host_name\"], inplace =True)\n",
    "\n",
    "ar[\"last_review\"].fillna(0,inplace = True)\n",
    "ar[\"reviews_per_month\"].fillna(0,inplace = True)\n",
    "\n",
    "ar[\"last_review\"] = pd.to_datetime(ar[\"last_review\"])\n",
    "\n",
    "ar[\"days_since_last_review\"] = (pd.Timestamp(\"2022-11-10\") - ar['last_review']).dt.days\n",
    "# those with no last_review would have -1days since last review instead, to reflect that it has never recieved a review\n",
    "ar[\"days_since_last_review\"].replace(to_replace = 19306, value = -1, inplace = True)\n",
    "\n",
    "ar.drop(columns=[\"last_review\"],inplace= True)"
   ]
  },
  {
   "cell_type": "code",
   "execution_count": 48,
   "metadata": {},
   "outputs": [],
   "source": [
    "ar_400 = ar[ar[\"price\"] <=400]"
   ]
  },
  {
   "cell_type": "code",
   "execution_count": 49,
   "metadata": {},
   "outputs": [
    {
     "data": {
      "text/html": [
       "<div>\n",
       "<style scoped>\n",
       "    .dataframe tbody tr th:only-of-type {\n",
       "        vertical-align: middle;\n",
       "    }\n",
       "\n",
       "    .dataframe tbody tr th {\n",
       "        vertical-align: top;\n",
       "    }\n",
       "\n",
       "    .dataframe thead th {\n",
       "        text-align: right;\n",
       "    }\n",
       "</style>\n",
       "<table border=\"1\" class=\"dataframe\">\n",
       "  <thead>\n",
       "    <tr style=\"text-align: right;\">\n",
       "      <th></th>\n",
       "      <th>neighbourhood_group</th>\n",
       "      <th>neighbourhood</th>\n",
       "      <th>latitude</th>\n",
       "      <th>longitude</th>\n",
       "      <th>room_type</th>\n",
       "      <th>price</th>\n",
       "      <th>minimum_nights</th>\n",
       "      <th>number_of_reviews</th>\n",
       "      <th>reviews_per_month</th>\n",
       "      <th>calculated_host_listings_count</th>\n",
       "      <th>availability_365</th>\n",
       "      <th>days_since_last_review</th>\n",
       "    </tr>\n",
       "  </thead>\n",
       "  <tbody>\n",
       "    <tr>\n",
       "      <th>0</th>\n",
       "      <td>North Region</td>\n",
       "      <td>Woodlands</td>\n",
       "      <td>1.44255</td>\n",
       "      <td>103.79580</td>\n",
       "      <td>Private room</td>\n",
       "      <td>83</td>\n",
       "      <td>180</td>\n",
       "      <td>1</td>\n",
       "      <td>0.01</td>\n",
       "      <td>2</td>\n",
       "      <td>365</td>\n",
       "      <td>3307</td>\n",
       "    </tr>\n",
       "    <tr>\n",
       "      <th>1</th>\n",
       "      <td>Central Region</td>\n",
       "      <td>Bukit Timah</td>\n",
       "      <td>1.33235</td>\n",
       "      <td>103.78521</td>\n",
       "      <td>Private room</td>\n",
       "      <td>81</td>\n",
       "      <td>90</td>\n",
       "      <td>18</td>\n",
       "      <td>0.28</td>\n",
       "      <td>1</td>\n",
       "      <td>365</td>\n",
       "      <td>2876</td>\n",
       "    </tr>\n",
       "    <tr>\n",
       "      <th>2</th>\n",
       "      <td>North Region</td>\n",
       "      <td>Woodlands</td>\n",
       "      <td>1.44246</td>\n",
       "      <td>103.79667</td>\n",
       "      <td>Private room</td>\n",
       "      <td>69</td>\n",
       "      <td>6</td>\n",
       "      <td>20</td>\n",
       "      <td>0.20</td>\n",
       "      <td>2</td>\n",
       "      <td>365</td>\n",
       "      <td>2597</td>\n",
       "    </tr>\n",
       "    <tr>\n",
       "      <th>3</th>\n",
       "      <td>East Region</td>\n",
       "      <td>Tampines</td>\n",
       "      <td>1.34541</td>\n",
       "      <td>103.95712</td>\n",
       "      <td>Private room</td>\n",
       "      <td>206</td>\n",
       "      <td>1</td>\n",
       "      <td>14</td>\n",
       "      <td>0.15</td>\n",
       "      <td>9</td>\n",
       "      <td>353</td>\n",
       "      <td>1187</td>\n",
       "    </tr>\n",
       "    <tr>\n",
       "      <th>4</th>\n",
       "      <td>East Region</td>\n",
       "      <td>Tampines</td>\n",
       "      <td>1.34567</td>\n",
       "      <td>103.95963</td>\n",
       "      <td>Private room</td>\n",
       "      <td>94</td>\n",
       "      <td>1</td>\n",
       "      <td>22</td>\n",
       "      <td>0.22</td>\n",
       "      <td>9</td>\n",
       "      <td>355</td>\n",
       "      <td>1201</td>\n",
       "    </tr>\n",
       "  </tbody>\n",
       "</table>\n",
       "</div>"
      ],
      "text/plain": [
       "  neighbourhood_group neighbourhood  latitude  longitude     room_type  price  \\\n",
       "0        North Region     Woodlands   1.44255  103.79580  Private room     83   \n",
       "1      Central Region   Bukit Timah   1.33235  103.78521  Private room     81   \n",
       "2        North Region     Woodlands   1.44246  103.79667  Private room     69   \n",
       "3         East Region      Tampines   1.34541  103.95712  Private room    206   \n",
       "4         East Region      Tampines   1.34567  103.95963  Private room     94   \n",
       "\n",
       "   minimum_nights  number_of_reviews  reviews_per_month  \\\n",
       "0             180                  1               0.01   \n",
       "1              90                 18               0.28   \n",
       "2               6                 20               0.20   \n",
       "3               1                 14               0.15   \n",
       "4               1                 22               0.22   \n",
       "\n",
       "   calculated_host_listings_count  availability_365  days_since_last_review  \n",
       "0                               2               365                    3307  \n",
       "1                               1               365                    2876  \n",
       "2                               2               365                    2597  \n",
       "3                               9               353                    1187  \n",
       "4                               9               355                    1201  "
      ]
     },
     "execution_count": 49,
     "metadata": {},
     "output_type": "execute_result"
    }
   ],
   "source": [
    "ar_400.head()"
   ]
  },
  {
   "cell_type": "code",
   "execution_count": 50,
   "metadata": {},
   "outputs": [],
   "source": [
    "X_train, X_test, y_train, y_test = train_test_split(ar_400.drop(\"price\", axis=1), \n",
    "ar_400[\"price\"], test_size=0.2, random_state=404)"
   ]
  },
  {
   "cell_type": "code",
   "execution_count": 51,
   "metadata": {},
   "outputs": [
    {
     "name": "stderr",
     "output_type": "stream",
     "text": [
      "c:\\Python39\\lib\\site-packages\\feature_engine\\encoding\\base_encoder.py:193: UserWarning: During the encoding, NaN values were introduced in the feature(s) neighbourhood.\n",
      "  warnings.warn(\n"
     ]
    }
   ],
   "source": [
    "def standardSscale(X_train , X_test):\n",
    "    from sklearn.preprocessing import StandardScaler\n",
    "    # set up the scaler\n",
    "    scaler = StandardScaler()\n",
    "\n",
    "    # fit the scaler to the train set, it will learn the parameters\n",
    "    scaler.fit(X_train)\n",
    "\n",
    "    # transform train and test sets\n",
    "    X_train_scaled = scaler.transform(X_train)\n",
    "    X_test_scaled = scaler.transform(X_test)\n",
    "    \n",
    "    X_train_scaled = pd.DataFrame(X_train_scaled, columns=X_train.columns)\n",
    "    X_test_scaled = pd.DataFrame(X_test_scaled, columns=X_test.columns)\n",
    "    \n",
    "    return X_train_scaled , X_test_scaled\n",
    "\n",
    "# mean target encoding \n",
    "from feature_engine.encoding import MeanEncoder\n",
    "enc = MeanEncoder(variables=[\"room_type\",\"neighbourhood_group\",\"neighbourhood\"])\n",
    "enc.fit(X_train,y_train)\n",
    "X_train  = enc.transform(X_train)\n",
    "X_test = enc.transform(X_test)"
   ]
  },
  {
   "cell_type": "code",
   "execution_count": 52,
   "metadata": {},
   "outputs": [],
   "source": [
    "X_test.fillna(-1,inplace=True)\n",
    "X_train, X_test = standardSscale(X_train, X_test)"
   ]
  },
  {
   "cell_type": "markdown",
   "metadata": {},
   "source": [
    "### 2.2 Build the Model(s)"
   ]
  },
  {
   "cell_type": "code",
   "execution_count": 53,
   "metadata": {},
   "outputs": [],
   "source": [
    "from lightgbm import LGBMRegressor\n",
    "from sklearn.ensemble import AdaBoostRegressor\n",
    "adaLBM = AdaBoostRegressor(base_estimator=LGBMRegressor(importance_type='gain',\n",
    "                                               n_estimators=150,\n",
    "                                               random_state=404,\n",
    "                                               reg_alpha=0.05),\n",
    "                  learning_rate=0.02, loss='exponential', n_estimators=140,\n",
    "                  random_state=404)"
   ]
  },
  {
   "cell_type": "code",
   "execution_count": 54,
   "metadata": {},
   "outputs": [
    {
     "data": {
      "text/plain": [
       "AdaBoostRegressor(base_estimator=LGBMRegressor(importance_type='gain',\n",
       "                                               n_estimators=150,\n",
       "                                               random_state=404,\n",
       "                                               reg_alpha=0.05),\n",
       "                  learning_rate=0.02, loss='exponential', n_estimators=140,\n",
       "                  random_state=404)"
      ]
     },
     "execution_count": 54,
     "metadata": {},
     "output_type": "execute_result"
    }
   ],
   "source": [
    "adaLBM.fit(X_train,y_train)"
   ]
  },
  {
   "cell_type": "code",
   "execution_count": 55,
   "metadata": {},
   "outputs": [],
   "source": [
    "y_test_preds = adaLBM.predict(X_test)\n",
    "y_train_preds = adaLBM.predict(X_train)"
   ]
  },
  {
   "cell_type": "markdown",
   "metadata": {},
   "source": [
    "### 2.3 Evaluate and Improve the Model(s)"
   ]
  },
  {
   "cell_type": "code",
   "execution_count": 56,
   "metadata": {},
   "outputs": [
    {
     "name": "stdout",
     "output_type": "stream",
     "text": [
      "MAE Train : 25.42354460278218\n",
      "MAE Test  : 35.36305547897336\n"
     ]
    }
   ],
   "source": [
    "from sklearn.metrics import mean_absolute_error\n",
    "\n",
    "print(\"MAE Train :\",mean_absolute_error(y_train,y_train_preds))\n",
    "print(\"MAE Test  :\",mean_absolute_error(y_test,y_test_preds))"
   ]
  },
  {
   "cell_type": "code",
   "execution_count": 57,
   "metadata": {},
   "outputs": [
    {
     "name": "stdout",
     "output_type": "stream",
     "text": [
      "R^2 Train : 0.850554938152108\n",
      "R^2 Test  : 0.6651963367486933\n"
     ]
    }
   ],
   "source": [
    "from sklearn.metrics import r2_score\n",
    "print(\"R^2 Train :\",r2_score(y_train,y_train_preds))\n",
    "print(\"R^2 Test  :\",r2_score(y_test,y_test_preds))"
   ]
  },
  {
   "cell_type": "code",
   "execution_count": 58,
   "metadata": {},
   "outputs": [
    {
     "name": "stdout",
     "output_type": "stream",
     "text": [
      "RMSE Train : 33.43695522531871\n",
      "RMSE Test  : 48.821505754191456\n"
     ]
    }
   ],
   "source": [
    "from sklearn.metrics import mean_squared_error\n",
    "print(\"RMSE Train :\",np.sqrt(mean_squared_error(y_train,y_train_preds)))\n",
    "print(\"RMSE Test  :\",np.sqrt(mean_squared_error(y_test,y_test_preds)))"
   ]
  }
 ],
 "metadata": {
  "kernelspec": {
   "display_name": "Python 3",
   "language": "python",
   "name": "python3"
  },
  "language_info": {
   "codemirror_mode": {
    "name": "ipython",
    "version": 3
   },
   "file_extension": ".py",
   "mimetype": "text/x-python",
   "name": "python",
   "nbconvert_exporter": "python",
   "pygments_lexer": "ipython3",
   "version": "3.9.4"
  },
  "vscode": {
   "interpreter": {
    "hash": "81794d4967e6c3204c66dcd87b604927b115b27c00565d3d43f05ba2f3a2cb0d"
   }
  }
 },
 "nbformat": 4,
 "nbformat_minor": 2
}
