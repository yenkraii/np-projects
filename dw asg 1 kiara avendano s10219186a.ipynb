{
 "cells": [
  {
   "cell_type": "markdown",
   "id": "c90afc3d",
   "metadata": {},
   "source": [
    "<table class=\"table table-bordered\">\n",
    "    <tr>\n",
    "        <th style=\"width:250px\"><img src='https://www.np.edu.sg/PublishingImages/Pages/default/odp/ICT.jpg' style=\"width: 100%; height: 125px; \"></th>\n",
    "        <th style=\"text-align:center;\"><h1>Data Wrangling</h1><h2>Assignment 1 </h2><h3>Diploma in Data Science</h3></th>\n",
    "    </tr>\n",
    "</table>"
   ]
  },
  {
   "cell_type": "markdown",
   "id": "7d1cc6e1",
   "metadata": {},
   "source": [
    "#### <center> Kiara Avendano ( s10219186A )\n",
    "##### <center> Assignment 1"
   ]
  },
  {
   "cell_type": "markdown",
   "id": "053fab53",
   "metadata": {},
   "source": [
    "# Table of Contents <a id=\"top\"></a>"
   ]
  },
  {
   "cell_type": "markdown",
   "id": "6ead7b78",
   "metadata": {},
   "source": [
    "## 1 [Introduction](#1)\n",
    "   - [1.1 Focus](#1.1)\n",
    "\n",
    "\n",
    "## 2 [Exploration](#2)\n",
    "   - [2.1 Overview of Dataset](#2.1)\n",
    "   - [2.2 Missing Values](#2.2)\n",
    "   - [2.2 Attributes of Outlets](#2.3)\n",
    "   - [2.2 Attributes of Items](#2.4)\n",
    "\n",
    "\n",
    "## 3 [Cleaning ](#3)\n",
    "   - [3.1 Pre-processing](#3.1)\n",
    "   - [3.2 Missing Data](#3.2)\n",
    "\n",
    "\n",
    "## 4 [Data Transformation](#4)\n",
    "   - [4.1 Numerical](#4.1)\n",
    "   - [4.2 Encoding Categorical](#4.2)\n",
    "   - [4.3 Discretization](#4.3)\n",
    "\n",
    "\n",
    "## 5 [Feature Engineering](#5)\n",
    "   - [5.1 Creation / Dropping](#5.1)\n",
    "   - [5.2 Scaling](#5.2)\n",
    "\n",
    "\n",
    "## 6 [Linear Regression Model](#6)\n",
    "   - [6.1 Build](#6.1)\n",
    "   - [6.2 Evaluate](#6.2)\n",
    "\n",
    "## 7 [Summary](#end)\n",
    "   - [7.1 Further improvements](#7.1)"
   ]
  },
  {
   "cell_type": "markdown",
   "id": "e3c483eb",
   "metadata": {},
   "source": [
    "[Back to top](#top)"
   ]
  },
  {
   "cell_type": "code",
   "execution_count": 1,
   "id": "e41f95e4",
   "metadata": {},
   "outputs": [],
   "source": [
    "# import the necessary packages\n",
    "import numpy as np\n",
    "import seaborn as sns\n",
    "import pandas as pd\n",
    "import matplotlib.pyplot as plt"
   ]
  },
  {
   "cell_type": "markdown",
   "id": "77a6625e",
   "metadata": {},
   "source": [
    "## Introduction <a id=\"1\"></a>"
   ]
  },
  {
   "cell_type": "markdown",
   "id": "de3dec94",
   "metadata": {},
   "source": [
    "### Focus <a id=\"1.1\"></a>"
   ]
  },
  {
   "cell_type": "markdown",
   "id": "d2cb5701",
   "metadata": {},
   "source": [
    "This report will focus on exploring, preparing and transforming the given dataset \"supermarket.csv\", so as to build and evaluate a linear regression model trained with the processed dataset. Throughout this report, comparisons of the chosen evaluation metric will be made between different data wrangling techniques. Such techniques may be supported by either the evaluation metric or the anaylsis of the original dataset. These comparisons and findings will also be documented in each section.\n",
    "\n",
    "The [end goal](#end) of the linear regression model is to predict the sales of a product at each outlet accurately, using the cleaned dataset. The evaluation metric used throughout the report when comparing techniques will be the r-square (r-sq) value of the test dataset. This is because the model is made to forecast future sales, thus the percentage of variation explained in the target variable or the \"unknown values\" using the explanatory variables is most important."
   ]
  },
  {
   "cell_type": "markdown",
   "id": "0dbc865c",
   "metadata": {},
   "source": [
    "[Back to top](#top)"
   ]
  },
  {
   "cell_type": "markdown",
   "id": "f0df06e4",
   "metadata": {},
   "source": [
    "## Exploration <a id=\"2\"></a>"
   ]
  },
  {
   "cell_type": "markdown",
   "id": "08d86353",
   "metadata": {},
   "source": [
    "### Overview of Dataset <a id=\"2.1\"></a>"
   ]
  },
  {
   "cell_type": "markdown",
   "id": "e515a905",
   "metadata": {},
   "source": [
    "Before starting with wrangling the dataset, its independent variables need to be investigated to understand their meaning and to plan out the proper techniques to use later on. Below presents a quick overview of the original dataset:"
   ]
  },
  {
   "cell_type": "code",
   "execution_count": 2,
   "id": "2e47b21e",
   "metadata": {},
   "outputs": [
    {
     "data": {
      "text/html": [
       "<div>\n",
       "<style scoped>\n",
       "    .dataframe tbody tr th:only-of-type {\n",
       "        vertical-align: middle;\n",
       "    }\n",
       "\n",
       "    .dataframe tbody tr th {\n",
       "        vertical-align: top;\n",
       "    }\n",
       "\n",
       "    .dataframe thead th {\n",
       "        text-align: right;\n",
       "    }\n",
       "</style>\n",
       "<table border=\"1\" class=\"dataframe\">\n",
       "  <thead>\n",
       "    <tr style=\"text-align: right;\">\n",
       "      <th></th>\n",
       "      <th>Item_Identifier</th>\n",
       "      <th>Item_Weight</th>\n",
       "      <th>Item_Fat_Content</th>\n",
       "      <th>Item_Visibility</th>\n",
       "      <th>Item_Type</th>\n",
       "      <th>Item_MRP</th>\n",
       "      <th>Outlet_Identifier</th>\n",
       "      <th>Outlet_Establishment_Year</th>\n",
       "      <th>Outlet_Size</th>\n",
       "      <th>Outlet_Location_Type</th>\n",
       "      <th>Outlet_Type</th>\n",
       "      <th>Item_Outlet_Sales</th>\n",
       "    </tr>\n",
       "  </thead>\n",
       "  <tbody>\n",
       "    <tr>\n",
       "      <th>0</th>\n",
       "      <td>FDA15</td>\n",
       "      <td>9.30</td>\n",
       "      <td>Low Fat</td>\n",
       "      <td>0.016047</td>\n",
       "      <td>Dairy</td>\n",
       "      <td>249.8092</td>\n",
       "      <td>OUT049</td>\n",
       "      <td>1999</td>\n",
       "      <td>Medium</td>\n",
       "      <td>Tier 1</td>\n",
       "      <td>Supermarket Type1</td>\n",
       "      <td>3735.1380</td>\n",
       "    </tr>\n",
       "    <tr>\n",
       "      <th>1</th>\n",
       "      <td>DRC01</td>\n",
       "      <td>5.92</td>\n",
       "      <td>Regular</td>\n",
       "      <td>0.019278</td>\n",
       "      <td>Soft Drinks</td>\n",
       "      <td>48.2692</td>\n",
       "      <td>OUT018</td>\n",
       "      <td>2009</td>\n",
       "      <td>Medium</td>\n",
       "      <td>Tier 3</td>\n",
       "      <td>Supermarket Type2</td>\n",
       "      <td>443.4228</td>\n",
       "    </tr>\n",
       "    <tr>\n",
       "      <th>2</th>\n",
       "      <td>FDN15</td>\n",
       "      <td>17.50</td>\n",
       "      <td>Low Fat</td>\n",
       "      <td>0.016760</td>\n",
       "      <td>Meat</td>\n",
       "      <td>141.6180</td>\n",
       "      <td>OUT049</td>\n",
       "      <td>1999</td>\n",
       "      <td>Medium</td>\n",
       "      <td>Tier 1</td>\n",
       "      <td>Supermarket Type1</td>\n",
       "      <td>2097.2700</td>\n",
       "    </tr>\n",
       "    <tr>\n",
       "      <th>3</th>\n",
       "      <td>FDX07</td>\n",
       "      <td>19.20</td>\n",
       "      <td>Regular</td>\n",
       "      <td>0.000000</td>\n",
       "      <td>Fruits and Vegetables</td>\n",
       "      <td>182.0950</td>\n",
       "      <td>OUT010</td>\n",
       "      <td>1998</td>\n",
       "      <td>NaN</td>\n",
       "      <td>Tier 3</td>\n",
       "      <td>Grocery Store</td>\n",
       "      <td>732.3800</td>\n",
       "    </tr>\n",
       "    <tr>\n",
       "      <th>4</th>\n",
       "      <td>NCD19</td>\n",
       "      <td>8.93</td>\n",
       "      <td>Low Fat</td>\n",
       "      <td>0.000000</td>\n",
       "      <td>Household</td>\n",
       "      <td>53.8614</td>\n",
       "      <td>OUT013</td>\n",
       "      <td>1987</td>\n",
       "      <td>High</td>\n",
       "      <td>Tier 3</td>\n",
       "      <td>Supermarket Type1</td>\n",
       "      <td>994.7052</td>\n",
       "    </tr>\n",
       "  </tbody>\n",
       "</table>\n",
       "</div>"
      ],
      "text/plain": [
       "  Item_Identifier  Item_Weight Item_Fat_Content  Item_Visibility  \\\n",
       "0           FDA15         9.30          Low Fat         0.016047   \n",
       "1           DRC01         5.92          Regular         0.019278   \n",
       "2           FDN15        17.50          Low Fat         0.016760   \n",
       "3           FDX07        19.20          Regular         0.000000   \n",
       "4           NCD19         8.93          Low Fat         0.000000   \n",
       "\n",
       "               Item_Type  Item_MRP Outlet_Identifier  \\\n",
       "0                  Dairy  249.8092            OUT049   \n",
       "1            Soft Drinks   48.2692            OUT018   \n",
       "2                   Meat  141.6180            OUT049   \n",
       "3  Fruits and Vegetables  182.0950            OUT010   \n",
       "4              Household   53.8614            OUT013   \n",
       "\n",
       "   Outlet_Establishment_Year Outlet_Size Outlet_Location_Type  \\\n",
       "0                       1999      Medium               Tier 1   \n",
       "1                       2009      Medium               Tier 3   \n",
       "2                       1999      Medium               Tier 1   \n",
       "3                       1998         NaN               Tier 3   \n",
       "4                       1987        High               Tier 3   \n",
       "\n",
       "         Outlet_Type  Item_Outlet_Sales  \n",
       "0  Supermarket Type1          3735.1380  \n",
       "1  Supermarket Type2           443.4228  \n",
       "2  Supermarket Type1          2097.2700  \n",
       "3      Grocery Store           732.3800  \n",
       "4  Supermarket Type1           994.7052  "
      ]
     },
     "execution_count": 2,
     "metadata": {},
     "output_type": "execute_result"
    }
   ],
   "source": [
    "df = pd.read_csv(\"./supermarket.csv\")\n",
    "df.head()"
   ]
  },
  {
   "cell_type": "markdown",
   "id": "a1a24c4f",
   "metadata": {},
   "source": [
    "Most of what is seen have already been explained in the assignment brief, which is shown below. "
   ]
  },
  {
   "attachments": {
    "image.png": {
     "image/png": "[encoded data removed]"
    }
   },
   "cell_type": "markdown",
   "id": "2b914aa1",
   "metadata": {},
   "source": [
    " <a id = \"col\"></a> ![image.png](attachment:image.png)"
   ]
  },
  {
   "cell_type": "markdown",
   "id": "4a397c0a",
   "metadata": {},
   "source": [
    "From these, some assumptions were made solely based on the column descriptions and a quick look at the first five rows. They are:\n",
    "- Item weight would have a positive relationship with item visibility\n",
    "-\tLocation type would impact outlet size\n",
    "-\tOutlet type would have impact on size\n",
    "-\tItem fat content may not have much effect on sales\n",
    "-\tFat content can be used to find food products\n",
    "-\tItem type would have relationship to visibility\n",
    "-\tOutlet establishment year would have more sales in count\n",
    "-\tOutlet sales would have strong relation to Item Maximum Retail Price (MRP)\n",
    "\n",
    "In addition to this, there seems to be some NaN present, specifically in the column \"Outlet_Size\". Since such null values are detrimental to the linear regression model, this issue will be investigated further first."
   ]
  },
  {
   "cell_type": "markdown",
   "id": "567738bd",
   "metadata": {},
   "source": [
    "### Missing Values <a id=\"2.2\"></a>"
   ]
  },
  {
   "cell_type": "code",
   "execution_count": 3,
   "id": "b2584e05",
   "metadata": {},
   "outputs": [
    {
     "name": "stdout",
     "output_type": "stream",
     "text": [
      "<class 'pandas.core.frame.DataFrame'>\n",
      "RangeIndex: 8523 entries, 0 to 8522\n",
      "Data columns (total 12 columns):\n",
      " #   Column                     Non-Null Count  Dtype  \n",
      "---  ------                     --------------  -----  \n",
      " 0   Item_Identifier            8523 non-null   object \n",
      " 1   Item_Weight                7060 non-null   float64\n",
      " 2   Item_Fat_Content           8523 non-null   object \n",
      " 3   Item_Visibility            8523 non-null   float64\n",
      " 4   Item_Type                  8523 non-null   object \n",
      " 5   Item_MRP                   8523 non-null   float64\n",
      " 6   Outlet_Identifier          8523 non-null   object \n",
      " 7   Outlet_Establishment_Year  8523 non-null   int64  \n",
      " 8   Outlet_Size                6113 non-null   object \n",
      " 9   Outlet_Location_Type       8523 non-null   object \n",
      " 10  Outlet_Type                8523 non-null   object \n",
      " 11  Item_Outlet_Sales          8523 non-null   float64\n",
      "dtypes: float64(4), int64(1), object(7)\n",
      "memory usage: 799.2+ KB\n"
     ]
    }
   ],
   "source": [
    "df.info()"
   ]
  },
  {
   "cell_type": "markdown",
   "id": "111bd60a",
   "metadata": {},
   "source": [
    "In the dataset, two columns contain missing values, which are \"Item_Weight\" and \"Outlet_Size\"."
   ]
  },
  {
   "cell_type": "code",
   "execution_count": 4,
   "id": "d9ed6536",
   "metadata": {},
   "outputs": [
    {
     "data": {
      "text/html": [
       "<div>\n",
       "<style scoped>\n",
       "    .dataframe tbody tr th:only-of-type {\n",
       "        vertical-align: middle;\n",
       "    }\n",
       "\n",
       "    .dataframe tbody tr th {\n",
       "        vertical-align: top;\n",
       "    }\n",
       "\n",
       "    .dataframe thead th {\n",
       "        text-align: right;\n",
       "    }\n",
       "</style>\n",
       "<table border=\"1\" class=\"dataframe\">\n",
       "  <thead>\n",
       "    <tr style=\"text-align: right;\">\n",
       "      <th></th>\n",
       "      <th>Item_Identifier</th>\n",
       "      <th>Item_Weight</th>\n",
       "      <th>Item_Fat_Content</th>\n",
       "      <th>Item_Visibility</th>\n",
       "      <th>Item_Type</th>\n",
       "      <th>Item_MRP</th>\n",
       "      <th>Outlet_Identifier</th>\n",
       "      <th>Outlet_Establishment_Year</th>\n",
       "      <th>Outlet_Size</th>\n",
       "      <th>Outlet_Location_Type</th>\n",
       "      <th>Outlet_Type</th>\n",
       "      <th>Item_Outlet_Sales</th>\n",
       "    </tr>\n",
       "  </thead>\n",
       "  <tbody>\n",
       "    <tr>\n",
       "      <th>7</th>\n",
       "      <td>FDP10</td>\n",
       "      <td>NaN</td>\n",
       "      <td>Low Fat</td>\n",
       "      <td>0.127470</td>\n",
       "      <td>Snack Foods</td>\n",
       "      <td>107.7622</td>\n",
       "      <td>OUT027</td>\n",
       "      <td>1985</td>\n",
       "      <td>Medium</td>\n",
       "      <td>Tier 3</td>\n",
       "      <td>Supermarket Type3</td>\n",
       "      <td>4022.7636</td>\n",
       "    </tr>\n",
       "    <tr>\n",
       "      <th>18</th>\n",
       "      <td>DRI11</td>\n",
       "      <td>NaN</td>\n",
       "      <td>Low Fat</td>\n",
       "      <td>0.034238</td>\n",
       "      <td>Hard Drinks</td>\n",
       "      <td>113.2834</td>\n",
       "      <td>OUT027</td>\n",
       "      <td>1985</td>\n",
       "      <td>Medium</td>\n",
       "      <td>Tier 3</td>\n",
       "      <td>Supermarket Type3</td>\n",
       "      <td>2303.6680</td>\n",
       "    </tr>\n",
       "    <tr>\n",
       "      <th>21</th>\n",
       "      <td>FDW12</td>\n",
       "      <td>NaN</td>\n",
       "      <td>Regular</td>\n",
       "      <td>0.035400</td>\n",
       "      <td>Baking Goods</td>\n",
       "      <td>144.5444</td>\n",
       "      <td>OUT027</td>\n",
       "      <td>1985</td>\n",
       "      <td>Medium</td>\n",
       "      <td>Tier 3</td>\n",
       "      <td>Supermarket Type3</td>\n",
       "      <td>4064.0432</td>\n",
       "    </tr>\n",
       "    <tr>\n",
       "      <th>23</th>\n",
       "      <td>FDC37</td>\n",
       "      <td>NaN</td>\n",
       "      <td>Low Fat</td>\n",
       "      <td>0.057557</td>\n",
       "      <td>Baking Goods</td>\n",
       "      <td>107.6938</td>\n",
       "      <td>OUT019</td>\n",
       "      <td>1985</td>\n",
       "      <td>Small</td>\n",
       "      <td>Tier 1</td>\n",
       "      <td>Grocery Store</td>\n",
       "      <td>214.3876</td>\n",
       "    </tr>\n",
       "    <tr>\n",
       "      <th>29</th>\n",
       "      <td>FDC14</td>\n",
       "      <td>NaN</td>\n",
       "      <td>Regular</td>\n",
       "      <td>0.072222</td>\n",
       "      <td>Canned</td>\n",
       "      <td>43.6454</td>\n",
       "      <td>OUT019</td>\n",
       "      <td>1985</td>\n",
       "      <td>Small</td>\n",
       "      <td>Tier 1</td>\n",
       "      <td>Grocery Store</td>\n",
       "      <td>125.8362</td>\n",
       "    </tr>\n",
       "  </tbody>\n",
       "</table>\n",
       "</div>"
      ],
      "text/plain": [
       "   Item_Identifier  Item_Weight Item_Fat_Content  Item_Visibility  \\\n",
       "7            FDP10          NaN          Low Fat         0.127470   \n",
       "18           DRI11          NaN          Low Fat         0.034238   \n",
       "21           FDW12          NaN          Regular         0.035400   \n",
       "23           FDC37          NaN          Low Fat         0.057557   \n",
       "29           FDC14          NaN          Regular         0.072222   \n",
       "\n",
       "       Item_Type  Item_MRP Outlet_Identifier  Outlet_Establishment_Year  \\\n",
       "7    Snack Foods  107.7622            OUT027                       1985   \n",
       "18   Hard Drinks  113.2834            OUT027                       1985   \n",
       "21  Baking Goods  144.5444            OUT027                       1985   \n",
       "23  Baking Goods  107.6938            OUT019                       1985   \n",
       "29        Canned   43.6454            OUT019                       1985   \n",
       "\n",
       "   Outlet_Size Outlet_Location_Type        Outlet_Type  Item_Outlet_Sales  \n",
       "7       Medium               Tier 3  Supermarket Type3          4022.7636  \n",
       "18      Medium               Tier 3  Supermarket Type3          2303.6680  \n",
       "21      Medium               Tier 3  Supermarket Type3          4064.0432  \n",
       "23       Small               Tier 1      Grocery Store           214.3876  \n",
       "29       Small               Tier 1      Grocery Store           125.8362  "
      ]
     },
     "execution_count": 4,
     "metadata": {},
     "output_type": "execute_result"
    }
   ],
   "source": [
    "df[df[\"Item_Weight\"].isnull()].head()"
   ]
  },
  {
   "cell_type": "code",
   "execution_count": 5,
   "id": "49f8b6fd",
   "metadata": {},
   "outputs": [
    {
     "data": {
      "text/html": [
       "<div>\n",
       "<style scoped>\n",
       "    .dataframe tbody tr th:only-of-type {\n",
       "        vertical-align: middle;\n",
       "    }\n",
       "\n",
       "    .dataframe tbody tr th {\n",
       "        vertical-align: top;\n",
       "    }\n",
       "\n",
       "    .dataframe thead th {\n",
       "        text-align: right;\n",
       "    }\n",
       "</style>\n",
       "<table border=\"1\" class=\"dataframe\">\n",
       "  <thead>\n",
       "    <tr style=\"text-align: right;\">\n",
       "      <th></th>\n",
       "      <th>Item_Identifier</th>\n",
       "      <th>Item_Weight</th>\n",
       "      <th>Item_Fat_Content</th>\n",
       "      <th>Item_Visibility</th>\n",
       "      <th>Item_Type</th>\n",
       "      <th>Item_MRP</th>\n",
       "      <th>Outlet_Identifier</th>\n",
       "      <th>Outlet_Establishment_Year</th>\n",
       "      <th>Outlet_Size</th>\n",
       "      <th>Outlet_Location_Type</th>\n",
       "      <th>Outlet_Type</th>\n",
       "      <th>Item_Outlet_Sales</th>\n",
       "    </tr>\n",
       "  </thead>\n",
       "  <tbody>\n",
       "    <tr>\n",
       "      <th>23</th>\n",
       "      <td>FDC37</td>\n",
       "      <td>NaN</td>\n",
       "      <td>Low Fat</td>\n",
       "      <td>0.057557</td>\n",
       "      <td>Baking Goods</td>\n",
       "      <td>107.6938</td>\n",
       "      <td>OUT019</td>\n",
       "      <td>1985</td>\n",
       "      <td>Small</td>\n",
       "      <td>Tier 1</td>\n",
       "      <td>Grocery Store</td>\n",
       "      <td>214.3876</td>\n",
       "    </tr>\n",
       "    <tr>\n",
       "      <th>4652</th>\n",
       "      <td>FDC37</td>\n",
       "      <td>15.5</td>\n",
       "      <td>Low Fat</td>\n",
       "      <td>0.032846</td>\n",
       "      <td>Baking Goods</td>\n",
       "      <td>106.7938</td>\n",
       "      <td>OUT013</td>\n",
       "      <td>1987</td>\n",
       "      <td>High</td>\n",
       "      <td>Tier 3</td>\n",
       "      <td>Supermarket Type1</td>\n",
       "      <td>3215.8140</td>\n",
       "    </tr>\n",
       "    <tr>\n",
       "      <th>6212</th>\n",
       "      <td>FDC37</td>\n",
       "      <td>15.5</td>\n",
       "      <td>Low Fat</td>\n",
       "      <td>0.032924</td>\n",
       "      <td>Baking Goods</td>\n",
       "      <td>107.2938</td>\n",
       "      <td>OUT049</td>\n",
       "      <td>1999</td>\n",
       "      <td>Medium</td>\n",
       "      <td>Tier 1</td>\n",
       "      <td>Supermarket Type1</td>\n",
       "      <td>2143.8760</td>\n",
       "    </tr>\n",
       "  </tbody>\n",
       "</table>\n",
       "</div>"
      ],
      "text/plain": [
       "     Item_Identifier  Item_Weight Item_Fat_Content  Item_Visibility  \\\n",
       "23             FDC37          NaN          Low Fat         0.057557   \n",
       "4652           FDC37         15.5          Low Fat         0.032846   \n",
       "6212           FDC37         15.5          Low Fat         0.032924   \n",
       "\n",
       "         Item_Type  Item_MRP Outlet_Identifier  Outlet_Establishment_Year  \\\n",
       "23    Baking Goods  107.6938            OUT019                       1985   \n",
       "4652  Baking Goods  106.7938            OUT013                       1987   \n",
       "6212  Baking Goods  107.2938            OUT049                       1999   \n",
       "\n",
       "     Outlet_Size Outlet_Location_Type        Outlet_Type  Item_Outlet_Sales  \n",
       "23         Small               Tier 1      Grocery Store           214.3876  \n",
       "4652        High               Tier 3  Supermarket Type1          3215.8140  \n",
       "6212      Medium               Tier 1  Supermarket Type1          2143.8760  "
      ]
     },
     "execution_count": 5,
     "metadata": {},
     "output_type": "execute_result"
    }
   ],
   "source": [
    "# choosing one randomly\n",
    "df[df[\"Item_Identifier\"] == \"FDC37\"]"
   ]
  },
  {
   "cell_type": "markdown",
   "id": "dc237c07",
   "metadata": {},
   "source": [
    "<a id = \"iw\"></a>Interestingly, the rows with \"Item_Weight\" missing seems to be a human error, which possibly occurred during data input. This is because the missing values can actually be found throughout the original dataset, by searching the missing values' \"Item_Identifier\". Thus, the missing values can be imputated by the other values of \"Item_Weight\" for the same \"Item_Identifier\", since each item should have the same weight througout all the records. "
   ]
  },
  {
   "cell_type": "code",
   "execution_count": 6,
   "id": "a29d2cdd",
   "metadata": {},
   "outputs": [
    {
     "data": {
      "text/html": [
       "<div>\n",
       "<style scoped>\n",
       "    .dataframe tbody tr th:only-of-type {\n",
       "        vertical-align: middle;\n",
       "    }\n",
       "\n",
       "    .dataframe tbody tr th {\n",
       "        vertical-align: top;\n",
       "    }\n",
       "\n",
       "    .dataframe thead th {\n",
       "        text-align: right;\n",
       "    }\n",
       "</style>\n",
       "<table border=\"1\" class=\"dataframe\">\n",
       "  <thead>\n",
       "    <tr style=\"text-align: right;\">\n",
       "      <th></th>\n",
       "      <th>Item_Identifier</th>\n",
       "      <th>Item_Weight</th>\n",
       "      <th>Item_Fat_Content</th>\n",
       "      <th>Item_Visibility</th>\n",
       "      <th>Item_Type</th>\n",
       "      <th>Item_MRP</th>\n",
       "      <th>Outlet_Identifier</th>\n",
       "      <th>Outlet_Establishment_Year</th>\n",
       "      <th>Outlet_Size</th>\n",
       "      <th>Outlet_Location_Type</th>\n",
       "      <th>Outlet_Type</th>\n",
       "      <th>Item_Outlet_Sales</th>\n",
       "    </tr>\n",
       "  </thead>\n",
       "  <tbody>\n",
       "    <tr>\n",
       "      <th>3</th>\n",
       "      <td>FDX07</td>\n",
       "      <td>19.200</td>\n",
       "      <td>Regular</td>\n",
       "      <td>0.000000</td>\n",
       "      <td>Fruits and Vegetables</td>\n",
       "      <td>182.0950</td>\n",
       "      <td>OUT010</td>\n",
       "      <td>1998</td>\n",
       "      <td>NaN</td>\n",
       "      <td>Tier 3</td>\n",
       "      <td>Grocery Store</td>\n",
       "      <td>732.3800</td>\n",
       "    </tr>\n",
       "    <tr>\n",
       "      <th>8</th>\n",
       "      <td>FDH17</td>\n",
       "      <td>16.200</td>\n",
       "      <td>Regular</td>\n",
       "      <td>0.016687</td>\n",
       "      <td>Frozen Foods</td>\n",
       "      <td>96.9726</td>\n",
       "      <td>OUT045</td>\n",
       "      <td>2002</td>\n",
       "      <td>NaN</td>\n",
       "      <td>Tier 2</td>\n",
       "      <td>Supermarket Type1</td>\n",
       "      <td>1076.5986</td>\n",
       "    </tr>\n",
       "    <tr>\n",
       "      <th>9</th>\n",
       "      <td>FDU28</td>\n",
       "      <td>19.200</td>\n",
       "      <td>Regular</td>\n",
       "      <td>0.094450</td>\n",
       "      <td>Frozen Foods</td>\n",
       "      <td>187.8214</td>\n",
       "      <td>OUT017</td>\n",
       "      <td>2007</td>\n",
       "      <td>NaN</td>\n",
       "      <td>Tier 2</td>\n",
       "      <td>Supermarket Type1</td>\n",
       "      <td>4710.5350</td>\n",
       "    </tr>\n",
       "    <tr>\n",
       "      <th>25</th>\n",
       "      <td>NCD06</td>\n",
       "      <td>13.000</td>\n",
       "      <td>Low Fat</td>\n",
       "      <td>0.099887</td>\n",
       "      <td>Household</td>\n",
       "      <td>45.9060</td>\n",
       "      <td>OUT017</td>\n",
       "      <td>2007</td>\n",
       "      <td>NaN</td>\n",
       "      <td>Tier 2</td>\n",
       "      <td>Supermarket Type1</td>\n",
       "      <td>838.9080</td>\n",
       "    </tr>\n",
       "    <tr>\n",
       "      <th>28</th>\n",
       "      <td>FDE51</td>\n",
       "      <td>5.925</td>\n",
       "      <td>Regular</td>\n",
       "      <td>0.161467</td>\n",
       "      <td>Dairy</td>\n",
       "      <td>45.5086</td>\n",
       "      <td>OUT010</td>\n",
       "      <td>1998</td>\n",
       "      <td>NaN</td>\n",
       "      <td>Tier 3</td>\n",
       "      <td>Grocery Store</td>\n",
       "      <td>178.4344</td>\n",
       "    </tr>\n",
       "  </tbody>\n",
       "</table>\n",
       "</div>"
      ],
      "text/plain": [
       "   Item_Identifier  Item_Weight Item_Fat_Content  Item_Visibility  \\\n",
       "3            FDX07       19.200          Regular         0.000000   \n",
       "8            FDH17       16.200          Regular         0.016687   \n",
       "9            FDU28       19.200          Regular         0.094450   \n",
       "25           NCD06       13.000          Low Fat         0.099887   \n",
       "28           FDE51        5.925          Regular         0.161467   \n",
       "\n",
       "                Item_Type  Item_MRP Outlet_Identifier  \\\n",
       "3   Fruits and Vegetables  182.0950            OUT010   \n",
       "8            Frozen Foods   96.9726            OUT045   \n",
       "9            Frozen Foods  187.8214            OUT017   \n",
       "25              Household   45.9060            OUT017   \n",
       "28                  Dairy   45.5086            OUT010   \n",
       "\n",
       "    Outlet_Establishment_Year Outlet_Size Outlet_Location_Type  \\\n",
       "3                        1998         NaN               Tier 3   \n",
       "8                        2002         NaN               Tier 2   \n",
       "9                        2007         NaN               Tier 2   \n",
       "25                       2007         NaN               Tier 2   \n",
       "28                       1998         NaN               Tier 3   \n",
       "\n",
       "          Outlet_Type  Item_Outlet_Sales  \n",
       "3       Grocery Store           732.3800  \n",
       "8   Supermarket Type1          1076.5986  \n",
       "9   Supermarket Type1          4710.5350  \n",
       "25  Supermarket Type1           838.9080  \n",
       "28      Grocery Store           178.4344  "
      ]
     },
     "execution_count": 6,
     "metadata": {},
     "output_type": "execute_result"
    }
   ],
   "source": [
    "df[df[\"Outlet_Size\"].isnull()].head()"
   ]
  },
  {
   "cell_type": "markdown",
   "id": "3b90d9c9",
   "metadata": {},
   "source": [
    "From this, it seems that the missing values are consistent with the \"Outlet_Identifier\", so the NaN values cannot be replaced with pre-existing data. With this in mind, the default course of action it to imputate the values with a missing indicator."
   ]
  },
  {
   "cell_type": "markdown",
   "id": "356490f7",
   "metadata": {},
   "source": [
    "### Attributes of Outlet <a id=\"2.3\"></a>"
   ]
  },
  {
   "cell_type": "markdown",
   "id": "ed5adb01",
   "metadata": {},
   "source": [
    "To understand the outlets present in the dataset, a dataframe should be created which aggregrates all the relevant attributes."
   ]
  },
  {
   "cell_type": "code",
   "execution_count": 7,
   "id": "df22efd1",
   "metadata": {},
   "outputs": [
    {
     "data": {
      "text/html": [
       "<div>\n",
       "<style scoped>\n",
       "    .dataframe tbody tr th:only-of-type {\n",
       "        vertical-align: middle;\n",
       "    }\n",
       "\n",
       "    .dataframe tbody tr th {\n",
       "        vertical-align: top;\n",
       "    }\n",
       "\n",
       "    .dataframe thead th {\n",
       "        text-align: right;\n",
       "    }\n",
       "</style>\n",
       "<table border=\"1\" class=\"dataframe\">\n",
       "  <thead>\n",
       "    <tr style=\"text-align: right;\">\n",
       "      <th></th>\n",
       "      <th>Outlet_Identifier</th>\n",
       "      <th>Outlet_Establishment_Year</th>\n",
       "      <th>Outlet_Size</th>\n",
       "      <th>Outlet_Location_Type</th>\n",
       "      <th>Outlet_Type</th>\n",
       "    </tr>\n",
       "  </thead>\n",
       "  <tbody>\n",
       "    <tr>\n",
       "      <th>0</th>\n",
       "      <td>OUT010</td>\n",
       "      <td>1998</td>\n",
       "      <td>[]</td>\n",
       "      <td>Tier 3</td>\n",
       "      <td>Grocery Store</td>\n",
       "    </tr>\n",
       "    <tr>\n",
       "      <th>1</th>\n",
       "      <td>OUT013</td>\n",
       "      <td>1987</td>\n",
       "      <td>High</td>\n",
       "      <td>Tier 3</td>\n",
       "      <td>Supermarket Type1</td>\n",
       "    </tr>\n",
       "    <tr>\n",
       "      <th>2</th>\n",
       "      <td>OUT017</td>\n",
       "      <td>2007</td>\n",
       "      <td>[]</td>\n",
       "      <td>Tier 2</td>\n",
       "      <td>Supermarket Type1</td>\n",
       "    </tr>\n",
       "    <tr>\n",
       "      <th>3</th>\n",
       "      <td>OUT018</td>\n",
       "      <td>2009</td>\n",
       "      <td>Medium</td>\n",
       "      <td>Tier 3</td>\n",
       "      <td>Supermarket Type2</td>\n",
       "    </tr>\n",
       "    <tr>\n",
       "      <th>4</th>\n",
       "      <td>OUT019</td>\n",
       "      <td>1985</td>\n",
       "      <td>Small</td>\n",
       "      <td>Tier 1</td>\n",
       "      <td>Grocery Store</td>\n",
       "    </tr>\n",
       "    <tr>\n",
       "      <th>5</th>\n",
       "      <td>OUT027</td>\n",
       "      <td>1985</td>\n",
       "      <td>Medium</td>\n",
       "      <td>Tier 3</td>\n",
       "      <td>Supermarket Type3</td>\n",
       "    </tr>\n",
       "    <tr>\n",
       "      <th>6</th>\n",
       "      <td>OUT035</td>\n",
       "      <td>2004</td>\n",
       "      <td>Small</td>\n",
       "      <td>Tier 2</td>\n",
       "      <td>Supermarket Type1</td>\n",
       "    </tr>\n",
       "    <tr>\n",
       "      <th>7</th>\n",
       "      <td>OUT045</td>\n",
       "      <td>2002</td>\n",
       "      <td>[]</td>\n",
       "      <td>Tier 2</td>\n",
       "      <td>Supermarket Type1</td>\n",
       "    </tr>\n",
       "    <tr>\n",
       "      <th>8</th>\n",
       "      <td>OUT046</td>\n",
       "      <td>1997</td>\n",
       "      <td>Small</td>\n",
       "      <td>Tier 1</td>\n",
       "      <td>Supermarket Type1</td>\n",
       "    </tr>\n",
       "    <tr>\n",
       "      <th>9</th>\n",
       "      <td>OUT049</td>\n",
       "      <td>1999</td>\n",
       "      <td>Medium</td>\n",
       "      <td>Tier 1</td>\n",
       "      <td>Supermarket Type1</td>\n",
       "    </tr>\n",
       "  </tbody>\n",
       "</table>\n",
       "</div>"
      ],
      "text/plain": [
       "  Outlet_Identifier  Outlet_Establishment_Year Outlet_Size  \\\n",
       "0            OUT010                       1998          []   \n",
       "1            OUT013                       1987        High   \n",
       "2            OUT017                       2007          []   \n",
       "3            OUT018                       2009      Medium   \n",
       "4            OUT019                       1985       Small   \n",
       "5            OUT027                       1985      Medium   \n",
       "6            OUT035                       2004       Small   \n",
       "7            OUT045                       2002          []   \n",
       "8            OUT046                       1997       Small   \n",
       "9            OUT049                       1999      Medium   \n",
       "\n",
       "  Outlet_Location_Type        Outlet_Type  \n",
       "0               Tier 3      Grocery Store  \n",
       "1               Tier 3  Supermarket Type1  \n",
       "2               Tier 2  Supermarket Type1  \n",
       "3               Tier 3  Supermarket Type2  \n",
       "4               Tier 1      Grocery Store  \n",
       "5               Tier 3  Supermarket Type3  \n",
       "6               Tier 2  Supermarket Type1  \n",
       "7               Tier 2  Supermarket Type1  \n",
       "8               Tier 1  Supermarket Type1  \n",
       "9               Tier 1  Supermarket Type1  "
      ]
     },
     "execution_count": 7,
     "metadata": {},
     "output_type": "execute_result"
    }
   ],
   "source": [
    "outlet_cols = [x for x in df.columns if \"Outlet\" in x]\n",
    "\n",
    "outlet = df.groupby(\"Outlet_Identifier\")[outlet_cols[1:-1]].agg(pd.Series.mode)\n",
    "outlet.reset_index()"
   ]
  },
  {
   "cell_type": "markdown",
   "id": "60fd2df1",
   "metadata": {},
   "source": [
    "According to the assignment brief, this dataset \"have been collected at various supermarket outlets and stores in different cities\". From this it is expected for the supermarket outlets to be of a varying profile with varying sizes and types. However, the outlets' size and type should be related and make sense. "
   ]
  },
  {
   "cell_type": "markdown",
   "id": "1607a108",
   "metadata": {},
   "source": [
    "<a id = \"outlet\"></a>From the above dataframe, it can be seen that the dataset have 10 unique outlets with 2 grocery stores, 6 type 1 supermarkets, 1 type 2 supermarket and 1 type 3 supermarket. This \"Outlet_type\" seems to be pretty self-explanatory with no deep meaning, and also seems to have an ordinal meaning. In essence in terms of status the \"Outlet_Type\" can be ordered as such: <br> Type 3 > Type 2 > Type 1 > Grocery Store"
   ]
  },
  {
   "cell_type": "markdown",
   "id": "cffa0005",
   "metadata": {},
   "source": [
    "Looking at the composition of each \"Outlet_Location_Type\"'s \"Outlet_Type\", it can be derived that \"Outlet_Location_Type\" refers to how developed the location of the outlet is, where Tier 1 can be thought as ghetto areas and Tier 3 being thought of as metropolitan city areas. This is supported by how Tier 3 has the most diverse combinations of \"Outlet_Type\" and \"Outlet_Size\" (similar to the downtown area having a mix of convenience stores, wet markets and hypermarts) and how Tier 1 only having small outlets or grocery stores (similar to the slums only having small stores). Additionally, there may be a correlation between this and the \"Outlet_Size\", where grocery stores tend to be small."
   ]
  },
  {
   "cell_type": "markdown",
   "id": "fbaed6e3",
   "metadata": {},
   "source": [
    "<a id = \"osize\"></a>According to the above insights, imputating the missing \"Outlet_Size\" with \"Small\" is an irrefutably logical approach, as grocery stores tend to be small and that type 2 supermarkets in Tier 2 locations also tend to be small."
   ]
  },
  {
   "cell_type": "markdown",
   "id": "7b6b2a9c",
   "metadata": {},
   "source": [
    "### Attributes of Item <a id=\"2.4\"></a>"
   ]
  },
  {
   "cell_type": "markdown",
   "id": "84657ae9",
   "metadata": {},
   "source": [
    "To understand the products sold in the supermarket, the following visualisations and code blocks were done."
   ]
  },
  {
   "attachments": {
    "image.png": {
     "image/png": "[encoded data removed]"
    }
   },
   "cell_type": "markdown",
   "id": "1a4b4439",
   "metadata": {},
   "source": [
    "![unsorted.png](attachment:image.png)"
   ]
  },
  {
   "cell_type": "markdown",
   "id": "0eae76d7",
   "metadata": {},
   "source": [
    "The above visualisation shows the count of each unique item present in the dataset, coloured by the items' fat content, where blue is low fat and red is regular. From here, it is noted how all the \"Item_Identifiers\" starting with \"M\" is low fat, however such a trend is not exclusive as items with \"Item_Identifiers\" starting with \"F\" can be either low fat or regular. At this point, it can be derived that the identifiers' values themselves hold no real meaning in each letter as of now, and thus is utterly useless except for identifying each item."
   ]
  },
  {
   "attachments": {
    "image.png": {
     "image/png": "[encoded data removed]"
    }
   },
   "cell_type": "markdown",
   "id": "33d96e42",
   "metadata": {},
   "source": [
    "![sorted.png](attachment:image.png)"
   ]
  },
  {
   "cell_type": "markdown",
   "id": "925c3f54",
   "metadata": {},
   "source": [
    "The visualisation is then sorted, which is shown above. Here this is no obvious trend in whether the items sold at more outlets tend to be either low fat or regular. The most notable insights from this is that only 2 items were sold at all 10 outlets and 4 were sold at only 1."
   ]
  },
  {
   "cell_type": "code",
   "execution_count": 8,
   "id": "e7966cf2",
   "metadata": {
    "scrolled": false
   },
   "outputs": [
    {
     "data": {
      "image/png": "[encoded data removed]",
      "text/plain": [
       "<Figure size 864x576 with 1 Axes>"
      ]
     },
     "metadata": {
      "needs_background": "light"
     },
     "output_type": "display_data"
    }
   ],
   "source": [
    "rare_freq = df[\"Item_Type\"].value_counts() / len(df)\n",
    "\n",
    "ax = rare_freq.sort_values(ascending = False).plot.bar(figsize = (12,8))\n",
    "\n",
    "ax.axhline(y = 0.02, color = 'r')\n",
    "\n",
    "ax.set_title('Findng Rare Categories')\n",
    "ax.set_ylabel(\"Percentage of Item Types\")\n",
    "ax.set_xlabel(\"Categories\")\n",
    "plt.show()"
   ]
  },
  {
   "cell_type": "markdown",
   "id": "f80ffbe3",
   "metadata": {},
   "source": [
    "The above visualisation has depicted there being 16 unique categories in \"Item_Types\", with 4 of them appearing less than >2% of the dataset. However, since these rare categories are awfully unique in terms of being unable to be regrouped sensibly, the column \"Item_Types\" should be left untouched for now."
   ]
  },
  {
   "cell_type": "code",
   "execution_count": 9,
   "id": "3be52456",
   "metadata": {},
   "outputs": [
    {
     "name": "stdout",
     "output_type": "stream",
     "text": [
      "Item_Identifier : 1559\n",
      "Item_Weight : 415\n",
      "Item_Fat_Content : 5\n",
      "Item_Visibility : 7880\n",
      "Item_Type : 16\n",
      "Item_MRP : 5938\n",
      "Outlet_Identifier : 10\n",
      "Outlet_Establishment_Year : 9\n",
      "Outlet_Size : 3\n",
      "Outlet_Location_Type : 3\n",
      "Outlet_Type : 4\n",
      "Item_Outlet_Sales : 3493\n"
     ]
    }
   ],
   "source": [
    "for col in df.columns:\n",
    "    print(\"{0} : {1}\".format(col,df[col].nunique()))"
   ]
  },
  {
   "cell_type": "markdown",
   "id": "da2b6f7b",
   "metadata": {},
   "source": [
    "The above really stood out, as the binary variable of \"Item_Fat_Content\" had 5 unique values. According to the [column description](#col) mentioned, it should only contain two values : Low Fat and Regular."
   ]
  },
  {
   "cell_type": "code",
   "execution_count": 10,
   "id": "60717f5b",
   "metadata": {},
   "outputs": [
    {
     "data": {
      "text/plain": [
       "Low Fat    5089\n",
       "Regular    2889\n",
       "LF          316\n",
       "reg         117\n",
       "low fat     112\n",
       "Name: Item_Fat_Content, dtype: int64"
      ]
     },
     "execution_count": 10,
     "metadata": {},
     "output_type": "execute_result"
    }
   ],
   "source": [
    "df[\"Item_Fat_Content\"].value_counts()"
   ]
  },
  {
   "cell_type": "markdown",
   "id": "06fc2c7a",
   "metadata": {},
   "source": [
    "<a id = \"lfclean\"></a> On an unrelated note, most of the items are food items apparently, for it to have a fat composition. The above has shown how all the values do indeed either mean Low Fat or Regular, just labelled in a different way. This would require cleaning later where the uncommon values are replaced suitably."
   ]
  },
  {
   "cell_type": "markdown",
   "id": "6c7a23ac",
   "metadata": {},
   "source": [
    " <a id= \"lowfat\"></a> In addition, it seems that majority of the items are Low Fat, to the point that regular could be considered as a minority. It is possible that that the supermarket caters to people who adopted the healthy living lifestyle, which would mean that Low Fat items would be considered as the base and norm in this context. This is can be seen in the following visualisation, after the dataset has been lightly cleaned."
   ]
  },
  {
   "attachments": {
    "image.png": {
     "image/png": "[encoded data removed]"
    }
   },
   "cell_type": "markdown",
   "id": "3c022efe",
   "metadata": {},
   "source": [
    "![pie.png](attachment:image.png)"
   ]
  },
  {
   "cell_type": "markdown",
   "id": "e1c12521",
   "metadata": {},
   "source": [
    "When aggregated by each item, 64.7% of the items were low fat while 35.3% were regular. This further reinforces the idea of low fat items being a norm in this supermarket context."
   ]
  },
  {
   "cell_type": "markdown",
   "id": "7082e2db",
   "metadata": {},
   "source": [
    "[Back to top](#top)"
   ]
  },
  {
   "cell_type": "markdown",
   "id": "ea0a18e8",
   "metadata": {},
   "source": [
    "## Cleaning <a id=\"3\"></a>"
   ]
  },
  {
   "cell_type": "markdown",
   "id": "b0b07f1b",
   "metadata": {},
   "source": [
    "The following are user-defined functions to perform cleaning and pre-processing tasks."
   ]
  },
  {
   "cell_type": "code",
   "execution_count": 11,
   "id": "c29ec006",
   "metadata": {},
   "outputs": [],
   "source": [
    "def snakecase(df):\n",
    "    df.columns = [x.lower() for x in df.columns]\n",
    "    print(df.columns)\n",
    "\n",
    "def clean_fat(df):\n",
    "    lf = df[\"item_fat_content\"].str.contains(\"^[lL]\", regex = True)\n",
    "    df.loc[lf,\"item_fat_content\"] = \"Low Fat\"\n",
    "    reg = df[\"item_fat_content\"].str.contains(\"^[rR]\", regex = True)\n",
    "    df.loc[reg,\"item_fat_content\"] = \"Regular\"\n",
    "    print(df[\"item_fat_content\"].unique())"
   ]
  },
  {
   "cell_type": "markdown",
   "id": "b57c7e63",
   "metadata": {},
   "source": [
    "### Pre-processing <a id=\"3.1\"></a>"
   ]
  },
  {
   "cell_type": "code",
   "execution_count": 12,
   "id": "37fb48a8",
   "metadata": {},
   "outputs": [
    {
     "name": "stdout",
     "output_type": "stream",
     "text": [
      "Index(['item_identifier', 'item_weight', 'item_fat_content', 'item_visibility',\n",
      "       'item_type', 'item_mrp', 'outlet_identifier',\n",
      "       'outlet_establishment_year', 'outlet_size', 'outlet_location_type',\n",
      "       'outlet_type', 'item_outlet_sales'],\n",
      "      dtype='object')\n"
     ]
    }
   ],
   "source": [
    "# in order to facilitate easier coding\n",
    "# this also follows convention \n",
    "snakecase(df)"
   ]
  },
  {
   "cell_type": "markdown",
   "id": "2c720ea9",
   "metadata": {},
   "source": [
    "[As stated above](#lfclean), the feature \"item_fat_content\" needs to be processed so as to replace the uncommon values for a truly binary feature."
   ]
  },
  {
   "cell_type": "code",
   "execution_count": 13,
   "id": "9b81e878",
   "metadata": {},
   "outputs": [
    {
     "name": "stdout",
     "output_type": "stream",
     "text": [
      "['Low Fat' 'Regular']\n"
     ]
    }
   ],
   "source": [
    "# cleaning fat column\n",
    "clean_fat(df)\n",
    "# prints out the unique values"
   ]
  },
  {
   "cell_type": "markdown",
   "id": "e47d1d53",
   "metadata": {},
   "source": [
    "### Missing Values <a id=\"3.2\"></a>"
   ]
  },
  {
   "cell_type": "markdown",
   "id": "ee557f69",
   "metadata": {},
   "source": [
    "[As mentioned above](#osize), the missing values for \"outlet_size\" can be replaced as such."
   ]
  },
  {
   "cell_type": "code",
   "execution_count": 14,
   "id": "c4186d49",
   "metadata": {},
   "outputs": [
    {
     "data": {
      "text/plain": [
       "array(['Medium', 'Small', 'High'], dtype=object)"
      ]
     },
     "execution_count": 14,
     "metadata": {},
     "output_type": "execute_result"
    }
   ],
   "source": [
    "df[\"outlet_size\"] = df[\"outlet_size\"].fillna(\"Small\")\n",
    "df.outlet_size.unique()"
   ]
  },
  {
   "cell_type": "markdown",
   "id": "f3e5477c",
   "metadata": {},
   "source": [
    "For the missing values in \"item_weight\", a dataframe aggregating the max value of \"item_weight\" will be created as a reference for missing values imputation. Using this dataframe is in line with the  [analysis done above](#iw)."
   ]
  },
  {
   "cell_type": "code",
   "execution_count": 15,
   "id": "c46ed2f1",
   "metadata": {
    "scrolled": true
   },
   "outputs": [
    {
     "data": {
      "text/html": [
       "<div>\n",
       "<style scoped>\n",
       "    .dataframe tbody tr th:only-of-type {\n",
       "        vertical-align: middle;\n",
       "    }\n",
       "\n",
       "    .dataframe tbody tr th {\n",
       "        vertical-align: top;\n",
       "    }\n",
       "\n",
       "    .dataframe thead th {\n",
       "        text-align: right;\n",
       "    }\n",
       "</style>\n",
       "<table border=\"1\" class=\"dataframe\">\n",
       "  <thead>\n",
       "    <tr style=\"text-align: right;\">\n",
       "      <th></th>\n",
       "      <th>item_identifier</th>\n",
       "      <th>item_weight</th>\n",
       "    </tr>\n",
       "  </thead>\n",
       "  <tbody>\n",
       "    <tr>\n",
       "      <th>0</th>\n",
       "      <td>DRA12</td>\n",
       "      <td>11.600</td>\n",
       "    </tr>\n",
       "    <tr>\n",
       "      <th>1</th>\n",
       "      <td>DRA24</td>\n",
       "      <td>19.350</td>\n",
       "    </tr>\n",
       "    <tr>\n",
       "      <th>2</th>\n",
       "      <td>DRA59</td>\n",
       "      <td>8.270</td>\n",
       "    </tr>\n",
       "    <tr>\n",
       "      <th>3</th>\n",
       "      <td>DRB01</td>\n",
       "      <td>7.390</td>\n",
       "    </tr>\n",
       "    <tr>\n",
       "      <th>4</th>\n",
       "      <td>DRB13</td>\n",
       "      <td>6.115</td>\n",
       "    </tr>\n",
       "    <tr>\n",
       "      <th>...</th>\n",
       "      <td>...</td>\n",
       "      <td>...</td>\n",
       "    </tr>\n",
       "    <tr>\n",
       "      <th>1554</th>\n",
       "      <td>NCZ30</td>\n",
       "      <td>6.590</td>\n",
       "    </tr>\n",
       "    <tr>\n",
       "      <th>1555</th>\n",
       "      <td>NCZ41</td>\n",
       "      <td>19.850</td>\n",
       "    </tr>\n",
       "    <tr>\n",
       "      <th>1556</th>\n",
       "      <td>NCZ42</td>\n",
       "      <td>10.500</td>\n",
       "    </tr>\n",
       "    <tr>\n",
       "      <th>1557</th>\n",
       "      <td>NCZ53</td>\n",
       "      <td>9.600</td>\n",
       "    </tr>\n",
       "    <tr>\n",
       "      <th>1558</th>\n",
       "      <td>NCZ54</td>\n",
       "      <td>14.650</td>\n",
       "    </tr>\n",
       "  </tbody>\n",
       "</table>\n",
       "<p>1559 rows × 2 columns</p>\n",
       "</div>"
      ],
      "text/plain": [
       "     item_identifier  item_weight\n",
       "0              DRA12       11.600\n",
       "1              DRA24       19.350\n",
       "2              DRA59        8.270\n",
       "3              DRB01        7.390\n",
       "4              DRB13        6.115\n",
       "...              ...          ...\n",
       "1554           NCZ30        6.590\n",
       "1555           NCZ41       19.850\n",
       "1556           NCZ42       10.500\n",
       "1557           NCZ53        9.600\n",
       "1558           NCZ54       14.650\n",
       "\n",
       "[1559 rows x 2 columns]"
      ]
     },
     "execution_count": 15,
     "metadata": {},
     "output_type": "execute_result"
    }
   ],
   "source": [
    "# create a temp df for the max of item weight of each item identifier\n",
    "item_wgt_df = df.groupby(\"item_identifier\")[\"item_weight\"].max().reset_index()\n",
    "\n",
    "item_wgt_df"
   ]
  },
  {
   "cell_type": "code",
   "execution_count": 16,
   "id": "1bd21bed",
   "metadata": {},
   "outputs": [
    {
     "name": "stdout",
     "output_type": "stream",
     "text": [
      "item_identifier    0.000000\n",
      "item_weight        0.002566\n",
      "dtype: float64\n"
     ]
    }
   ],
   "source": [
    "for i in item_wgt_df.values:\n",
    "    i_id = i[0]\n",
    "    i_w = i[1]\n",
    "    df.loc[df[\"item_identifier\"] == i_id,\"item_weight\"] = i_w\n",
    "# goes through each unique item id and replaces all of their item weights \n",
    "# with the max value from the item_wgt_df\n",
    "\n",
    "print(item_wgt_df.isnull().mean())"
   ]
  },
  {
   "cell_type": "markdown",
   "id": "8c91a057",
   "metadata": {},
   "source": [
    "The printed output has shown that there are still items with missing \"item_weight\". These items are definitely rare with only 1 record of their \"item_id\"."
   ]
  },
  {
   "cell_type": "code",
   "execution_count": 17,
   "id": "5e23b80b",
   "metadata": {},
   "outputs": [
    {
     "data": {
      "text/html": [
       "<div>\n",
       "<style scoped>\n",
       "    .dataframe tbody tr th:only-of-type {\n",
       "        vertical-align: middle;\n",
       "    }\n",
       "\n",
       "    .dataframe tbody tr th {\n",
       "        vertical-align: top;\n",
       "    }\n",
       "\n",
       "    .dataframe thead th {\n",
       "        text-align: right;\n",
       "    }\n",
       "</style>\n",
       "<table border=\"1\" class=\"dataframe\">\n",
       "  <thead>\n",
       "    <tr style=\"text-align: right;\">\n",
       "      <th></th>\n",
       "      <th>item_identifier</th>\n",
       "      <th>item_weight</th>\n",
       "      <th>item_fat_content</th>\n",
       "      <th>item_visibility</th>\n",
       "      <th>item_type</th>\n",
       "      <th>item_mrp</th>\n",
       "      <th>outlet_identifier</th>\n",
       "      <th>outlet_establishment_year</th>\n",
       "      <th>outlet_size</th>\n",
       "      <th>outlet_location_type</th>\n",
       "      <th>outlet_type</th>\n",
       "      <th>item_outlet_sales</th>\n",
       "    </tr>\n",
       "  </thead>\n",
       "  <tbody>\n",
       "    <tr>\n",
       "      <th>927</th>\n",
       "      <td>FDN52</td>\n",
       "      <td>NaN</td>\n",
       "      <td>Regular</td>\n",
       "      <td>0.130933</td>\n",
       "      <td>Frozen Foods</td>\n",
       "      <td>86.9198</td>\n",
       "      <td>OUT027</td>\n",
       "      <td>1985</td>\n",
       "      <td>Medium</td>\n",
       "      <td>Tier 3</td>\n",
       "      <td>Supermarket Type3</td>\n",
       "      <td>1569.9564</td>\n",
       "    </tr>\n",
       "    <tr>\n",
       "      <th>1922</th>\n",
       "      <td>FDK57</td>\n",
       "      <td>NaN</td>\n",
       "      <td>Low Fat</td>\n",
       "      <td>0.079904</td>\n",
       "      <td>Snack Foods</td>\n",
       "      <td>120.0440</td>\n",
       "      <td>OUT027</td>\n",
       "      <td>1985</td>\n",
       "      <td>Medium</td>\n",
       "      <td>Tier 3</td>\n",
       "      <td>Supermarket Type3</td>\n",
       "      <td>4434.2280</td>\n",
       "    </tr>\n",
       "    <tr>\n",
       "      <th>4187</th>\n",
       "      <td>FDE52</td>\n",
       "      <td>NaN</td>\n",
       "      <td>Regular</td>\n",
       "      <td>0.029742</td>\n",
       "      <td>Dairy</td>\n",
       "      <td>88.9514</td>\n",
       "      <td>OUT027</td>\n",
       "      <td>1985</td>\n",
       "      <td>Medium</td>\n",
       "      <td>Tier 3</td>\n",
       "      <td>Supermarket Type3</td>\n",
       "      <td>3453.5046</td>\n",
       "    </tr>\n",
       "    <tr>\n",
       "      <th>5022</th>\n",
       "      <td>FDQ60</td>\n",
       "      <td>NaN</td>\n",
       "      <td>Regular</td>\n",
       "      <td>0.191501</td>\n",
       "      <td>Baking Goods</td>\n",
       "      <td>121.2098</td>\n",
       "      <td>OUT019</td>\n",
       "      <td>1985</td>\n",
       "      <td>Small</td>\n",
       "      <td>Tier 1</td>\n",
       "      <td>Grocery Store</td>\n",
       "      <td>120.5098</td>\n",
       "    </tr>\n",
       "  </tbody>\n",
       "</table>\n",
       "</div>"
      ],
      "text/plain": [
       "     item_identifier  item_weight item_fat_content  item_visibility  \\\n",
       "927            FDN52          NaN          Regular         0.130933   \n",
       "1922           FDK57          NaN          Low Fat         0.079904   \n",
       "4187           FDE52          NaN          Regular         0.029742   \n",
       "5022           FDQ60          NaN          Regular         0.191501   \n",
       "\n",
       "         item_type  item_mrp outlet_identifier  outlet_establishment_year  \\\n",
       "927   Frozen Foods   86.9198            OUT027                       1985   \n",
       "1922   Snack Foods  120.0440            OUT027                       1985   \n",
       "4187         Dairy   88.9514            OUT027                       1985   \n",
       "5022  Baking Goods  121.2098            OUT019                       1985   \n",
       "\n",
       "     outlet_size outlet_location_type        outlet_type  item_outlet_sales  \n",
       "927       Medium               Tier 3  Supermarket Type3          1569.9564  \n",
       "1922      Medium               Tier 3  Supermarket Type3          4434.2280  \n",
       "4187      Medium               Tier 3  Supermarket Type3          3453.5046  \n",
       "5022       Small               Tier 1      Grocery Store           120.5098  "
      ]
     },
     "execution_count": 17,
     "metadata": {},
     "output_type": "execute_result"
    }
   ],
   "source": [
    "df[df.item_weight.isnull()]"
   ]
  },
  {
   "cell_type": "markdown",
   "id": "b8097dd9",
   "metadata": {},
   "source": [
    "The below table illustrates the different values used to imputate the remaining missing values in the feature \"item_weight\". The table values refers to the end model's r-sq value for the test dataset, where the model takes in the cleaned dataset with optimized transformations and engineered features."
   ]
  },
  {
   "cell_type": "markdown",
   "id": "db004a4c",
   "metadata": {},
   "source": [
    "<table>\n",
    "  <caption> Imputated Values' Test R-square Results </caption>\n",
    "  <tr>\n",
    "    <th>0</th>\n",
    "    <th>Mean</th>\n",
    "    <th>Median</th>\n",
    "  </tr>\n",
    "  <tr>\n",
    "    <td>0.5684000460922365</td>\n",
    "    <td>0.5684000460922365</td>\n",
    "    <td>0.5684000460922365</td>\n",
    "  </tr>\n",
    "</table>"
   ]
  },
  {
   "cell_type": "markdown",
   "id": "ff50a863",
   "metadata": {},
   "source": [
    "Surprisingly, the imputated value does not impact the end model's performance, and thus any value can be imputated into the column. For now, the mean valule will be imputated."
   ]
  },
  {
   "cell_type": "code",
   "execution_count": 18,
   "id": "fe8ffc53",
   "metadata": {},
   "outputs": [
    {
     "data": {
      "text/html": [
       "<div>\n",
       "<style scoped>\n",
       "    .dataframe tbody tr th:only-of-type {\n",
       "        vertical-align: middle;\n",
       "    }\n",
       "\n",
       "    .dataframe tbody tr th {\n",
       "        vertical-align: top;\n",
       "    }\n",
       "\n",
       "    .dataframe thead th {\n",
       "        text-align: right;\n",
       "    }\n",
       "</style>\n",
       "<table border=\"1\" class=\"dataframe\">\n",
       "  <thead>\n",
       "    <tr style=\"text-align: right;\">\n",
       "      <th></th>\n",
       "      <th>item_identifier</th>\n",
       "      <th>item_weight</th>\n",
       "      <th>item_fat_content</th>\n",
       "      <th>item_visibility</th>\n",
       "      <th>item_type</th>\n",
       "      <th>item_mrp</th>\n",
       "      <th>outlet_identifier</th>\n",
       "      <th>outlet_establishment_year</th>\n",
       "      <th>outlet_size</th>\n",
       "      <th>outlet_location_type</th>\n",
       "      <th>outlet_type</th>\n",
       "      <th>item_outlet_sales</th>\n",
       "    </tr>\n",
       "  </thead>\n",
       "  <tbody>\n",
       "  </tbody>\n",
       "</table>\n",
       "</div>"
      ],
      "text/plain": [
       "Empty DataFrame\n",
       "Columns: [item_identifier, item_weight, item_fat_content, item_visibility, item_type, item_mrp, outlet_identifier, outlet_establishment_year, outlet_size, outlet_location_type, outlet_type, item_outlet_sales]\n",
       "Index: []"
      ]
     },
     "execution_count": 18,
     "metadata": {},
     "output_type": "execute_result"
    }
   ],
   "source": [
    "df.item_weight.fillna(df.item_weight.mean(), inplace = True)\n",
    "df[df.item_weight.isnull()]"
   ]
  },
  {
   "cell_type": "markdown",
   "id": "fe10bf2e",
   "metadata": {},
   "source": [
    "[Back to top](#top)"
   ]
  },
  {
   "cell_type": "markdown",
   "id": "8ddfbf45",
   "metadata": {},
   "source": [
    "## Data Transformation <a id=\"4\"></a>"
   ]
  },
  {
   "cell_type": "markdown",
   "id": "931098f2",
   "metadata": {},
   "source": [
    "The below are functions created for encoding and discretizing the variable."
   ]
  },
  {
   "cell_type": "code",
   "execution_count": 19,
   "id": "9a3d905b",
   "metadata": {},
   "outputs": [],
   "source": [
    "def encode(train, test, variable, mapping):\n",
    "    ''' a function to help map and encode when using pandas '''\n",
    "    train[variable] = train[variable].map(mapping)\n",
    "    test[variable] = test[variable].map(mapping)\n",
    "    return train,test\n",
    "\n",
    "def encodemap(train,test,mappingls):\n",
    "    for i in mappingls:\n",
    "        feature_name = i[0] # name of feature\n",
    "        mapping = i[1] # dictornary\n",
    "        train , test = encode(train,test,feature_name,mapping)\n",
    "    return train , test"
   ]
  },
  {
   "cell_type": "code",
   "execution_count": 20,
   "id": "d68b2135",
   "metadata": {},
   "outputs": [],
   "source": [
    "def meanTV(X_train,X_test, y_train):\n",
    "    from feature_engine.encoding import MeanEncoder\n",
    "    mean_enc = MeanEncoder(variables=None)\n",
    "    mean_enc.fit(X_train, y_train)\n",
    "    xtra = mean_enc.transform(X_train)\n",
    "    xtes = mean_enc.transform(X_test)\n",
    "    \n",
    "    return xtra , xtes\n"
   ]
  },
  {
   "cell_type": "code",
   "execution_count": 21,
   "id": "b807d48b",
   "metadata": {},
   "outputs": [],
   "source": [
    "def tts(df,target):\n",
    "    from sklearn.model_selection import train_test_split\n",
    "    X_train, X_test, y_train, y_test = train_test_split(\n",
    "    df.drop(target, axis=1), df[target], test_size=0.3, random_state = 1)\n",
    "    return X_train, X_test, y_train, y_test"
   ]
  },
  {
   "cell_type": "markdown",
   "id": "b9edee59",
   "metadata": {},
   "source": [
    "At this point the dataset needs to be split up into a training dataset and a testing dataset before further transformations, which is as such."
   ]
  },
  {
   "cell_type": "code",
   "execution_count": 22,
   "id": "6ffe2d20",
   "metadata": {},
   "outputs": [],
   "source": [
    "xtra , xtes , ytra , ytes = tts(df,\"item_outlet_sales\")"
   ]
  },
  {
   "cell_type": "markdown",
   "id": "effab729",
   "metadata": {},
   "source": [
    "### Numerical <a id=\"4.1\"></a>"
   ]
  },
  {
   "cell_type": "markdown",
   "id": "61c13e8c",
   "metadata": {},
   "source": [
    "The next block is a function to visualize all the numerical values for univariate analysis."
   ]
  },
  {
   "cell_type": "code",
   "execution_count": 23,
   "id": "d3ac9a5e",
   "metadata": {},
   "outputs": [],
   "source": [
    "def diagnostic_plots(df, variable):\n",
    "    # function takes a dataframe (df) and\n",
    "    # the variable of interest as arguments\n",
    "    import scipy.stats as stats\n",
    "    # define figure size\n",
    "    plt.figure(figsize=(16, 4))\n",
    "    # histogram\n",
    "    plt.subplot(1, 3, 1)\n",
    "    sns.distplot(df[variable], bins=30)\n",
    "    plt.title('Histogram')\n",
    "    # Q-Q plot\n",
    "    plt.subplot(1, 3, 2)\n",
    "    stats.probplot(df[variable], dist=\"norm\", plot=plt)\n",
    "    plt.ylabel('RM quantiles')\n",
    "    # boxplot\n",
    "    plt.subplot(1, 3, 3)\n",
    "    sns.boxplot(y=df[variable])\n",
    "    plt.title('Boxplot')\n",
    "    plt.show()\n"
   ]
  },
  {
   "cell_type": "markdown",
   "id": "ad800449",
   "metadata": {},
   "source": [
    "To decide which features to \"operate\" on using the numerical transfromation methods, all the numerical features in the dataset have been visualised below."
   ]
  },
  {
   "cell_type": "code",
   "execution_count": 24,
   "id": "00e89fd1",
   "metadata": {
    "scrolled": false
   },
   "outputs": [
    {
     "name": "stderr",
     "output_type": "stream",
     "text": [
      "C:\\Users\\Kayen\\anaconda3\\lib\\site-packages\\seaborn\\distributions.py:2619: FutureWarning: `distplot` is a deprecated function and will be removed in a future version. Please adapt your code to use either `displot` (a figure-level function with similar flexibility) or `histplot` (an axes-level function for histograms).\n",
      "  warnings.warn(msg, FutureWarning)\n"
     ]
    },
    {
     "data": {
      "image/png": "[encoded data removed]",
      "text/plain": [
       "<Figure size 1152x288 with 3 Axes>"
      ]
     },
     "metadata": {
      "needs_background": "light"
     },
     "output_type": "display_data"
    },
    {
     "name": "stderr",
     "output_type": "stream",
     "text": [
      "C:\\Users\\Kayen\\anaconda3\\lib\\site-packages\\seaborn\\distributions.py:2619: FutureWarning: `distplot` is a deprecated function and will be removed in a future version. Please adapt your code to use either `displot` (a figure-level function with similar flexibility) or `histplot` (an axes-level function for histograms).\n",
      "  warnings.warn(msg, FutureWarning)\n"
     ]
    },
    {
     "data": {
      "image/png": "[encoded data removed]",
      "text/plain": [
       "<Figure size 1152x288 with 3 Axes>"
      ]
     },
     "metadata": {
      "needs_background": "light"
     },
     "output_type": "display_data"
    },
    {
     "name": "stderr",
     "output_type": "stream",
     "text": [
      "C:\\Users\\Kayen\\anaconda3\\lib\\site-packages\\seaborn\\distributions.py:2619: FutureWarning: `distplot` is a deprecated function and will be removed in a future version. Please adapt your code to use either `displot` (a figure-level function with similar flexibility) or `histplot` (an axes-level function for histograms).\n",
      "  warnings.warn(msg, FutureWarning)\n"
     ]
    },
    {
     "data": {
      "image/png": "[encoded data removed]",
      "text/plain": [
       "<Figure size 1152x288 with 3 Axes>"
      ]
     },
     "metadata": {
      "needs_background": "light"
     },
     "output_type": "display_data"
    },
    {
     "name": "stderr",
     "output_type": "stream",
     "text": [
      "C:\\Users\\Kayen\\anaconda3\\lib\\site-packages\\seaborn\\distributions.py:2619: FutureWarning: `distplot` is a deprecated function and will be removed in a future version. Please adapt your code to use either `displot` (a figure-level function with similar flexibility) or `histplot` (an axes-level function for histograms).\n",
      "  warnings.warn(msg, FutureWarning)\n"
     ]
    },
    {
     "data": {
      "image/png": "[encoded data removed]",
      "text/plain": [
       "<Figure size 1152x288 with 3 Axes>"
      ]
     },
     "metadata": {
      "needs_background": "light"
     },
     "output_type": "display_data"
    }
   ],
   "source": [
    "num_cols = [c for c in xtra.columns if xtra[c].dtypes!='O']\n",
    "\n",
    "for i in num_cols: \n",
    "    diagnostic_plots(xtra,i)"
   ]
  },
  {
   "cell_type": "markdown",
   "id": "52f77dc4",
   "metadata": {},
   "source": [
    "In reference of the above visualisations,  only 3 features seems suitable to be transformed using mathematical transformations, which are: \"item_weight\", \"item_visibility\" and \"item_mrp\". The feature \"outlet_establishment_year\" seems to be a discrete numerical variable with no anomalous data points, thus it does not seem sensible to transform the feature."
   ]
  },
  {
   "cell_type": "markdown",
   "id": "f02eed2a",
   "metadata": {},
   "source": [
    "The below table illustrates the different techniques used to each of the feature mentioned above. The table values refers to the end model's r-sq value for the test dataset, where the model takes in the cleaned dataset with optimized discretization and engineered features.\n",
    "\n",
    "As a point of reference, the end model's r-sq without any numerical data transformations is\n",
    "<mark style=\"background-color:#FFFFBF\" > 0.5684000460922365 </mark>"
   ]
  },
  {
   "cell_type": "markdown",
   "id": "32fe7477",
   "metadata": {},
   "source": [
    "<table>\n",
    "  <col>\n",
    "  <colgroup span=\"1\"></colgroup>\n",
    "  <colgroup span=\"1\"></colgroup>\n",
    "  <tr>\n",
    "    <td rowspan=\"1\"></td>\n",
    "    <th colspan=\"3\" scope=\"colgroup\">Features</th>\n",
    "  </tr>\n",
    "  <tr>\n",
    "    <th>Method</th>\n",
    "    <th scope=\"col\">Visibility</th>\n",
    "    <th scope=\"col\">Weight</th>\n",
    "    <th scope=\"col\">MRP</th>\n",
    "  </tr>\n",
    "  <tr>\n",
    "    <th scope=\"row\">YeoJohnson</th>\n",
    "    <td>0.5684000460922365</td>\n",
    "    <td>0.5684000460922365</td>\n",
    "    <td>0.5594077681364817</td>\n",
    "  </tr>\n",
    "  <tr>\n",
    "    <th scope=\"row\">Reciprocal</th>\n",
    "    <td> - </td>\n",
    "    <td>0.5684000460922365</td>\n",
    "    <td>0.5658314709024108</td>\n",
    "  </tr>\n",
    "  <tr>\n",
    "    <th scope=\"row\">^ 2</th>\n",
    "    <td>0.5684000460922365</td>\n",
    "    <td>0.5684000460922365</td>\n",
    "    <td>0.5658001684688789</td>\n",
    "  </tr>\n",
    "  <tr>\n",
    "    <th scope=\"row\">Square Root</th>\n",
    "    <td>0.5684000460922365</td>\n",
    "    <td>0.5684000460922365</td>\n",
    "    <td>0.5658001684688789</td>\n",
    "  </tr>\n",
    "  <tr>\n",
    "    <th scope=\"row\">Log 2</th>\n",
    "    <td> - </td>\n",
    "    <td>0.5684000460922365</td>\n",
    "    <td>0.5658001684688789</td>\n",
    "  </tr>\n",
    "</table>"
   ]
  },
  {
   "cell_type": "markdown",
   "id": "bcc53184",
   "metadata": {},
   "source": [
    "Interestingly, due to the optimization of selecting the features used for the end model, both features \"item_visibility\" and \"item_weight\" gets dropped when they get transformed. In turn, running mathematical transformations on the feature \"item_mrp\" worsened the model performance by a decrease of 0.00256857518 - 0.00899227795 in the test rsq. "
   ]
  },
  {
   "cell_type": "markdown",
   "id": "d1235364",
   "metadata": {},
   "source": [
    "Moving forward, no transformations will be done onto any of the numerical features."
   ]
  },
  {
   "cell_type": "markdown",
   "id": "12af6397",
   "metadata": {},
   "source": [
    "Other techniques that were considered were clipping, capping and winsorization. However, after consideration of all the outliers in all the numerical features, touching any of the outliers seems illogical. Specifically, transforming the data points in the \"item_weights\"'s \"long tail\" appear to be insensible since all the values makes sense in the context of items being on display in a brick-and-mortar supermarket. Changing the values invalidates the items' exposure and visibility to customers in a store, which may have a big impact onto the target variable, \"item_outlet_sales\"."
   ]
  },
  {
   "cell_type": "markdown",
   "id": "bd9ab3d6",
   "metadata": {},
   "source": [
    "As of now, performing no numerical data transformations results in the best model in terms of test r-sq value."
   ]
  },
  {
   "cell_type": "markdown",
   "id": "9a0c9e73",
   "metadata": {},
   "source": [
    "### Encoding <a id=\"4.2\"></a>"
   ]
  },
  {
   "cell_type": "markdown",
   "id": "4c923320",
   "metadata": {},
   "source": [
    "As according to the above analysis regarding the feature [\"item_lowfat\"](#lowfat) and attributes of the supermarket's [outlets](#outlet), the following insights can be made.\n",
    "- as most items were low fat, to the point that regular could be considered as a minority, low fat was taken as a base, i.e. to be encoded as 0\n",
    "- \"outlet_size\" to be labelled ordinally where the larger the outlet size, the larger its ordinal label\n",
    "- \"outlet_location_type\" receives a similar treatment to \"outlet_size\", considering how Tier 1 most likely refers to a less developed part of the region.\n",
    "- in reference to the relationships between the outlets' sizes, types, and location types, \"outlet_type\" will be encoded to reflect how a grocery store is the bare minimum and a type 3 supermarket being the equivalent to the NTUC FairPrice's hypermart.\n",
    "\n",
    "These are exemplified in the encoding mapping dictionaries as shown below."
   ]
  },
  {
   "cell_type": "code",
   "execution_count": 25,
   "id": "a54b2a9a",
   "metadata": {},
   "outputs": [],
   "source": [
    "mappingls =[[\"item_fat_content\", {\"Low Fat\": 0, \"Regular\" : 1}],\n",
    "            [\"outlet_size\", {\"High\" : 2,\"Medium\" : 1,\"Small\" : 0}],\n",
    "            [\"outlet_location_type\", {\"Tier 1\" : 0,\"Tier 2\" : 1,\"Tier 3\" : 2}],\n",
    "            [\"outlet_type\", { \"Grocery Store\" : 0,\n",
    "                                        \"Supermarket Type1\" : 1,\n",
    "                                        \"Supermarket Type2\" : 2, \n",
    "                                        \"Supermarket Type3\" : 3}]]\n",
    "\n",
    "xtra , xtes = encodemap(xtra,xtes,mappingls)"
   ]
  },
  {
   "cell_type": "markdown",
   "id": "c4e8eb12",
   "metadata": {},
   "source": [
    "For \"item_identifier\", since it has a high cardinality, there were the choices to either drop the entire column or encode it using count / frequency encoder. However, no matter which permutation of data wrangling techniques is used, the auto-dropper will drop the feature \"item_identifier\". Thus it is best to just drop it as of now."
   ]
  },
  {
   "cell_type": "code",
   "execution_count": 26,
   "id": "02eea112",
   "metadata": {},
   "outputs": [],
   "source": [
    "xtra = xtra.drop(\"item_identifier\", axis = 1)\n",
    "xtes = xtes.drop(\"item_identifier\", axis = 1)"
   ]
  },
  {
   "cell_type": "markdown",
   "id": "298f2fa9",
   "metadata": {},
   "source": [
    "On the other hand, since the feature \"item_type\" is not really of high cardinality, it cannot be dropped and needs to be encoded. Unfortunately, it has 16 unique values that cannot be easily translated into ordinal numbers. This also rings true for the feature \"outlet_identifier\", where it only has 10 unique values. Due to these similar characteristics, both features will receive the same wrangling techniques in terms of encoding methods.\n",
    "\n",
    "Thus, the following table will depict the different encoding methods used onto both of them and the end model's resulting test r-sq. This model is also optimized in terms of discretization and feature engineering."
   ]
  },
  {
   "cell_type": "markdown",
   "id": "f2296074",
   "metadata": {},
   "source": [
    "<table>\n",
    "  <caption>Encoding Methods' Test R-square Results </caption>\n",
    "  <tr>\n",
    "    <th>One-Hot Encoding</th>\n",
    "    <th>Count</th>\n",
    "    <th>Frequency</th>\n",
    "    <th>Target Mean</th>\n",
    "    <th>Ordered Target Mean</th>\n",
    "  </tr>\n",
    "  <tr>\n",
    "    <td>0.5673619680172757</td>\n",
    "    <td>0.5630903950931131</td>\n",
    "    <td>0.5630903950931131</td>\n",
    "    <td style=\"background-color:#FFFFBF\">0.5711998207461684</td>\n",
    "    <td>0.5684000460922365</td>\n",
    "  </tr>\n",
    "</table>\n",
    "\n",
    "However, the model utilizing the dataset encoded with One Hot Encoder was not optimized in terms of feature engineering. This is due to that dataset having 34 features to be processed.\n",
    "\n",
    "Since using the ordered target mean encoding method resulted the best model with a performance of <mark style=\"background-color:#FFFFBF\" > 0.5711998207461684 </mark> in terms of the test r-sq metric."
   ]
  },
  {
   "cell_type": "code",
   "execution_count": 27,
   "id": "a2302992",
   "metadata": {},
   "outputs": [],
   "source": [
    "xtra, xtes = meanTV(xtra,xtes,ytra)"
   ]
  },
  {
   "cell_type": "code",
   "execution_count": 28,
   "id": "27ac1158",
   "metadata": {},
   "outputs": [
    {
     "data": {
      "text/html": [
       "<div>\n",
       "<style scoped>\n",
       "    .dataframe tbody tr th:only-of-type {\n",
       "        vertical-align: middle;\n",
       "    }\n",
       "\n",
       "    .dataframe tbody tr th {\n",
       "        vertical-align: top;\n",
       "    }\n",
       "\n",
       "    .dataframe thead th {\n",
       "        text-align: right;\n",
       "    }\n",
       "</style>\n",
       "<table border=\"1\" class=\"dataframe\">\n",
       "  <thead>\n",
       "    <tr style=\"text-align: right;\">\n",
       "      <th></th>\n",
       "      <th>item_weight</th>\n",
       "      <th>item_fat_content</th>\n",
       "      <th>item_visibility</th>\n",
       "      <th>item_type</th>\n",
       "      <th>item_mrp</th>\n",
       "      <th>outlet_identifier</th>\n",
       "      <th>outlet_establishment_year</th>\n",
       "      <th>outlet_size</th>\n",
       "      <th>outlet_location_type</th>\n",
       "      <th>outlet_type</th>\n",
       "    </tr>\n",
       "  </thead>\n",
       "  <tbody>\n",
       "    <tr>\n",
       "      <th>7013</th>\n",
       "      <td>20.00</td>\n",
       "      <td>0</td>\n",
       "      <td>0.058198</td>\n",
       "      <td>2071.277836</td>\n",
       "      <td>110.4544</td>\n",
       "      <td>3698.704944</td>\n",
       "      <td>1985</td>\n",
       "      <td>1</td>\n",
       "      <td>2</td>\n",
       "      <td>3</td>\n",
       "    </tr>\n",
       "    <tr>\n",
       "      <th>1355</th>\n",
       "      <td>11.10</td>\n",
       "      <td>0</td>\n",
       "      <td>0.033081</td>\n",
       "      <td>2243.383952</td>\n",
       "      <td>116.5124</td>\n",
       "      <td>2293.774133</td>\n",
       "      <td>1987</td>\n",
       "      <td>2</td>\n",
       "      <td>2</td>\n",
       "      <td>1</td>\n",
       "    </tr>\n",
       "    <tr>\n",
       "      <th>5310</th>\n",
       "      <td>8.26</td>\n",
       "      <td>0</td>\n",
       "      <td>0.057586</td>\n",
       "      <td>2207.562163</td>\n",
       "      <td>113.7834</td>\n",
       "      <td>329.805362</td>\n",
       "      <td>1998</td>\n",
       "      <td>0</td>\n",
       "      <td>2</td>\n",
       "      <td>0</td>\n",
       "    </tr>\n",
       "    <tr>\n",
       "      <th>8297</th>\n",
       "      <td>18.35</td>\n",
       "      <td>0</td>\n",
       "      <td>0.015292</td>\n",
       "      <td>2207.562163</td>\n",
       "      <td>106.1938</td>\n",
       "      <td>2293.774133</td>\n",
       "      <td>1987</td>\n",
       "      <td>2</td>\n",
       "      <td>2</td>\n",
       "      <td>1</td>\n",
       "    </tr>\n",
       "    <tr>\n",
       "      <th>8286</th>\n",
       "      <td>20.70</td>\n",
       "      <td>0</td>\n",
       "      <td>0.039307</td>\n",
       "      <td>2243.383952</td>\n",
       "      <td>150.7366</td>\n",
       "      <td>2317.432292</td>\n",
       "      <td>1999</td>\n",
       "      <td>1</td>\n",
       "      <td>0</td>\n",
       "      <td>1</td>\n",
       "    </tr>\n",
       "    <tr>\n",
       "      <th>...</th>\n",
       "      <td>...</td>\n",
       "      <td>...</td>\n",
       "      <td>...</td>\n",
       "      <td>...</td>\n",
       "      <td>...</td>\n",
       "      <td>...</td>\n",
       "      <td>...</td>\n",
       "      <td>...</td>\n",
       "      <td>...</td>\n",
       "      <td>...</td>\n",
       "    </tr>\n",
       "    <tr>\n",
       "      <th>2895</th>\n",
       "      <td>12.35</td>\n",
       "      <td>1</td>\n",
       "      <td>0.277459</td>\n",
       "      <td>2197.126684</td>\n",
       "      <td>156.3946</td>\n",
       "      <td>335.544654</td>\n",
       "      <td>1985</td>\n",
       "      <td>0</td>\n",
       "      <td>0</td>\n",
       "      <td>0</td>\n",
       "    </tr>\n",
       "    <tr>\n",
       "      <th>7813</th>\n",
       "      <td>19.25</td>\n",
       "      <td>0</td>\n",
       "      <td>0.178193</td>\n",
       "      <td>2212.719720</td>\n",
       "      <td>54.9956</td>\n",
       "      <td>335.544654</td>\n",
       "      <td>1985</td>\n",
       "      <td>0</td>\n",
       "      <td>0</td>\n",
       "      <td>0</td>\n",
       "    </tr>\n",
       "    <tr>\n",
       "      <th>905</th>\n",
       "      <td>17.85</td>\n",
       "      <td>0</td>\n",
       "      <td>0.065810</td>\n",
       "      <td>2158.510195</td>\n",
       "      <td>149.1050</td>\n",
       "      <td>2297.093748</td>\n",
       "      <td>1997</td>\n",
       "      <td>0</td>\n",
       "      <td>0</td>\n",
       "      <td>1</td>\n",
       "    </tr>\n",
       "    <tr>\n",
       "      <th>5192</th>\n",
       "      <td>9.60</td>\n",
       "      <td>0</td>\n",
       "      <td>0.049618</td>\n",
       "      <td>2243.383952</td>\n",
       "      <td>44.2086</td>\n",
       "      <td>329.805362</td>\n",
       "      <td>1998</td>\n",
       "      <td>0</td>\n",
       "      <td>2</td>\n",
       "      <td>0</td>\n",
       "    </tr>\n",
       "    <tr>\n",
       "      <th>235</th>\n",
       "      <td>9.30</td>\n",
       "      <td>0</td>\n",
       "      <td>0.043574</td>\n",
       "      <td>2207.562163</td>\n",
       "      <td>192.8846</td>\n",
       "      <td>3698.704944</td>\n",
       "      <td>1985</td>\n",
       "      <td>1</td>\n",
       "      <td>2</td>\n",
       "      <td>3</td>\n",
       "    </tr>\n",
       "  </tbody>\n",
       "</table>\n",
       "<p>5966 rows × 10 columns</p>\n",
       "</div>"
      ],
      "text/plain": [
       "      item_weight  item_fat_content  item_visibility    item_type  item_mrp  \\\n",
       "7013        20.00                 0         0.058198  2071.277836  110.4544   \n",
       "1355        11.10                 0         0.033081  2243.383952  116.5124   \n",
       "5310         8.26                 0         0.057586  2207.562163  113.7834   \n",
       "8297        18.35                 0         0.015292  2207.562163  106.1938   \n",
       "8286        20.70                 0         0.039307  2243.383952  150.7366   \n",
       "...           ...               ...              ...          ...       ...   \n",
       "2895        12.35                 1         0.277459  2197.126684  156.3946   \n",
       "7813        19.25                 0         0.178193  2212.719720   54.9956   \n",
       "905         17.85                 0         0.065810  2158.510195  149.1050   \n",
       "5192         9.60                 0         0.049618  2243.383952   44.2086   \n",
       "235          9.30                 0         0.043574  2207.562163  192.8846   \n",
       "\n",
       "      outlet_identifier  outlet_establishment_year  outlet_size  \\\n",
       "7013        3698.704944                       1985            1   \n",
       "1355        2293.774133                       1987            2   \n",
       "5310         329.805362                       1998            0   \n",
       "8297        2293.774133                       1987            2   \n",
       "8286        2317.432292                       1999            1   \n",
       "...                 ...                        ...          ...   \n",
       "2895         335.544654                       1985            0   \n",
       "7813         335.544654                       1985            0   \n",
       "905         2297.093748                       1997            0   \n",
       "5192         329.805362                       1998            0   \n",
       "235         3698.704944                       1985            1   \n",
       "\n",
       "      outlet_location_type  outlet_type  \n",
       "7013                     2            3  \n",
       "1355                     2            1  \n",
       "5310                     2            0  \n",
       "8297                     2            1  \n",
       "8286                     0            1  \n",
       "...                    ...          ...  \n",
       "2895                     0            0  \n",
       "7813                     0            0  \n",
       "905                      0            1  \n",
       "5192                     2            0  \n",
       "235                      2            3  \n",
       "\n",
       "[5966 rows x 10 columns]"
      ]
     },
     "execution_count": 28,
     "metadata": {},
     "output_type": "execute_result"
    }
   ],
   "source": [
    "xtra"
   ]
  },
  {
   "cell_type": "markdown",
   "id": "644b41da",
   "metadata": {},
   "source": [
    "### Discretization <a id=\"4.3\"></a>"
   ]
  },
  {
   "cell_type": "markdown",
   "id": "83bc7cc7",
   "metadata": {},
   "source": [
    "For discretizing and binning the numerical features, it has been optimized using the following code blocks, so as to ensure the following steps in data wrangling utilises the best discretized dataset, in terms of the highest test r-sq value. These code blocks also uses the recommended mathematical formulas for calculating the number of bins to discretize the features and also deploy 2 methods which bins the features into either intervals of equal width or intervals of equal frequency."
   ]
  },
  {
   "cell_type": "markdown",
   "id": "d7b65a60",
   "metadata": {},
   "source": [
    "Firstly, a list of all the possible combinations of the features to be binned is made, as such.\n",
    "\n",
    "<code>\n",
    "    \n",
    "    import itertools\n",
    "    # based on histogram\n",
    "    ncols = [\"item_weight\", \"item_visibility\", \"item_mrp\"]\n",
    "    combi = []\n",
    "\n",
    "    for L in range(1, len(ncols) + 1):\n",
    "        for subset in itertools.combinations(ncols, L):\n",
    "            #print(subset)\n",
    "            subset = list(subset)\n",
    "            combi.append(subset)\n",
    "</code>\n",
    "\n",
    "where <code>combi</code> is list containing a list of features. In this scenario, the features chosen were \"item_weight\", \"item_visibility\", and \"item_mrp\", since they were continuous numerical features."
   ]
  },
  {
   "cell_type": "markdown",
   "id": "2983f208",
   "metadata": {},
   "source": [
    "Afterwards, mathematical formulas were used to calulcate a suitable number of bins for each technique. The formulas were : Sturge's rule, a variation of Sturge's rule and Freedman-Diaconis' Rule, as referenced from this [article](https://medium.datadriveninvestor.com/how-to-decide-on-the-number-of-bins-of-a-histogram-3c36dc5b1cd8).\n",
    "\n",
    "Thus, the number of bins were calculated as such.\n",
    "<code>\n",
    "    \n",
    "    # sturge's rule\n",
    "    n = len(xtra)\n",
    "    k = int(np.ceil(1 + (3.22 * np.log(n))))\n",
    "    # sturge's rule v2\n",
    "    k2 = int(1 + np.ceil(np.log2(n)))\n",
    "    # freedman's rule\n",
    "    def freedman(xtrab, f):\n",
    "        iqr = xtrab[f].quantile(0.75) - xtrab[f].quantile(0.25)\n",
    "        bin_width = (2 * iqr) / (len(xtrab[f]) ** (1 / 3))\n",
    "        bin_count = int(np.ceil((xtrab[f].max() - xtrab[f].min()) / bin_width))\n",
    "        return bin_count\n",
    "</code>"
   ]
  },
  {
   "cell_type": "markdown",
   "id": "889a6b03",
   "metadata": {},
   "source": [
    "Finally, using these values, the following code blocks loops through each possible combination of the features to be discretized, discretizes them into intervals of equal width using the 3 numbers of bins, and evaluating a model trained using the resulting dataset. This is done as such.\n",
    "\n",
    "<code>\n",
    "    \n",
    "    def sturge(xtrab, xtesb, features, k):\n",
    "        train_t , test_t = equalwidth_disc(xtrab,xtesb,features,k)\n",
    "        xtraf , xtesf = standardscale(train_t, test_t)\n",
    "        s_rmse, s_rmse2, s_rsq , s_rsq2 = evaluate(xtraf,xtesf,ytra,ytes)\n",
    "        return train_t, test_t, s_rsq2\n",
    "\n",
    "    bin_ls = []\n",
    "    \n",
    "    # no columns discretized\n",
    "    xtraf , xtesf = standardscale(xtrab, xtesb)\n",
    "    evalu = evaluate(xtraf,xtesf,ytra,ytes)\n",
    "    bin_ls.append([\"\",evalu[-1]])\n",
    "\n",
    "    # take this as a base\n",
    "    tra_t , tes_t = xtrab , xtesb\n",
    "    max_rsq = evalu[-1]\n",
    "    \n",
    "    for features in combi:\n",
    "        # sturges rule\n",
    "        train_t, test_t, s_rsq2 = sturge(xtrab, xtesb, features, k)\n",
    "        if s_rsq2 > max_rsq:# store if highest\n",
    "            tra_t , tes_t = train_t , test_t\n",
    "            max_rsq = s_rsq2 \n",
    "        # sturges v2 rule\n",
    "        train_t, test_t, s2_rsq2 = sturge(xtrab, xtesb, features, k2)\n",
    "        if s2_rsq2 > max_rsq:# store if highest \n",
    "            tra_t , tes_t = train_t , test_t\n",
    "            max_rsq = s2_rsq2\n",
    "        # for each feature in the features list\n",
    "        # freedman-diaconis rule\n",
    "        train_t = xtrab.copy()\n",
    "        test_t = xtesb.copy()\n",
    "        \n",
    "        for f in features:\n",
    "            train_t , test_t = equalwidth_disc(train_t , test_t,f,freedman(xtrab,f))\n",
    "        # take freedman's value\n",
    "        xtraf , xtesf = standardscale(train_t, test_t)\n",
    "        f_rmse, f_rmse2, f_rsq , f_rsq2 = evaluate(xtraf,xtesf,ytra,ytes)\n",
    "        \n",
    "        if f_rsq2 > max_rsq:# store if highest \n",
    "            tra_t , tes_t = train_t , test_t\n",
    "            max_rsq = f_rsq2\n",
    "    \n",
    "        bin_ls.append([features, s_rsq2, s2_rsq2, f_rsq2])\n",
    "    \n",
    "\n",
    "</code>\n",
    "\n",
    "To reiterate, this works by taking each combination of feature. After applying the discretization function using the 3 different numbers of bins, the dataset is used to train a model.Lastly, this model will evaluate its performance and record down the model's test r-sq value. Afterwards, the list <code>bin_ls</code> will be converted in a DataFrame as shown and displayed as such.\n",
    "\n",
    "<code>\n",
    "    \n",
    "    df_d = pd.DataFrame(data = bin_ls,\n",
    "                             columns = [\"feature\",\"sturge\",\"v2\",\"freedman\"])\n",
    "</code>"
   ]
  },
  {
   "cell_type": "markdown",
   "id": "b141f065",
   "metadata": {},
   "source": [
    "<table>\n",
    "  <caption>Different Combinations of Features' Test R-square Results / contents of df_d</caption>\n",
    "  <tr>\n",
    "    <th>Feature(s)</th>\n",
    "    <th>sturge</th>\n",
    "    <th>v2</th>\n",
    "    <th>freedman</th>\n",
    "  </tr>\n",
    "  <tr>\n",
    "    <td> - </td>\n",
    "    <td>0.568885</td>\n",
    "    <td>NaN</td>\n",
    "    <td>NaN</td>\n",
    "  </tr>\n",
    "  <tr>\n",
    "    <td>[item_weight]</td>\n",
    "    <td>0.568885</td>\n",
    "    <td>0.568885</td>\n",
    "    <td>0.568863</td>\n",
    "  </tr>\n",
    "  <tr>\n",
    "    <td>[item_visibility]</td>\n",
    "    <td>0.568878</td>\n",
    "    <td>0.568875</td>\n",
    "    <td>0.568871</td>\n",
    "  </tr>\n",
    "  <tr>\n",
    "    <td>[item_mrp]</td>\n",
    "    <td>0.568503</td>\n",
    "    <td>0.567239</td>\n",
    "    <td style = \"background-color:#FFFFBF\">0.569962</td>\n",
    "  </tr>\n",
    "  <tr>\n",
    "    <td>[item_weight, item_visibility]</td>\n",
    "    <td>0.568858</td>\n",
    "    <td>0.568875</td>\n",
    "    <td>0.568849</td>\n",
    "  </tr>\n",
    "  <tr>\n",
    "    <td>[item_weight, item_mrp]</td>\n",
    "    <td>0.568482</td>\n",
    "    <td>0.567235</td>\n",
    "    <td>0.569939</td>\n",
    "  </tr>\n",
    "  <tr>\n",
    "    <td>[item_visibility, item_mrp]\t</td>\n",
    "    <td>0.568539</td>\n",
    "    <td>0.567220</td>\n",
    "    <td>0.569948</td>\n",
    "  </tr>\n",
    "  <tr>\n",
    "    <td>[item_weight, item_visibility, item_mrp]</td>\n",
    "    <td>0.568477</td>\n",
    "    <td>0.567216</td>\n",
    "    <td>0.569926</td>\n",
    "  </tr>    \n",
    "</table>"
   ]
  },
  {
   "cell_type": "markdown",
   "id": "67c9672f",
   "metadata": {},
   "source": [
    "A similar process was done afterwards, where its the same code blocks but the <code>equalwidth_disc</code> is replaced with <code>equalfreq_disc</code> function, where:\n",
    "\n",
    "<code>\n",
    "    \n",
    "    def equalfreq_disc(X_train, X_test, y_train, var_discr, q):\n",
    "        from feature_engine.discretisation import EqualFrequencyDiscretiser\n",
    "        disc = EqualFrequencyDiscretiser(\n",
    "        q=q, variables=var_discr, return_object=True)\n",
    "        disc.fit(X_train)\n",
    "        train_t = disc.transform(X_train)\n",
    "        test_t = disc.transform(X_test)\n",
    "    \n",
    "        # ordinal encoder\n",
    "        from feature_engine.encoding import OrdinalEncoder\n",
    "        enc = OrdinalEncoder(encoding_method = 'ordered')\n",
    "        enc.fit(train_t, y_train)\n",
    "    \n",
    "        train_t = enc.transform(train_t)\n",
    "        test_t = enc.transform(test_t)\n",
    "    \n",
    "        return train_t , test_t\n",
    "</code>\n",
    "\n",
    "This same loop was used above to automate finding the best number of bins to discretize the right combination of features into intervals of equal frequency. However, discretizing the features into intervals of equal frequency exhibited poorer model performance, with the highest test r-sq being <mark style=\"background-color:#FFFFBF\" > 0.56941 </mark> by using the variation of Sturge's rule when discretizing \"item_weight\" and \"item_visibility\"."
   ]
  },
  {
   "cell_type": "markdown",
   "id": "f18877ea",
   "metadata": {},
   "source": [
    "After multiple of runs done using both code blocks, it happens to be that discretizing the feature \"item_mrp\" into intervals of equal width yields the highest test r-sq value of 0.569962."
   ]
  },
  {
   "cell_type": "code",
   "execution_count": 29,
   "id": "3cfb40a8",
   "metadata": {},
   "outputs": [],
   "source": [
    "def equalwidth_disc(X_train, X_test , var, bins):\n",
    "    from feature_engine.discretisation import EqualWidthDiscretiser\n",
    "    \n",
    "    disc = EqualWidthDiscretiser(bins=bins, variables = var)\n",
    "\n",
    "    disc.fit(X_train)\n",
    "    \n",
    "    train_t = disc.transform(X_train)\n",
    "    test_t = disc.transform(X_test)\n",
    "    \n",
    "    return train_t, test_t\n",
    "\n",
    "def freedman(xtrab, f):\n",
    "    iqr = xtrab[f].quantile(0.75) - xtrab[f].quantile(0.25)\n",
    "    bin_width = (2 * iqr) / (len(xtrab[f]) ** (1 / 3))\n",
    "    bin_count = int(np.ceil((xtrab[f].max() - xtrab[f].min()) / bin_width))\n",
    "    \n",
    "    return bin_count"
   ]
  },
  {
   "cell_type": "code",
   "execution_count": 30,
   "id": "c9c94fe4",
   "metadata": {},
   "outputs": [],
   "source": [
    "features = [\"item_mrp\"]\n",
    "for f in features:\n",
    "    train_t , test_t = equalwidth_disc(xtra,xtes,f,freedman(xtra,f))"
   ]
  },
  {
   "cell_type": "code",
   "execution_count": 31,
   "id": "6caf4d07",
   "metadata": {},
   "outputs": [
    {
     "data": {
      "text/html": [
       "<div>\n",
       "<style scoped>\n",
       "    .dataframe tbody tr th:only-of-type {\n",
       "        vertical-align: middle;\n",
       "    }\n",
       "\n",
       "    .dataframe tbody tr th {\n",
       "        vertical-align: top;\n",
       "    }\n",
       "\n",
       "    .dataframe thead th {\n",
       "        text-align: right;\n",
       "    }\n",
       "</style>\n",
       "<table border=\"1\" class=\"dataframe\">\n",
       "  <thead>\n",
       "    <tr style=\"text-align: right;\">\n",
       "      <th></th>\n",
       "      <th>item_weight</th>\n",
       "      <th>item_fat_content</th>\n",
       "      <th>item_visibility</th>\n",
       "      <th>item_type</th>\n",
       "      <th>item_mrp</th>\n",
       "      <th>outlet_identifier</th>\n",
       "      <th>outlet_establishment_year</th>\n",
       "      <th>outlet_size</th>\n",
       "      <th>outlet_location_type</th>\n",
       "      <th>outlet_type</th>\n",
       "    </tr>\n",
       "  </thead>\n",
       "  <tbody>\n",
       "    <tr>\n",
       "      <th>7013</th>\n",
       "      <td>20.00</td>\n",
       "      <td>0</td>\n",
       "      <td>0.058198</td>\n",
       "      <td>2071.277836</td>\n",
       "      <td>8</td>\n",
       "      <td>3698.704944</td>\n",
       "      <td>1985</td>\n",
       "      <td>1</td>\n",
       "      <td>2</td>\n",
       "      <td>3</td>\n",
       "    </tr>\n",
       "    <tr>\n",
       "      <th>1355</th>\n",
       "      <td>11.10</td>\n",
       "      <td>0</td>\n",
       "      <td>0.033081</td>\n",
       "      <td>2243.383952</td>\n",
       "      <td>8</td>\n",
       "      <td>2293.774133</td>\n",
       "      <td>1987</td>\n",
       "      <td>2</td>\n",
       "      <td>2</td>\n",
       "      <td>1</td>\n",
       "    </tr>\n",
       "    <tr>\n",
       "      <th>5310</th>\n",
       "      <td>8.26</td>\n",
       "      <td>0</td>\n",
       "      <td>0.057586</td>\n",
       "      <td>2207.562163</td>\n",
       "      <td>8</td>\n",
       "      <td>329.805362</td>\n",
       "      <td>1998</td>\n",
       "      <td>0</td>\n",
       "      <td>2</td>\n",
       "      <td>0</td>\n",
       "    </tr>\n",
       "    <tr>\n",
       "      <th>8297</th>\n",
       "      <td>18.35</td>\n",
       "      <td>0</td>\n",
       "      <td>0.015292</td>\n",
       "      <td>2207.562163</td>\n",
       "      <td>7</td>\n",
       "      <td>2293.774133</td>\n",
       "      <td>1987</td>\n",
       "      <td>2</td>\n",
       "      <td>2</td>\n",
       "      <td>1</td>\n",
       "    </tr>\n",
       "    <tr>\n",
       "      <th>8286</th>\n",
       "      <td>20.70</td>\n",
       "      <td>0</td>\n",
       "      <td>0.039307</td>\n",
       "      <td>2243.383952</td>\n",
       "      <td>12</td>\n",
       "      <td>2317.432292</td>\n",
       "      <td>1999</td>\n",
       "      <td>1</td>\n",
       "      <td>0</td>\n",
       "      <td>1</td>\n",
       "    </tr>\n",
       "    <tr>\n",
       "      <th>...</th>\n",
       "      <td>...</td>\n",
       "      <td>...</td>\n",
       "      <td>...</td>\n",
       "      <td>...</td>\n",
       "      <td>...</td>\n",
       "      <td>...</td>\n",
       "      <td>...</td>\n",
       "      <td>...</td>\n",
       "      <td>...</td>\n",
       "      <td>...</td>\n",
       "    </tr>\n",
       "    <tr>\n",
       "      <th>2895</th>\n",
       "      <td>12.35</td>\n",
       "      <td>1</td>\n",
       "      <td>0.277459</td>\n",
       "      <td>2197.126684</td>\n",
       "      <td>12</td>\n",
       "      <td>335.544654</td>\n",
       "      <td>1985</td>\n",
       "      <td>0</td>\n",
       "      <td>0</td>\n",
       "      <td>0</td>\n",
       "    </tr>\n",
       "    <tr>\n",
       "      <th>7813</th>\n",
       "      <td>19.25</td>\n",
       "      <td>0</td>\n",
       "      <td>0.178193</td>\n",
       "      <td>2212.719720</td>\n",
       "      <td>2</td>\n",
       "      <td>335.544654</td>\n",
       "      <td>1985</td>\n",
       "      <td>0</td>\n",
       "      <td>0</td>\n",
       "      <td>0</td>\n",
       "    </tr>\n",
       "    <tr>\n",
       "      <th>905</th>\n",
       "      <td>17.85</td>\n",
       "      <td>0</td>\n",
       "      <td>0.065810</td>\n",
       "      <td>2158.510195</td>\n",
       "      <td>12</td>\n",
       "      <td>2297.093748</td>\n",
       "      <td>1997</td>\n",
       "      <td>0</td>\n",
       "      <td>0</td>\n",
       "      <td>1</td>\n",
       "    </tr>\n",
       "    <tr>\n",
       "      <th>5192</th>\n",
       "      <td>9.60</td>\n",
       "      <td>0</td>\n",
       "      <td>0.049618</td>\n",
       "      <td>2243.383952</td>\n",
       "      <td>1</td>\n",
       "      <td>329.805362</td>\n",
       "      <td>1998</td>\n",
       "      <td>0</td>\n",
       "      <td>2</td>\n",
       "      <td>0</td>\n",
       "    </tr>\n",
       "    <tr>\n",
       "      <th>235</th>\n",
       "      <td>9.30</td>\n",
       "      <td>0</td>\n",
       "      <td>0.043574</td>\n",
       "      <td>2207.562163</td>\n",
       "      <td>16</td>\n",
       "      <td>3698.704944</td>\n",
       "      <td>1985</td>\n",
       "      <td>1</td>\n",
       "      <td>2</td>\n",
       "      <td>3</td>\n",
       "    </tr>\n",
       "  </tbody>\n",
       "</table>\n",
       "<p>5966 rows × 10 columns</p>\n",
       "</div>"
      ],
      "text/plain": [
       "      item_weight  item_fat_content  item_visibility    item_type  item_mrp  \\\n",
       "7013        20.00                 0         0.058198  2071.277836         8   \n",
       "1355        11.10                 0         0.033081  2243.383952         8   \n",
       "5310         8.26                 0         0.057586  2207.562163         8   \n",
       "8297        18.35                 0         0.015292  2207.562163         7   \n",
       "8286        20.70                 0         0.039307  2243.383952        12   \n",
       "...           ...               ...              ...          ...       ...   \n",
       "2895        12.35                 1         0.277459  2197.126684        12   \n",
       "7813        19.25                 0         0.178193  2212.719720         2   \n",
       "905         17.85                 0         0.065810  2158.510195        12   \n",
       "5192         9.60                 0         0.049618  2243.383952         1   \n",
       "235          9.30                 0         0.043574  2207.562163        16   \n",
       "\n",
       "      outlet_identifier  outlet_establishment_year  outlet_size  \\\n",
       "7013        3698.704944                       1985            1   \n",
       "1355        2293.774133                       1987            2   \n",
       "5310         329.805362                       1998            0   \n",
       "8297        2293.774133                       1987            2   \n",
       "8286        2317.432292                       1999            1   \n",
       "...                 ...                        ...          ...   \n",
       "2895         335.544654                       1985            0   \n",
       "7813         335.544654                       1985            0   \n",
       "905         2297.093748                       1997            0   \n",
       "5192         329.805362                       1998            0   \n",
       "235         3698.704944                       1985            1   \n",
       "\n",
       "      outlet_location_type  outlet_type  \n",
       "7013                     2            3  \n",
       "1355                     2            1  \n",
       "5310                     2            0  \n",
       "8297                     2            1  \n",
       "8286                     0            1  \n",
       "...                    ...          ...  \n",
       "2895                     0            0  \n",
       "7813                     0            0  \n",
       "905                      0            1  \n",
       "5192                     2            0  \n",
       "235                      2            3  \n",
       "\n",
       "[5966 rows x 10 columns]"
      ]
     },
     "execution_count": 31,
     "metadata": {},
     "output_type": "execute_result"
    }
   ],
   "source": [
    "train_t"
   ]
  },
  {
   "cell_type": "markdown",
   "id": "a4ff02d2",
   "metadata": {},
   "source": [
    "[Back to top](#top)"
   ]
  },
  {
   "cell_type": "markdown",
   "id": "85ab4265",
   "metadata": {},
   "source": [
    "## Feature Engineering <a id=\"5\"></a>"
   ]
  },
  {
   "cell_type": "markdown",
   "id": "6408805b",
   "metadata": {},
   "source": [
    "The following is the functions used in this section."
   ]
  },
  {
   "cell_type": "code",
   "execution_count": 32,
   "id": "7d5788df",
   "metadata": {},
   "outputs": [],
   "source": [
    "def standardscale(X_train , X_test):\n",
    "    from sklearn.preprocessing import StandardScaler\n",
    "    # set up the scaler\n",
    "    scaler = StandardScaler()\n",
    "\n",
    "    # fit the scaler to the train set, it will learn the parameters\n",
    "    scaler.fit(X_train)\n",
    "\n",
    "    # transform train and test sets\n",
    "    X_train_scaled = scaler.transform(X_train)\n",
    "    X_test_scaled = scaler.transform(X_test)\n",
    "    \n",
    "    X_train_scaled = pd.DataFrame(X_train_scaled, columns=X_train.columns)\n",
    "    X_test_scaled = pd.DataFrame(X_test_scaled, columns=X_test.columns)\n",
    "    \n",
    "    return X_train_scaled , X_test_scaled"
   ]
  },
  {
   "cell_type": "markdown",
   "id": "53b4a48c",
   "metadata": {},
   "source": [
    "### Creation / Dropping <a id=\"5.1\"></a>"
   ]
  },
  {
   "cell_type": "markdown",
   "id": "af4dbb25",
   "metadata": {},
   "source": [
    "For creation of features, 2 new features were added into the datasets, where:\n",
    "<code>\n",
    "    \n",
    "    # outlet_years_opened\n",
    "    df[\"outlet_years_opened\"] = 2022 - df[\"outlet_establishment_year\"]\n",
    "    \n",
    "    # outlet_item_count\n",
    "    outlet = df.groupby(\"outlet_identifier\")[\"item_identifier\"].count().reset_index()\n",
    "    for i in outlet.values:\n",
    "        print(i)\n",
    "        i_id = i[0]\n",
    "        i_c = i[1]\n",
    "        df.loc[df[\"outlet_identifier\"] == i_id,\"outlet_item_count\"] = i_c\n",
    "    \n",
    "</code>    "
   ]
  },
  {
   "cell_type": "markdown",
   "id": "aa9879ed",
   "metadata": {},
   "source": [
    "Using the above code block, 4 tests were ran with none, one of either, or both features were included into the dataset when building a model. After each test, the models' test r-sq was recorded in the table below:"
   ]
  },
  {
   "cell_type": "markdown",
   "id": "8315669f",
   "metadata": {},
   "source": [
    "<table>\n",
    "  <caption> New Columns' Test R-square Results </caption>\n",
    "  <tr>\n",
    "    <th> - </th>  \n",
    "    <th>outlet_years_opened</th>\n",
    "    <th>outlet_item_count</th>\n",
    "    <th>both</th>\n",
    "  </tr>\n",
    "  <tr>\n",
    "    <td style = \"background-color : #FFFFBF\">0.5711998207461684</td>\n",
    "    <td>0.5492105999042165</td>\n",
    "    <td style = \"background-color : #FFFFBF\">0.5711998207461684</td>\n",
    "    <td>0.5684000460922365</td>\n",
    "  </tr>\n",
    "</table>"
   ]
  },
  {
   "cell_type": "markdown",
   "id": "cbc4ff43",
   "metadata": {},
   "source": [
    "Unfortunately, all the above sections were ran after adding both features at the start. Only now were they further investigated and was found out that not adding any more caused the model to perform better. This information will only take effect moving forward. This is surprising as there was an initial expectation where the number of years an outlet was opened could affect the total sales accumulated, and that total item count in each outlet would affect how much was sold."
   ]
  },
  {
   "cell_type": "markdown",
   "id": "9acee865",
   "metadata": {},
   "source": [
    "In hindsight, creating these features early on in the trial and error phase was detrimental, as this insight was only found out too late. It is a shame that feature engineering was later on in the report, for the sake of a better flow in the document."
   ]
  },
  {
   "cell_type": "markdown",
   "id": "f64c2daf",
   "metadata": {},
   "source": [
    "For dropping of features, a method similar to the one used in discretization was once again used to optimize the process, where:\n",
    "\n",
    "<code>\n",
    "    \n",
    "    ncols = xtra.columns\n",
    "    ncombi = []\n",
    "\n",
    "    for L in range(1, len(ncols) + 1):\n",
    "        for subset in itertools.combinations(ncols, L):\n",
    "            #print(subset)\n",
    "            subset = list(subset)\n",
    "            ncombi.append(subset)\n",
    "    \n",
    "    ncols = xtra.columns\n",
    "    ncombi = []\n",
    "\n",
    "    for L in range(1, len(ncols) + 1):\n",
    "        for subset in itertools.combinations(ncols, L):\n",
    "            #print(subset)\n",
    "            subset = list(subset)\n",
    "            ncombi.append(subset)\n",
    "</code>\n",
    "\n",
    "Using the above code block, the best combination of features to be used for training the model would be <code>['item_fat_content', 'item_mrp', 'outlet_identifier']</code> which would result in a test r-sq of <mark style = \"background-color : #FFFFBF\"> 0.5711998207461684 .</mark>"
   ]
  },
  {
   "cell_type": "code",
   "execution_count": 33,
   "id": "0d553c77",
   "metadata": {},
   "outputs": [],
   "source": [
    "features = ['item_fat_content', 'item_mrp', 'outlet_identifier']\n",
    "\n",
    "train_t = train_t[features]\n",
    "test_t = test_t[features]"
   ]
  },
  {
   "cell_type": "code",
   "execution_count": 34,
   "id": "6c81648a",
   "metadata": {},
   "outputs": [
    {
     "data": {
      "text/html": [
       "<div>\n",
       "<style scoped>\n",
       "    .dataframe tbody tr th:only-of-type {\n",
       "        vertical-align: middle;\n",
       "    }\n",
       "\n",
       "    .dataframe tbody tr th {\n",
       "        vertical-align: top;\n",
       "    }\n",
       "\n",
       "    .dataframe thead th {\n",
       "        text-align: right;\n",
       "    }\n",
       "</style>\n",
       "<table border=\"1\" class=\"dataframe\">\n",
       "  <thead>\n",
       "    <tr style=\"text-align: right;\">\n",
       "      <th></th>\n",
       "      <th>item_fat_content</th>\n",
       "      <th>item_mrp</th>\n",
       "      <th>outlet_identifier</th>\n",
       "    </tr>\n",
       "  </thead>\n",
       "  <tbody>\n",
       "    <tr>\n",
       "      <th>7013</th>\n",
       "      <td>0</td>\n",
       "      <td>8</td>\n",
       "      <td>3698.704944</td>\n",
       "    </tr>\n",
       "    <tr>\n",
       "      <th>1355</th>\n",
       "      <td>0</td>\n",
       "      <td>8</td>\n",
       "      <td>2293.774133</td>\n",
       "    </tr>\n",
       "    <tr>\n",
       "      <th>5310</th>\n",
       "      <td>0</td>\n",
       "      <td>8</td>\n",
       "      <td>329.805362</td>\n",
       "    </tr>\n",
       "    <tr>\n",
       "      <th>8297</th>\n",
       "      <td>0</td>\n",
       "      <td>7</td>\n",
       "      <td>2293.774133</td>\n",
       "    </tr>\n",
       "    <tr>\n",
       "      <th>8286</th>\n",
       "      <td>0</td>\n",
       "      <td>12</td>\n",
       "      <td>2317.432292</td>\n",
       "    </tr>\n",
       "    <tr>\n",
       "      <th>...</th>\n",
       "      <td>...</td>\n",
       "      <td>...</td>\n",
       "      <td>...</td>\n",
       "    </tr>\n",
       "    <tr>\n",
       "      <th>2895</th>\n",
       "      <td>1</td>\n",
       "      <td>12</td>\n",
       "      <td>335.544654</td>\n",
       "    </tr>\n",
       "    <tr>\n",
       "      <th>7813</th>\n",
       "      <td>0</td>\n",
       "      <td>2</td>\n",
       "      <td>335.544654</td>\n",
       "    </tr>\n",
       "    <tr>\n",
       "      <th>905</th>\n",
       "      <td>0</td>\n",
       "      <td>12</td>\n",
       "      <td>2297.093748</td>\n",
       "    </tr>\n",
       "    <tr>\n",
       "      <th>5192</th>\n",
       "      <td>0</td>\n",
       "      <td>1</td>\n",
       "      <td>329.805362</td>\n",
       "    </tr>\n",
       "    <tr>\n",
       "      <th>235</th>\n",
       "      <td>0</td>\n",
       "      <td>16</td>\n",
       "      <td>3698.704944</td>\n",
       "    </tr>\n",
       "  </tbody>\n",
       "</table>\n",
       "<p>5966 rows × 3 columns</p>\n",
       "</div>"
      ],
      "text/plain": [
       "      item_fat_content  item_mrp  outlet_identifier\n",
       "7013                 0         8        3698.704944\n",
       "1355                 0         8        2293.774133\n",
       "5310                 0         8         329.805362\n",
       "8297                 0         7        2293.774133\n",
       "8286                 0        12        2317.432292\n",
       "...                ...       ...                ...\n",
       "2895                 1        12         335.544654\n",
       "7813                 0         2         335.544654\n",
       "905                  0        12        2297.093748\n",
       "5192                 0         1         329.805362\n",
       "235                  0        16        3698.704944\n",
       "\n",
       "[5966 rows x 3 columns]"
      ]
     },
     "execution_count": 34,
     "metadata": {},
     "output_type": "execute_result"
    }
   ],
   "source": [
    "train_t"
   ]
  },
  {
   "cell_type": "markdown",
   "id": "73641ad2",
   "metadata": {},
   "source": [
    "### Scaling <a id=\"5.2\"></a>"
   ]
  },
  {
   "cell_type": "markdown",
   "id": "30ecbdfd",
   "metadata": {},
   "source": [
    "To facilitate the process, two scalers were pre-recommended: Min-Max Scaler and Standardization. The following table will illustrate the model performance when scaled by these two."
   ]
  },
  {
   "cell_type": "markdown",
   "id": "3e9a112f",
   "metadata": {},
   "source": [
    "<table>\n",
    "  <caption> Scaling's Evaluation Results </caption>\n",
    "  <tr>\n",
    "    <th> Metric </th>  \n",
    "    <th>Min Max</th>\n",
    "    <th>Standardization</th>\n",
    "  </tr>\n",
    "  <tr>\n",
    "    <th> Train RMSE </th>  \n",
    "    <td>1281184.5438581817</td>\n",
    "    <td>1281184.5438581817</td>\n",
    "  </tr>\n",
    "  <tr>\n",
    "    <th> Test RMSE </th>  \n",
    "    <td>1247336.375066028</td>\n",
    "    <td>1247336.375066028</td>\n",
    "  </tr>\n",
    "  <tr>\n",
    "    <th> Train R-sq </th>  \n",
    "    <td>0.5601501213579889</td>\n",
    "    <td>0.5601501213579889</td>\n",
    "  </tr>\n",
    "  <tr>\n",
    "    <th> Test R-sq </th>  \n",
    "    <td>0.5711998207461684</td>\n",
    "    <td>0.5492105999042165</td>\n",
    "  </tr>\n",
    "</table>"
   ]
  },
  {
   "cell_type": "markdown",
   "id": "fb91cd7b",
   "metadata": {},
   "source": [
    "As seen in above, both scalers would yield the exact results. Thus, there is no harm is using standardization."
   ]
  },
  {
   "cell_type": "code",
   "execution_count": 35,
   "id": "d23b8384",
   "metadata": {},
   "outputs": [],
   "source": [
    "xtraf , xtesf = standardscale(train_t, test_t)"
   ]
  },
  {
   "cell_type": "markdown",
   "id": "8b3562f9",
   "metadata": {},
   "source": [
    "[Back to top](#top)"
   ]
  },
  {
   "cell_type": "markdown",
   "id": "c13af11b",
   "metadata": {},
   "source": [
    "## Linear Regression Model <a id=\"6\"></a>"
   ]
  },
  {
   "cell_type": "markdown",
   "id": "cf15f521",
   "metadata": {},
   "source": [
    "Linear regression is defined as a machine learning model in which the model finds the best fit linear line between the independent and dependent variables in which the aim is to find the best fit linear line and the optimal values of intercept and coefficients such that errors are minimized. For the purpose of this analysis, the goal is to use the X variables e.g. columns other than item outlet sales,to predict the item outlet sales (y variable, or target variable)."
   ]
  },
  {
   "cell_type": "markdown",
   "id": "0524ef5d",
   "metadata": {},
   "source": [
    "### Build <a id=\"6.1\"></a>"
   ]
  },
  {
   "cell_type": "markdown",
   "id": "4d9a2e0a",
   "metadata": {},
   "source": [
    "In order to evaluate the model performance of a linear regression model, a range of measures can be used, but in this ASG1 we will focus on only 2:\n",
    "\n",
    "- Root Mean Square Error (RMSE): The RMSE is the square root of the variance of the residuals, that is, the squared differences between prediction and actual observation. Lower values of RMSE indicate better fit and model performance.\n",
    "- R-Square: R-square represents the percentage of the response variable variation that is explained by a linear model. The closer to 1.0 the value of R-square, the more indicative of a better fit and model performance."
   ]
  },
  {
   "cell_type": "markdown",
   "id": "d50ee403",
   "metadata": {},
   "source": [
    "The following code block contains the functions to build the linear regression model."
   ]
  },
  {
   "cell_type": "code",
   "execution_count": 36,
   "id": "3ce89a3b",
   "metadata": {},
   "outputs": [],
   "source": [
    "def evaluate(X_train_final,X_test_final, y_train_final, y_test_final):\n",
    "    from sklearn.linear_model import LinearRegression\n",
    "    from sklearn.metrics import mean_squared_error\n",
    "    from sklearn.metrics import r2_score\n",
    "    # Build Linear Regression Model\n",
    "    model_linear_regression = LinearRegression()\n",
    "    model_linear_regression.fit(X_train_final, y_train_final)\n",
    "    \n",
    "    # save as variables\n",
    "    train_rmse = mean_squared_error(y_train_final, model_linear_regression.predict(X_train_final))\n",
    "    test_rmse = mean_squared_error(y_test_final, model_linear_regression.predict(X_test_final))\n",
    "    \n",
    "    train_rsq = r2_score(y_train_final, model_linear_regression.predict(X_train_final))\n",
    "    test_rsq = r2_score(y_test_final, model_linear_regression.predict(X_test_final))\n",
    "\n",
    "    return [train_rmse, test_rmse, train_rsq, test_rsq]\n",
    "\n",
    "def show_eval(evaluation_ls):\n",
    "    \n",
    "    train_rmse = evaluation_ls[0]\n",
    "    test_rmse = evaluation_ls[1]\n",
    "    train_rsq = evaluation_ls[2]\n",
    "    test_rsq = evaluation_ls[3]\n",
    "    \n",
    "    # Evaluate the Linear Regression Model using Root Mean Square Error (RMSE)\n",
    "    # The lower MAE, the better the model performance\n",
    "    print('train_rmse:', train_rmse, \n",
    "          '\\n test_rmse:', test_rmse)\n",
    "\n",
    "    # Evaluate the Linear Regression Model using R-Square\n",
    "    # The closer the r-square value to 1, the better the model performance\n",
    "    print('train_r-sq:', train_rsq, \n",
    "          '\\n test_r-sq:', test_rsq)"
   ]
  },
  {
   "cell_type": "markdown",
   "id": "d8e5a2d7",
   "metadata": {},
   "source": [
    "### Evaluate <a id=\"6.2\"></a>"
   ]
  },
  {
   "cell_type": "code",
   "execution_count": 37,
   "id": "863ec63b",
   "metadata": {},
   "outputs": [
    {
     "name": "stdout",
     "output_type": "stream",
     "text": [
      "train_rmse: 1281184.5438581817 \n",
      " test_rmse: 1247336.375066028\n",
      "train_r-sq: 0.5601501213579889 \n",
      " test_r-sq: 0.5711998207461684\n"
     ]
    }
   ],
   "source": [
    "show_eval(evaluate(xtraf,xtesf,ytra,ytes))"
   ]
  },
  {
   "cell_type": "markdown",
   "id": "68cbcdba",
   "metadata": {},
   "source": [
    "## Summary <a id = \"end\"></a>"
   ]
  },
  {
   "cell_type": "markdown",
   "id": "dd2a3e37",
   "metadata": {},
   "source": [
    "At its best, the model can perform as such.\n",
    "\n",
    "<table>\n",
    "  <caption> Final Model's Evaluation Results </caption>\n",
    "  <tr>\n",
    "    <th> Metric </th>  \n",
    "    <th> Value </th>\n",
    "  </tr>\n",
    "  <tr>\n",
    "    <th> Train RMSE </th>  \n",
    "    <td>1281184.5438581817</td>\n",
    "  </tr>\n",
    "  <tr>\n",
    "    <th> Test RMSE </th>  \n",
    "    <td>1247336.375066028</td>\n",
    "  </tr>\n",
    "  <tr>\n",
    "    <th> Train R-sq </th>  \n",
    "    <td>0.5601501213579889</td>\n",
    "  </tr>\n",
    "  <tr>\n",
    "    <th> Test R-sq </th>  \n",
    "    <td>0.5711998207461684</td>\n",
    "  </tr>\n",
    "</table>"
   ]
  },
  {
   "cell_type": "markdown",
   "id": "2ea75524",
   "metadata": {},
   "source": [
    "This is achieved through:\n",
    "- imputating missing values in \"item_weight\" with each items' max weight\n",
    "- imputating missing values in \"outlet_size\" with Small\n",
    "- cleaning the dataset, particularly \"item_fat_content\"\n",
    "- encoding as many categorical variables as according to the original data's meaning\n",
    "- encoding the remaining (\"outlet_identifier\") using mean target encoding\n",
    "- binning \"item_mrp\" into intervals of equal width\n",
    "- only selecting the features 'item_fat_content', 'item_mrp', 'outlet_identifier' for training"
   ]
  },
  {
   "cell_type": "markdown",
   "id": "641e0abd",
   "metadata": {},
   "source": [
    "### Further improvement <a id=\"7.1\"></a>"
   ]
  },
  {
   "cell_type": "markdown",
   "id": "81476c80",
   "metadata": {},
   "source": [
    "Nonetheless, there is still more avenues to explore for further improvement."
   ]
  },
  {
   "cell_type": "markdown",
   "id": "4235e415",
   "metadata": {},
   "source": [
    "Some suggestions would include:\n",
    "- doing stratified sampling in terms of any of the categorical columns\n",
    "- creating more features derived from the original dataset\n",
    "- trying more numerical transformations onto the features\n",
    "- discretizing the feature relating to years\n",
    "<br>\n",
    "etc."
   ]
  },
  {
   "cell_type": "markdown",
   "id": "41a9276e",
   "metadata": {},
   "source": [
    "[Back to top](#top)"
   ]
  }
 ],
 "metadata": {
  "kernelspec": {
   "display_name": "Python 3 (ipykernel)",
   "language": "python",
   "name": "python3"
  },
  "language_info": {
   "codemirror_mode": {
    "name": "ipython",
    "version": 3
   },
   "file_extension": ".py",
   "mimetype": "text/x-python",
   "name": "python",
   "nbconvert_exporter": "python",
   "pygments_lexer": "ipython3",
   "version": "3.9.7"
  }
 },
 "nbformat": 4,
 "nbformat_minor": 5
}
